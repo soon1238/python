{
 "cells": [
  {
   "cell_type": "code",
   "execution_count": 1,
   "metadata": {},
   "outputs": [
    {
     "name": "stdout",
     "output_type": "stream",
     "text": [
      "\n",
      "In probability theory and statistics, Bayes’ theorem (alternatively Bayes’ law or Bayes' rule) describes the probability of an event, based on prior knowledge of conditions that might be related to the event. For example, if cancer is related to age, then, using Bayes’ theorem, a person’s age can be used to more accurately assess the probability that they have cancer, compared to the assessment of the probability of cancer made without knowledge of the person's age.\n",
      "One of the many applications of Bayes' theorem is Bayesian inference, a particular approach to statistical inference. When applied, the probabilities involved in Bayes' theorem may have different probability interpretations. With the Bayesian probability interpretation the theorem expresses how a subjective degree of belief should rationally change to account for availability of related evidence. Bayesian inference is fundamental to Bayesian statistics.\n",
      "Bayes’ theorem is named after Reverend Thomas Bayes (/beɪz/; 1701–1761), who first provided an equation that allows new evidence to update beliefs in his An Essay towards solving a Problem in the Doctrine of Chances (1763). It was further developed by Pierre-Simon Laplace, who first published the modern formulation in his 1812 \"Théorie analytique des probabilités\". Sir Harold Jeffreys put Bayes’ algorithm and Laplace's formulation on an axiomatic basis. Jeffreys wrote that Bayes' theorem \"is to the theory of probability what the Pythagorean theorem is to geometry\".[1]\n",
      "\n"
     ]
    },
    {
     "ename": "NameError",
     "evalue": "name 'count_occurances_of_this_word' is not defined",
     "output_type": "error",
     "traceback": [
      "\u001b[0;31m---------------------------------------------------------------------------\u001b[0m",
      "\u001b[0;31mNameError\u001b[0m                                 Traceback (most recent call last)",
      "\u001b[0;32m<ipython-input-1-8c08249d4e85>\u001b[0m in \u001b[0;36m<module>\u001b[0;34m()\u001b[0m\n\u001b[1;32m      7\u001b[0m \u001b[0;32mprint\u001b[0m\u001b[0;34m(\u001b[0m\u001b[0minputdata\u001b[0m\u001b[0;34m)\u001b[0m\u001b[0;34m\u001b[0m\u001b[0m\n\u001b[1;32m      8\u001b[0m \u001b[0;34m\u001b[0m\u001b[0m\n\u001b[0;32m----> 9\u001b[0;31m \u001b[0mcount_occurances_of_this_word\u001b[0m\u001b[0;34m(\u001b[0m\u001b[0;34m\"theoem\"\u001b[0m\u001b[0;34m)\u001b[0m\u001b[0;34m\u001b[0m\u001b[0m\n\u001b[0m\u001b[1;32m     10\u001b[0m \u001b[0;34m\u001b[0m\u001b[0m\n\u001b[1;32m     11\u001b[0m \u001b[0;31m#\u001b[0m\u001b[0;34m\u001b[0m\u001b[0;34m\u001b[0m\u001b[0m\n",
      "\u001b[0;31mNameError\u001b[0m: name 'count_occurances_of_this_word' is not defined"
     ]
    }
   ],
   "source": [
    "inputdata = \"\"\"\n",
    "In probability theory and statistics, Bayes’ theorem (alternatively Bayes’ law or Bayes' rule) describes the probability of an event, based on prior knowledge of conditions that might be related to the event. For example, if cancer is related to age, then, using Bayes’ theorem, a person’s age can be used to more accurately assess the probability that they have cancer, compared to the assessment of the probability of cancer made without knowledge of the person's age.\n",
    "One of the many applications of Bayes' theorem is Bayesian inference, a particular approach to statistical inference. When applied, the probabilities involved in Bayes' theorem may have different probability interpretations. With the Bayesian probability interpretation the theorem expresses how a subjective degree of belief should rationally change to account for availability of related evidence. Bayesian inference is fundamental to Bayesian statistics.\n",
    "Bayes’ theorem is named after Reverend Thomas Bayes (/beɪz/; 1701–1761), who first provided an equation that allows new evidence to update beliefs in his An Essay towards solving a Problem in the Doctrine of Chances (1763). It was further developed by Pierre-Simon Laplace, who first published the modern formulation in his 1812 \"Théorie analytique des probabilités\". Sir Harold Jeffreys put Bayes’ algorithm and Laplace's formulation on an axiomatic basis. Jeffreys wrote that Bayes' theorem \"is to the theory of probability what the Pythagorean theorem is to geometry\".[1]\n",
    "\"\"\"\n",
    "\n",
    "print(inputdata)\n",
    "\n",
    "count_occurances_of_this_word(\"theoem\")\n",
    "\n",
    "# \n",
    "# theorem = 8\n",
    "# USE dictornay to store this data,\n",
    "\n",
    "#OPTIONAL\n",
    "\n",
    "#You should print the words with its occurance\n",
    "# In = 20\n",
    "# probabality = \n",
    "\n",
    "# CASE INSENSITVE\n",
    "\n",
    "# also, write it into CSV\n",
    "# Word_name, count\n",
    "# In, 10\n",
    "# theorem, 8"
   ]
  },
  {
   "cell_type": "code",
   "execution_count": null,
   "metadata": {},
   "outputs": [],
   "source": [
    "\n",
    "# MQTT"
   ]
  },
  {
   "cell_type": "code",
   "execution_count": 4,
   "metadata": {},
   "outputs": [
    {
     "name": "stdout",
     "output_type": "stream",
     "text": [
      "Day03_Session2.ipynb\n",
      "Day04_Session1.ipynb\n",
      "app.py\n",
      "cpu_mem.csv\n",
      "day03\n",
      "day04\n",
      "input.txt\n",
      "mongo_db.py\n",
      "\n"
     ]
    }
   ],
   "source": [
    "import subprocess\n",
    "\n",
    "print (\"Am executing in normal python code\")\n",
    "\n",
    "# List files using shell command ls\n",
    "out = subprocess.check_output([\"ls\", \"-l\",\"|\",\"\"], shell=True)\n",
    "\n",
    "print (out)"
   ]
  },
  {
   "cell_type": "code",
   "execution_count": null,
   "metadata": {},
   "outputs": [],
   "source": [
    "import json\n",
    "import urllib2\n",
    "import subprocess\n",
    "\n",
    "# Get the remote file\n",
    "contents = urllib2.urlopen(\"https://goo.gl/OVrc1z\").read()\n",
    "\n",
    "# Save downloaded data as a local python file\n",
    "filepy = open('runme.py', 'w')\n",
    "filepy.write(contents)\n",
    "filepy.close()\n",
    "\n",
    "# Execute python file as subprocess\n",
    "output = subprocess.check_output([\"python2.7 runme.py\"], shell=True)\n",
    "json_output = json.loads(output)\n",
    "\n",
    "# Get value of json key\n",
    "url = (json_output[\"url\"])\n",
    "\n",
    "# Write value to new file\n",
    "fileout = open('output.txt', 'w')\n",
    "fileout.write(url)\n",
    "fileout.close()"
   ]
  },
  {
   "cell_type": "code",
   "execution_count": 28,
   "metadata": {},
   "outputs": [
    {
     "name": "stdout",
     "output_type": "stream",
     "text": [
      "{\n",
      "    \"url\": \"www.stackup.sg\",\n",
      "    \"name\": \"stackup\"\n",
      "}\n",
      "\n",
      "stackup\n",
      "www.stackup.sg\n"
     ]
    }
   ],
   "source": [
    "import requests\n",
    "import subprocess\n",
    "import json\n",
    "\n",
    "url = \"https://goo.gl/OVrc1z\"\n",
    "content = requests.get(url).text\n",
    "\n",
    "with open(\"runme.py\", \"w\") as f:\n",
    "    f.write(content)\n",
    "\n",
    "out = subprocess.check_output([\"python runme.py\"], shell=True)\n",
    "print (out)\n",
    "\n",
    "d = json.loads(out)\n",
    "print (d[\"name\"])\n",
    "print (d[\"url\"])"
   ]
  },
  {
   "cell_type": "code",
   "execution_count": 27,
   "metadata": {},
   "outputs": [
    {
     "name": "stdout",
     "output_type": "stream",
     "text": [
      "\n",
      "{\n",
      "    \"a\":\"123\"\n",
      "}\n",
      "\n",
      "<type 'dict'>\n",
      "{\n",
      "    \"a\": \"123\"\n",
      "}\n"
     ]
    }
   ],
   "source": [
    "import json\n",
    "a=\"\"\"\n",
    "{\n",
    "    \"a\":\"123\"\n",
    "}\n",
    "\"\"\"\n",
    "print(a)\n",
    "b= json.load(a)\n",
    "print(type(b))\n",
    "\n",
    "s=json.dumps(b,indent=4, separators=(',', ': '))\n",
    "print(s)"
   ]
  },
  {
   "cell_type": "code",
   "execution_count": 40,
   "metadata": {},
   "outputs": [
    {
     "name": "stdout",
     "output_type": "stream",
     "text": [
      "<type 'dict'>\n"
     ]
    },
    {
     "data": {
      "text/plain": [
       "123"
      ]
     },
     "execution_count": 40,
     "metadata": {},
     "output_type": "execute_result"
    }
   ],
   "source": [
    "f = open(\"ab.json\",\"r\")\n",
    "b= json.load(f)\n",
    "print(type(b))\n",
    "\n",
    "b.get(\"b\")"
   ]
  },
  {
   "cell_type": "code",
   "execution_count": 30,
   "metadata": {},
   "outputs": [
    {
     "ename": "IndentationError",
     "evalue": "unexpected indent (<ipython-input-30-48f4dff1c7ce>, line 2)",
     "output_type": "error",
     "traceback": [
      "\u001b[0;36m  File \u001b[0;32m\"<ipython-input-30-48f4dff1c7ce>\"\u001b[0;36m, line \u001b[0;32m2\u001b[0m\n\u001b[0;31m    \"a\": \"123\"\u001b[0m\n\u001b[0m    ^\u001b[0m\n\u001b[0;31mIndentationError\u001b[0m\u001b[0;31m:\u001b[0m unexpected indent\n"
     ]
    }
   ],
   "source": []
  },
  {
   "cell_type": "code",
   "execution_count": 43,
   "metadata": {},
   "outputs": [
    {
     "name": "stdout",
     "output_type": "stream",
     "text": [
      "Thanks you ! i have received ur message\n"
     ]
    }
   ],
   "source": [
    "import requests\n",
    "\n",
    "url1 = \"http://localhost:5000\"\n",
    "url =  \"http://10.20.11.17:5000/message123?m=hai\"\n",
    "\n",
    "content = requests.get(url).text\n",
    "print(content)"
   ]
  },
  {
   "cell_type": "code",
   "execution_count": null,
   "metadata": {},
   "outputs": [],
   "source": [
    "# inputdata = \"\"\"\n",
    "# In probability theory and statistics, Bayes’ theorem (alternatively Bayes’ law or Bayes' rule) describes the probability of an event, based on prior knowledge of conditions that might be related to the event. For example, if cancer is related to age, then, using Bayes’ theorem, a person’s age can be used to more accurately assess the probability that they have cancer, compared to the assessment of the probability of cancer made without knowledge of the person's age.\n",
    "# One of the many applications of Bayes' theorem is Bayesian inference, a particular approach to statistical inference. When applied, the probabilities involved in Bayes' theorem may have different probability interpretations. With the Bayesian probability interpretation the theorem expresses how a subjective degree of belief should rationally change to account for availability of related evidence. Bayesian inference is fundamental to Bayesian statistics.\n",
    "# Bayes’ theorem is named after Reverend Thomas Bayes (/beɪz/; 1701–1761), who first provided an equation that allows new evidence to update beliefs in his An Essay towards solving a Problem in the Doctrine of Chances (1763). It was further developed by Pierre-Simon Laplace, who first published the modern formulation in his 1812 \"Théorie analytique des probabilités\". Sir Harold Jeffreys put Bayes’ algorithm and Laplace's formulation on an axiomatic basis. Jeffreys wrote that Bayes' theorem \"is to the theory of probability what the Pythagorean theorem is to geometry\".[1]\n",
    "# \"\"\"\n",
    "\n",
    "filename = \"input.txt\"\n",
    "f = open(filename, \"r\")\n",
    "\n",
    "word_dict={}\n",
    "\n",
    "def add_or_update_word_into_dict(keyword):\n",
    "    if word_dict.has_key(w):\n",
    "        #this will be true block\n",
    "        #word already exist\n",
    "          word_dict[w] =  word_dict[w] + 1\n",
    "    else:\n",
    "        #word not found, looking up the word for the 1st time.\n",
    "        word_dict[w] = 1\n",
    "        \n",
    "for line in f:\n",
    "    words = line.lower().split()\n",
    "    for w in words:\n",
    "        add_or_update_word_into_dict(w)\n",
    "\n",
    "        \n",
    "def count_occurances_of_this_word(keyword):\n",
    "    keyword = keyword.lower()\n",
    "    return (keyword, word_dict.get(keyword , 0))\n",
    "\n",
    "k , count = count_occurances_of_this_word(\"theorem\")\n",
    "print (k ,count)\n",
    "f.close()\n"
   ]
  },
  {
   "cell_type": "code",
   "execution_count": 44,
   "metadata": {},
   "outputs": [],
   "source": [
    "import requests"
   ]
  },
  {
   "cell_type": "code",
   "execution_count": 51,
   "metadata": {},
   "outputs": [
    {
     "name": "stdout",
     "output_type": "stream",
     "text": [
      "<class 'requests.models.Response'>\n"
     ]
    },
    {
     "data": {
      "text/plain": [
       "u'<!doctype html>\\n<html lang=\"en\">\\n<head>\\n    <meta charset=\"UTF-8\">\\n    <meta name=\"viewport\"\\n          content=\"width=device-width, initial-scale=1, maximum-scale=3\">\\n    <title>StackUp</title>\\n\\n    <base href=\"/\">\\n\\n    <script type=\"text/javascript\" src=\"/deps.min.js\"></script>\\n    <script type=\"text/javascript\" src=\"/main.annotated.js\"></script>\\n    <link href=\\'https://fonts.googleapis.com/css?family=Rokkitt:400,700|Oswald:400,300\\'\\n          rel=\\'stylesheet\\'\\n          type=\\'text/css\\'>\\n    <link rel=\"stylesheet\"\\n          href=\"https://maxcdn.bootstrapcdn.com/font-awesome/4.4.0/css/font-awesome.min.css\">\\n    <link rel=\"stylesheet\" href=\"/main.css\">\\n\\n\\n</head>\\n<body ng-app=\"stackup\">\\n<div class=\"su\" ng-controller=\"MainController as app\">\\n\\n\\n    <div class=\"ng-view su-content\"></div>\\n    <footer></footer>\\n</div>\\n\\n\\n<script>\\n    (function (i, s, o, g, r, a, m) {\\n        i[\\'GoogleAnalyticsObject\\'] = r;\\n        i[r] = i[r] || function () {\\n                    (i[r].q = i[r].q || []).push(arguments)\\n                }, i[r].l = 1 * new Date();\\n        a = s.createElement(o),\\n                m = s.getElementsByTagName(o)[0];\\n        a.async = 1;\\n        a.src = g;\\n        m.parentNode.insertBefore(a, m)\\n    })(window, document, \\'script\\', \\'//www.google-analytics.com/analytics.js\\', \\'ga\\');\\n\\n    ga(\\'create\\', \\'UA-70701066-1\\', \\'auto\\');\\n    ga(\\'send\\', \\'pageview\\');\\n\\n</script>\\n\\n</body>\\n</html>\\n'"
      ]
     },
     "execution_count": 51,
     "metadata": {},
     "output_type": "execute_result"
    }
   ],
   "source": [
    "#GET METHOD - HTTP GET\n",
    "\n",
    "temp_url = \"scheme://domain_part:80\"\n",
    "\n",
    "url = \"http://www.stackup.sg/\"\n",
    "\n",
    "url = \"http://10.20.10.17:3000/\"\n",
    "\n",
    "\n",
    "url1 = \"http://www.stackup.sg/abc.html\"\n",
    "url2 = \"http://www.stackup.sg/abc.html?a=10\"\n",
    "\n",
    "url2 = \"http://www.stackup.sg/abc.html?a=abc&b=20\"\n",
    "\n",
    "url3 = \"http://www.stackup.sg/abc.json\"\n",
    "\n",
    "\n",
    "url4 = \"http://www.stackup.sg/abc/getdata\"\n",
    "\n",
    "\n",
    "url4 = \"http://www.stackup.sg/abc/getdata?q=abc&start=10&per_page=10\"\n",
    "\n",
    "url4 = \"https://www.stackup.sg/abc/getdata?q=abc&start=10&per_page=10\"\n",
    "\n",
    "\n",
    "resp = requests.get(url)\n",
    "print (type(resp))\n",
    "resp.text"
   ]
  },
  {
   "cell_type": "code",
   "execution_count": 53,
   "metadata": {},
   "outputs": [],
   "source": [
    "url = 'https://data.gov.sg/api/action/datastore_search?resource_id=f9dbfc75-a2dc-42af-9f50-425e4107ae84&limit=5&q=title:jones'\n",
    "scheme = \"https\"\n",
    "domain = \"data.gov.sg\"\n",
    "path = \"/api/action/datastore_search\"\n",
    "query_param1 = \"resource_id=f9dbfc75-a2dc-42af-9f50-425e4107ae84\"\n",
    "query_param2 = \"limit=5\"\n",
    "query_param3 = \"q=title:jones\"\n",
    "\"&q=title:jones'\"\n",
    "\n"
   ]
  },
  {
   "cell_type": "code",
   "execution_count": 70,
   "metadata": {},
   "outputs": [
    {
     "name": "stdout",
     "output_type": "stream",
     "text": [
      "{u'birth_year': u'19BBY',\n",
      " u'created': u'2014-12-09T13:50:51.644000Z',\n",
      " u'edited': u'2014-12-20T21:17:56.891000Z',\n",
      " u'eye_color': u'blue',\n",
      " u'films': [u'https://swapi.co/api/films/2/',\n",
      "            u'https://swapi.co/api/films/6/',\n",
      "            u'https://swapi.co/api/films/3/',\n",
      "            u'https://swapi.co/api/films/1/',\n",
      "            u'https://swapi.co/api/films/7/'],\n",
      " u'gender': u'male',\n",
      " u'hair_color': u'blond',\n",
      " u'height': u'172',\n",
      " u'homeworld': u'https://swapi.co/api/planets/1/',\n",
      " u'mass': u'77',\n",
      " u'name': u'Luke Skywalker',\n",
      " u'skin_color': u'fair',\n",
      " u'species': [u'https://swapi.co/api/species/1/'],\n",
      " u'starships': [u'https://swapi.co/api/starships/12/',\n",
      "                u'https://swapi.co/api/starships/22/'],\n",
      " u'url': u'https://swapi.co/api/people/1/',\n",
      " u'vehicles': [u'https://swapi.co/api/vehicles/14/',\n",
      "               u'https://swapi.co/api/vehicles/30/']}\n"
     ]
    },
    {
     "data": {
      "text/plain": [
       "[u'https://swapi.co/api/vehicles/14/', u'https://swapi.co/api/vehicles/30/']"
      ]
     },
     "execution_count": 70,
     "metadata": {},
     "output_type": "execute_result"
    }
   ],
   "source": []
  },
  {
   "cell_type": "code",
   "execution_count": 84,
   "metadata": {},
   "outputs": [
    {
     "name": "stdout",
     "output_type": "stream",
     "text": [
      "{u'birth_year': u'19BBY',\n",
      " u'created': u'2014-12-09T13:50:51.644000Z',\n",
      " u'edited': u'2014-12-20T21:17:56.891000Z',\n",
      " u'eye_color': u'blue',\n",
      " u'films': [u'https://swapi.co/api/films/2/',\n",
      "            u'https://swapi.co/api/films/6/',\n",
      "            u'https://swapi.co/api/films/3/',\n",
      "            u'https://swapi.co/api/films/1/',\n",
      "            u'https://swapi.co/api/films/7/'],\n",
      " u'gender': u'male',\n",
      " u'hair_color': u'blond',\n",
      " u'height': u'172',\n",
      " u'homeworld': u'https://swapi.co/api/planets/1/',\n",
      " u'mass': u'77',\n",
      " u'name': u'Luke Skywalker',\n",
      " u'skin_color': u'fair',\n",
      " u'species': [u'https://swapi.co/api/species/1/'],\n",
      " u'starships': [u'https://swapi.co/api/starships/12/',\n",
      "                u'https://swapi.co/api/starships/22/'],\n",
      " u'url': u'https://swapi.co/api/people/1/',\n",
      " u'vehicles': [u'https://swapi.co/api/vehicles/14/',\n",
      "               u'https://swapi.co/api/vehicles/30/']}\n"
     ]
    }
   ],
   "source": [
    "url = \"https://swapi.co/api/people/1\"\n",
    "from pprint import pprint \n",
    "import json\n",
    "import requests\n",
    "resp = requests.get(url).json()\n",
    "pprint(resp)\n",
    "\n",
    "\n",
    "# def getdata(url,resp_type=\"text\"):\n",
    "#     resp = requests.get(url)\n",
    "#     content = \"\"\n",
    "#     if resp_type == \"text\":\n",
    "#         content = resp.text\n",
    "#     elif resp_type == \"json\":\n",
    "#         content = resp.json()\n",
    "#     else:\n",
    "#         pass\n",
    "#     return content\n",
    "    \n",
    "\n",
    "# for v in resp[\"vehicles\"]:\n",
    "#     print (v)\n",
    "#     data_dict = getdata(v, resp_type=\"json\")\n",
    "#     print (data_dict)\n",
    "    "
   ]
  },
  {
   "cell_type": "code",
   "execution_count": 86,
   "metadata": {},
   "outputs": [
    {
     "name": "stdout",
     "output_type": "stream",
     "text": [
      "Collecting wget\n",
      "  Downloading wget-3.2.zip\n",
      "Building wheels for collected packages: wget\n",
      "  Running setup.py bdist_wheel for wget ... \u001b[?25ldone\n",
      "\u001b[?25h  Stored in directory: /Users/std-user01/Library/Caches/pip/wheels/6d/98/29/61ccc41148f871009126c2e844e26f73eeb25e12cca92228a5\n",
      "Successfully built wget\n",
      "Installing collected packages: wget\n",
      "Successfully installed wget-3.2\n"
     ]
    }
   ],
   "source": [
    "!pip install wget"
   ]
  },
  {
   "cell_type": "code",
   "execution_count": 89,
   "metadata": {},
   "outputs": [
    {
     "data": {
      "text/plain": [
       "'download.wget'"
      ]
     },
     "execution_count": 89,
     "metadata": {},
     "output_type": "execute_result"
    }
   ],
   "source": []
  },
  {
   "cell_type": "code",
   "execution_count": null,
   "metadata": {},
   "outputs": [],
   "source": []
  }
 ],
 "metadata": {
  "kernelspec": {
   "display_name": "Python 2",
   "language": "python",
   "name": "python2"
  },
  "language_info": {
   "codemirror_mode": {
    "name": "ipython",
    "version": 2
   },
   "file_extension": ".py",
   "mimetype": "text/x-python",
   "name": "python",
   "nbconvert_exporter": "python",
   "pygments_lexer": "ipython2",
   "version": "2.7.13"
  }
 },
 "nbformat": 4,
 "nbformat_minor": 2
}
