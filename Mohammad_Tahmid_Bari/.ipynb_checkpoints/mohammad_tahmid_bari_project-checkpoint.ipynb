{
 "cells": [
  {
   "cell_type": "code",
   "execution_count": 1,
   "metadata": {},
   "outputs": [
    {
     "ename": "ImportError",
     "evalue": "DLL load failed: The specified module could not be found.",
     "output_type": "error",
     "traceback": [
      "\u001b[1;31m---------------------------------------------------------------------------\u001b[0m",
      "\u001b[1;31mImportError\u001b[0m                               Traceback (most recent call last)",
      "\u001b[1;32m<ipython-input-1-b059e41105e1>\u001b[0m in \u001b[0;36m<module>\u001b[1;34m()\u001b[0m\n\u001b[0;32m     10\u001b[0m \"\"\"\n\u001b[0;32m     11\u001b[0m \u001b[1;33m\u001b[0m\u001b[0m\n\u001b[1;32m---> 12\u001b[1;33m \u001b[1;32mfrom\u001b[0m \u001b[0mPIL\u001b[0m \u001b[1;32mimport\u001b[0m \u001b[0mImage\u001b[0m\u001b[1;33m\u001b[0m\u001b[0m\n\u001b[0m\u001b[0;32m     13\u001b[0m \u001b[1;32mfrom\u001b[0m \u001b[0mos\u001b[0m \u001b[1;32mimport\u001b[0m \u001b[0mpath\u001b[0m\u001b[1;33m\u001b[0m\u001b[0m\n\u001b[0;32m     14\u001b[0m \u001b[1;32mfrom\u001b[0m \u001b[0mwordcloud\u001b[0m \u001b[1;32mimport\u001b[0m \u001b[0mWordCloud\u001b[0m\u001b[1;33m,\u001b[0m \u001b[0mSTOPWORDS\u001b[0m\u001b[1;33m\u001b[0m\u001b[0m\n",
      "\u001b[1;32mC:\\Anaconda2\\lib\\site-packages\\PIL\\Image.py\u001b[0m in \u001b[0;36m<module>\u001b[1;34m()\u001b[0m\n\u001b[0;32m     58\u001b[0m     \u001b[1;31m# Also note that Image.core is not a publicly documented interface,\u001b[0m\u001b[1;33m\u001b[0m\u001b[1;33m\u001b[0m\u001b[0m\n\u001b[0;32m     59\u001b[0m     \u001b[1;31m# and should be considered private and subject to change.\u001b[0m\u001b[1;33m\u001b[0m\u001b[1;33m\u001b[0m\u001b[0m\n\u001b[1;32m---> 60\u001b[1;33m     \u001b[1;32mfrom\u001b[0m \u001b[1;33m.\u001b[0m \u001b[1;32mimport\u001b[0m \u001b[0m_imaging\u001b[0m \u001b[1;32mas\u001b[0m \u001b[0mcore\u001b[0m\u001b[1;33m\u001b[0m\u001b[0m\n\u001b[0m\u001b[0;32m     61\u001b[0m     \u001b[1;32mif\u001b[0m \u001b[0mPILLOW_VERSION\u001b[0m \u001b[1;33m!=\u001b[0m \u001b[0mgetattr\u001b[0m\u001b[1;33m(\u001b[0m\u001b[0mcore\u001b[0m\u001b[1;33m,\u001b[0m \u001b[1;34m'PILLOW_VERSION'\u001b[0m\u001b[1;33m,\u001b[0m \u001b[0mNone\u001b[0m\u001b[1;33m)\u001b[0m\u001b[1;33m:\u001b[0m\u001b[1;33m\u001b[0m\u001b[0m\n\u001b[0;32m     62\u001b[0m         raise ImportError(\"The _imaging extension was built for another \"\n",
      "\u001b[1;31mImportError\u001b[0m: DLL load failed: The specified module could not be found."
     ]
    }
   ],
   "source": [
    "#!/usr/bin/env python\n",
    "\"\"\"\n",
    "OCR using Python by tesseract\n",
    "=============================\n",
    "Converting the image file into a textual format and writing it into a text file.\n",
    "================================================================================\n",
    "Masked wordcloud\n",
    "================\n",
    "Using a mask you can generate wordclouds in arbitrary shapes.\n",
    "\"\"\"\n",
    "\n",
    "from PIL import Image\n",
    "from os import path\n",
    "from wordcloud import WordCloud, STOPWORDS\n",
    "import pytesseract\n",
    "import numpy as np\n",
    "import matplotlib.pyplot as plt\n",
    "\n",
    "filename = \"input.txt\"\n",
    "f = open(filename, \"w\")\n",
    "\n",
    "# converting the image file into a textual format\n",
    "# writing the converted text into a file\n",
    "content = pytesseract.image_to_string(Image.open('test2.png'))\n",
    "\n",
    "f.write(content)\n",
    "f.close()\n",
    "\n",
    "\n",
    "# d = path.dirname(__file__)\n",
    "\n",
    "# Read the whole text.\n",
    "text = open('input.txt').read()\n",
    "\n",
    "# read the mask image\n",
    "# taken from\n",
    "# http://www.stencilry.org/stencils/food/chili-pepper-1.gif\n",
    "chili_mask = np.array(Image.open(\"chili-pepper-1.gif_595.jpg\"))\n",
    "\n",
    "stopwords = set(STOPWORDS)\n",
    "stopwords.add(\"english\")\n",
    "\n",
    "wc = WordCloud(background_color=\"white\", max_words=2000, mask=chili_mask,\n",
    "               stopwords=stopwords,scale=4,width=800, height=400)\n",
    "# generate word cloud\n",
    "wc.generate(text)\n",
    "\n",
    "# store to file\n",
    "wc.to_file(\"chili.png\")\n",
    "\n",
    "# show\n",
    "plt.imshow(wc, interpolation='bilinear')\n",
    "plt.axis(\"off\")\n",
    "plt.figure()\n",
    "plt.show()"
   ]
  },
  {
   "cell_type": "code",
   "execution_count": 15,
   "metadata": {},
   "outputs": [
    {
     "name": "stdout",
     "output_type": "stream",
     "text": [
      "Home\n",
      "\n",
      "Stefan Wel edited this page on Sep 28 29 revisions\n",
      "\n",
      "Tesseract at UB Mannheim\n",
      "\n",
      "The Mannheim University Library (UB Mannheim) uses Tesseract to perform OCR of historical\n",
      "German newspapers (Allgemeine PreuBische Staatszeitung, Deutscher Reichsanzeiger}. The latest\n",
      "results with OCR from more than 360,000 scans are available online.\n",
      "\n",
      "Normally we run Tesseract on Debian GNU Linux, but there was also the need for a Windows\n",
      "version. That's why we have built a Tesseract installer for Windows.\n",
      "\n",
      "The latest installers can be downloaded here: tesseract-ocr-setup-3.05.01.exe and tesseract-ocr-\n",
      "setup-4.0.0-alpha.20170804.exe (experimental. There are also older versions available.\n",
      "\n",
      "in addition, we also provide documentation which was generated by Doxygen.\n",
      "\n",
      " \n",
      "\n",
      "Hint: Old versions of the installer had an option to add Tesseract to the PATH environment variable.\n",
      "That option was disabled by default If it was enabled and PATH was very long, it could happen that\n",
      "the new PATH was empty. We suggest not to use that option and disabled t in our latest version.\n",
      "\n",
      "History:\n",
      "\n",
      "*: 2017-08-04 Update Tesseract 4. Now supports best traineddata.\n",
      "*: 2017-06-02 Update Tesseract 3.05.01.\n",
      "*: 2017-05-10 Update Tesseract 3.05.00 (+ later fixes). Removed buagy setting of PATH.\n"
     ]
    }
   ],
   "source": [
    "from PIL import Image\n",
    "import pytesseract\n",
    "print pytesseract.image_to_string(Image.open('test2.png'), lang='eng')"
   ]
  }
 ],
 "metadata": {
  "kernelspec": {
   "display_name": "Python 2",
   "language": "python",
   "name": "python2"
  },
  "language_info": {
   "codemirror_mode": {
    "name": "ipython",
    "version": 2
   },
   "file_extension": ".py",
   "mimetype": "text/x-python",
   "name": "python",
   "nbconvert_exporter": "python",
   "pygments_lexer": "ipython2",
   "version": "2.7.15"
  }
 },
 "nbformat": 4,
 "nbformat_minor": 2
}
