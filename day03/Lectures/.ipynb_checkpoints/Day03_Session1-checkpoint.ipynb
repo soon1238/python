{
 "cells": [
  {
   "cell_type": "raw",
   "metadata": {},
   "source": [
    "Topics to be covered\n",
    "    File read and write - text files\n",
    "    Reading a text file\n",
    "    Print the whole contents\n",
    "    Read line by lines / Split the lines and loop through\n",
    "    Exercise : Reading a text file and loop through it\n",
    "    \n",
    "    Reading & Writing csv files\n",
    "    Exercise : Reading csv file\n",
    "    \n",
    "    Reading & Writing Excel files\n",
    "    Exercise on Exercise\n",
    "    \n",
    "    How to use help(), dir() function to read more about the object that we are using.\n",
    "    \n",
    "    How to install external modules in python.\n",
    "        -Using pip install something\n",
    "        -How to see the downloaded/installed package\n",
    "        -Which python interpretter are we using ?? how to find ?\n",
    "        \n",
    "    Reading inputs from command line\n",
    "        -Write a python file\n",
    "        -Run that using a python interpretter\n",
    "        -passing arguments to it using sys.args\n",
    "    Re-Visiting Dict data structure\n",
    "    \n"
   ]
  },
  {
   "cell_type": "code",
   "execution_count": 16,
   "metadata": {},
   "outputs": [
    {
     "name": "stdout",
     "output_type": "stream",
     "text": [
      "Sheet 1:\n",
      "+---+---+---+\n",
      "| 1 | 2 | 3 |\n",
      "+---+---+---+\n",
      "| 4 | 5 | 6 |\n",
      "+---+---+---+\n",
      "| 7 | 8 | 9 |\n",
      "+---+---+---+\n",
      "Sheet 2:\n",
      "+---+---+---+\n",
      "| X | Y | Z |\n",
      "+---+---+---+\n",
      "| 1 | 2 | 3 |\n",
      "+---+---+---+\n",
      "| 4 | 5 | 6 |\n",
      "+---+---+---+\n",
      "Sheet 3:\n",
      "+---+---+---+\n",
      "| O | P | Q |\n",
      "+---+---+---+\n",
      "| 3 | 2 | 1 |\n",
      "+---+---+---+\n",
      "| 4 | 3 | 2 |\n",
      "+---+---+---+\n",
      "Sheet 1:\n",
      "+---+---+---+\n",
      "| 1 | 2 | 3 |\n",
      "+---+---+---+\n",
      "| 4 | 5 | 6 |\n",
      "+---+---+---+\n",
      "| 7 | 8 | 9 |\n",
      "+---+---+---+\n",
      "Sheet 2:\n",
      "+---+---+---+\n",
      "| X | Y | Z |\n",
      "+---+---+---+\n",
      "| 1 | 2 | 3 |\n",
      "+---+---+---+\n",
      "| 4 | 5 | 6 |\n",
      "+---+---+---+\n",
      "Sheet 3:\n",
      "+---+---+---+\n",
      "| O | P | Q |\n",
      "+---+---+---+\n",
      "| 3 | 2 | 1 |\n",
      "+---+---+---+\n",
      "| 4 | 3 | 2 |\n",
      "+---+---+---+\n"
     ]
    }
   ],
   "source": [
    "import pyexcel\n",
    "#Read multi-sheet file\n",
    "book = pyexcel.get_book(file_name=\"multisheet.xls\")\n",
    "sheets = book\n",
    "print book[\"Sheet 1\"]  \n",
    "print book[\"Sheet 2\"]\n",
    "print book[\"Sheet 3\"]\n",
    "# for i in book[\"Sheet 3\"].rows():\n",
    "#     print i\n",
    "for i in book:\n",
    "    print i"
   ]
  },
  {
   "cell_type": "code",
   "execution_count": 17,
   "metadata": {
    "collapsed": true
   },
   "outputs": [],
   "source": [
    "import pyexcel"
   ]
  },
  {
   "cell_type": "code",
   "execution_count": 18,
   "metadata": {},
   "outputs": [
    {
     "name": "stdout",
     "output_type": "stream",
     "text": [
      "Help on built-in function open in module __builtin__:\n",
      "\n",
      "open(...)\n",
      "    open(name[, mode[, buffering]]) -> file object\n",
      "    \n",
      "    Open a file using the file() type, returns a file object.  This is the\n",
      "    preferred way to open a file.  See file.__doc__ for further information.\n",
      "\n"
     ]
    }
   ],
   "source": [
    "help(open)"
   ]
  },
  {
   "cell_type": "code",
   "execution_count": null,
   "metadata": {
    "collapsed": true
   },
   "outputs": [],
   "source": [
    "# Opening a file - write in the file - close the file\n",
    "# SYNTAX: open(\"file_name\", \"mode\")\n",
    "\n",
    "f = open(\"test.txt\",\"w\")\n",
    "# if no file name \"test.txt\" exists, it will be created.\n",
    "\n",
    "# Putting data in the file with write method on the file object\n",
    "\n",
    "f.write(\"This is first sentence\\nwelcome\\n\")\n",
    "f.write(\"This is second sentence\\ngood bye\\n\")\n",
    "\n",
    "f.close()"
   ]
  },
  {
   "cell_type": "code",
   "execution_count": null,
   "metadata": {
    "collapsed": true
   },
   "outputs": [],
   "source": [
    "\n",
    "# CREATE 10 FILES with filename project_<number>.txt\n",
    "\n",
    "# CONTENTS -> filenumber : 1\n",
    "\n",
    "#LOOPS TO CREATE\n",
    "\n",
    "\n",
    "project_1.txt\n",
    "\n",
    "filenumber : 1\n",
    "    \n",
    "    \n",
    "project_2.txt\n",
    "\n",
    "filenumber : 2"
   ]
  },
  {
   "cell_type": "code",
   "execution_count": 32,
   "metadata": {
    "collapsed": true
   },
   "outputs": [],
   "source": [
    "#CREATE FILE\n",
    "\n",
    "\n",
    "f = open(\"project_1.txt\", \"w\")\n",
    "\n",
    "\n",
    "file_content = \"filenumber : 1\"\n",
    "\n",
    "f.write(file_content)\n",
    "\n",
    "f.close()\n",
    "\n"
   ]
  },
  {
   "cell_type": "code",
   "execution_count": 35,
   "metadata": {
    "collapsed": true
   },
   "outputs": [],
   "source": [
    "#CREATE FILE\n",
    "\n",
    "for filenumber in range(10):\n",
    "    \n",
    "    filename = \"project_\" + str(filenumber) + \".txt\"\n",
    "\n",
    "    f = open(filename, \"w\")\n",
    "\n",
    "    file_content = \"filenumber : \" + str(filenumber)\n",
    "\n",
    "    f.write(file_content)\n",
    "    f.close()\n",
    "\n"
   ]
  },
  {
   "cell_type": "code",
   "execution_count": 33,
   "metadata": {},
   "outputs": [
    {
     "name": "stdout",
     "output_type": "stream",
     "text": [
      "['filenumber : 1']\n"
     ]
    }
   ],
   "source": [
    "f = open(\"project_1.txt\", \"r\")\n",
    "\n",
    "print f.readlines()\n",
    "\n",
    "f.close()"
   ]
  },
  {
   "cell_type": "code",
   "execution_count": 3,
   "metadata": {},
   "outputs": [
    {
     "name": "stdout",
     "output_type": "stream",
     "text": [
      "FILE_NAME : project_0.txt\n",
      "CONTENTS : filenumber : \n",
      " ss \n",
      " sss 0\n",
      "FILE_NAME : project_1.txt\n",
      "CONTENTS : filenumber : \n",
      " ss \n",
      " sss 1\n",
      "FILE_NAME : project_2.txt\n",
      "CONTENTS : filenumber : \n",
      " ss \n",
      " sss 2\n",
      "FILE_NAME : project_3.txt\n",
      "CONTENTS : filenumber : \n",
      " ss \n",
      " sss 3\n",
      "FILE_NAME : project_4.txt\n",
      "CONTENTS : filenumber : \n",
      " ss \n",
      " sss 4\n",
      "FILE_NAME : project_5.txt\n",
      "CONTENTS : filenumber : \n",
      " ss \n",
      " sss 5\n",
      "FILE_NAME : project_6.txt\n",
      "CONTENTS : filenumber : \n",
      " ss \n",
      " sss 6\n",
      "FILE_NAME : project_7.txt\n",
      "CONTENTS : filenumber : \n",
      " ss \n",
      " sss 7\n",
      "FILE_NAME : project_8.txt\n",
      "CONTENTS : filenumber : \n",
      " ss \n",
      " sss 8\n",
      "FILE_NAME : project_9.txt\n",
      "CONTENTS : filenumber : \n",
      " ss \n",
      " sss 9\n"
     ]
    }
   ],
   "source": [
    "for i in range(10):\n",
    "    file_name = \"project_%d.txt\" % i\n",
    "    f = open(file_name, \"r\")\n",
    "    contents = f.read()\n",
    "    print (\"FILE_NAME : %s\" % file_name)\n",
    "    print (\"CONTENTS : %s\" % contents)\n",
    "    f.close()"
   ]
  },
  {
   "cell_type": "code",
   "execution_count": 6,
   "metadata": {},
   "outputs": [
    {
     "name": "stdout",
     "output_type": "stream",
     "text": [
      "January\r\n",
      "February\r\n",
      "March\r\n",
      "April\r\n",
      "May\r\n",
      "June\r\n",
      "July\r\n",
      "August\r\n",
      "September\r\n",
      "October\r\n",
      "November\r\n",
      "December"
     ]
    }
   ],
   "source": []
  },
  {
   "cell_type": "code",
   "execution_count": null,
   "metadata": {
    "collapsed": true
   },
   "outputs": [],
   "source": [
    "#READ CONTENTS , SAVE IT IN A VARIABLE\n",
    "\n",
    "soruce_file = open(\"\")\n",
    "#WRITE TO A FILE . with the previously saved varilable"
   ]
  }
 ],
 "metadata": {
  "kernelspec": {
   "display_name": "Python 2",
   "language": "python",
   "name": "python2"
  },
  "language_info": {
   "codemirror_mode": {
    "name": "ipython",
    "version": 2
   },
   "file_extension": ".py",
   "mimetype": "text/x-python",
   "name": "python",
   "nbconvert_exporter": "python",
   "pygments_lexer": "ipython2",
   "version": "2.7.12"
  }
 },
 "nbformat": 4,
 "nbformat_minor": 2
}
