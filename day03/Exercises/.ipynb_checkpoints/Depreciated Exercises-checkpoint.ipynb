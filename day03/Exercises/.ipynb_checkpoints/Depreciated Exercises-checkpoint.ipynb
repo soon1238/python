{
 "cells": [
  {
   "cell_type": "markdown",
   "metadata": {},
   "source": [
    "# This is the excercise notebook for day 3: <font color = blue>File I/O<font>."
   ]
  },
  {
   "cell_type": "markdown",
   "metadata": {},
   "source": [
    "# <font color = grey>Basics: Create -  Read / Write / Append - Close </font>"
   ]
  },
  {
   "cell_type": "markdown",
   "metadata": {},
   "source": [
    "## \"Create\""
   ]
  },
  {
   "cell_type": "markdown",
   "metadata": {},
   "source": [
    "Write a Python script to create txt file named \"result\" in the same directory and write a list of squares of the numbers 1-10.\n",
    "* create a list containing squares of the numbers 1-10 \n",
    "* open file in write mode\n",
    "* use iteration (for loop) to copy that and write it in the file.\n",
    "* You'll have to use type conversion (from int to str) in order to write raw numbers in the file."
   ]
  },
  {
   "cell_type": "code",
   "execution_count": 3,
   "metadata": {},
   "outputs": [
    {
     "data": {
      "text/plain": [
       "[1, 4, 9, 16, 25, 36, 49, 64, 81, 100]"
      ]
     },
     "execution_count": 3,
     "metadata": {},
     "output_type": "execute_result"
    }
   ],
   "source": [
    "my_list = [i**2 for i in range(1,11)]\n",
    "my_list"
   ]
  },
  {
   "cell_type": "code",
   "execution_count": 10,
   "metadata": {},
   "outputs": [],
   "source": [
    "my_list = [i**2 for i in range(1,11)]\n",
    "# Generates a list of squares of the numbers 1 - 10\n",
    "\n",
    "f = open(\"result.txt\", \"w\")\n",
    "\n",
    "for item in my_list:\n",
    "    f.write(str(item) + \"\\n\")\n",
    "\n",
    "f.close()"
   ]
  },
  {
   "cell_type": "markdown",
   "metadata": {},
   "source": [
    "## \"Read\""
   ]
  },
  {
   "cell_type": "markdown",
   "metadata": {},
   "source": [
    "* Open the file you've created just now, and loop over the file to print each line."
   ]
  },
  {
   "cell_type": "code",
   "execution_count": 5,
   "metadata": {},
   "outputs": [
    {
     "name": "stdout",
     "output_type": "stream",
     "text": [
      "1\n",
      "\n",
      "4\n",
      "\n",
      "9\n",
      "\n",
      "16\n",
      "\n",
      "25\n",
      "\n",
      "36\n",
      "\n",
      "49\n",
      "\n",
      "64\n",
      "\n",
      "81\n",
      "\n",
      "100\n",
      "\n"
     ]
    }
   ],
   "source": [
    "f = open(\"result.txt\", \"r\")\n",
    "\n",
    "for line in f:\n",
    "    print(line)"
   ]
  },
  {
   "cell_type": "markdown",
   "metadata": {},
   "source": [
    "You can use split the lines taken from a text file using .split() method."
   ]
  },
  {
   "cell_type": "markdown",
   "metadata": {
    "collapsed": true
   },
   "source": [
    "Count the number of rows in csv. file"
   ]
  },
  {
   "cell_type": "markdown",
   "metadata": {
    "collapsed": true
   },
   "source": [
    "## \"Append\""
   ]
  },
  {
   "cell_type": "code",
   "execution_count": 6,
   "metadata": {
    "collapsed": true
   },
   "outputs": [],
   "source": [
    "f = open(\"result.txt\", \"a\")\n",
    "\n",
    "for i in range(2):\n",
    "     f.write(\"Appended line %d\\r\\n\" % (i+1))\n",
    "        \n",
    "f.close()"
   ]
  },
  {
   "cell_type": "code",
   "execution_count": 7,
   "metadata": {},
   "outputs": [
    {
     "name": "stdout",
     "output_type": "stream",
     "text": [
      "1\n",
      "\n",
      "4\n",
      "\n",
      "9\n",
      "\n",
      "16\n",
      "\n",
      "25\n",
      "\n",
      "36\n",
      "\n",
      "49\n",
      "\n",
      "64\n",
      "\n",
      "81\n",
      "\n",
      "100\n",
      "\n",
      "Appended line 1\r\n",
      "\n",
      "Appended line 2\r\n",
      "\n"
     ]
    }
   ],
   "source": [
    "f = open(\"result.txt\", \"r\")\n",
    "\n",
    "for line in f:\n",
    "    print(line)"
   ]
  },
  {
   "cell_type": "markdown",
   "metadata": {},
   "source": [
    "# Comprehensive exercise"
   ]
  }
 ],
 "metadata": {
  "kernelspec": {
   "display_name": "Python 2",
   "language": "python",
   "name": "python2"
  },
  "language_info": {
   "codemirror_mode": {
    "name": "ipython",
    "version": 2
   },
   "file_extension": ".py",
   "mimetype": "text/x-python",
   "name": "python",
   "nbconvert_exporter": "python",
   "pygments_lexer": "ipython2",
   "version": "2.7.9"
  }
 },
 "nbformat": 4,
 "nbformat_minor": 2
}
