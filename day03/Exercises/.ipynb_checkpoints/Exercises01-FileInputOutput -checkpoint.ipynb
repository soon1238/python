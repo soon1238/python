{
 "cells": [
  {
   "cell_type": "markdown",
   "metadata": {},
   "source": [
    "## Exercise 1"
   ]
  },
  {
   "cell_type": "raw",
   "metadata": {},
   "source": [
    "Write a program to prompt for a file name, and then read through the file line-by-line. Note: the file name is Erle.txt and its content is,\n",
    "\n",
    "Erle is the enabling technology for the\n",
    "next generation of aerial and terrestrial\n",
    "robots that will be used in cities solving\n",
    "tasks such as surveillance, enviromental\n",
    "monitoring or even providing aid at catastrophes.\n",
    "\n",
    "Ensure you create the file."
   ]
  },
  {
   "cell_type": "code",
   "execution_count": null,
   "metadata": {
    "collapsed": true
   },
   "outputs": [],
   "source": [
    "# Solution \n",
    "\n",
    "name=raw_input(\"Enter the file name:\")\n",
    "\n",
    "my_file=open(name,\"r\")\n",
    "\n",
    "print (my_file.readline())\n",
    "print (my_file.readline())\n",
    "print (my_file.readline())\n",
    "print (my_file.readline())\n",
    "print (my_file.readline())\n",
    "\n",
    "my_file.close()\n",
    "# Output is: \n",
    "# Erle is the enabling technology for the\n",
    "\n",
    "# next generation of aerial and terrestrial\n",
    "\n",
    "# robots that will be used in cities solving\n",
    "\n",
    "# tasks such as surveillance, enviromental\n",
    "\n",
    "# monitoring or even providing aid at catastrophes.\n"
   ]
  },
  {
   "cell_type": "markdown",
   "metadata": {},
   "source": [
    "## Exercise 2"
   ]
  },
  {
   "cell_type": "raw",
   "metadata": {},
   "source": [
    "Create a file called new_world.txt. Write a program to first add a new line to the file: \"Welcome to robotics time.\". And then print the content of new_world.txt."
   ]
  },
  {
   "cell_type": "code",
   "execution_count": 4,
   "metadata": {
    "collapsed": true
   },
   "outputs": [],
   "source": [
    "# Solution \n",
    "\n",
    "my_file=open(\"new_world.txt\",\"w\") # r+ also means to open the file for reading and writing. The stream is positioned at the beginning of the file.\n",
    "\n",
    "line= \"Welcome to robotics time.\"\n",
    "my_file.write(line)\n",
    "\n",
    "#print( my_file.read())\n",
    "\n",
    "my_file.close()\n",
    "\n",
    "# Output is \n",
    "# Welcome to robotics time."
   ]
  },
  {
   "cell_type": "markdown",
   "metadata": {
    "collapsed": true
   },
   "source": [
    "## Exercise 3"
   ]
  },
  {
   "cell_type": "raw",
   "metadata": {},
   "source": [
    "Write a csv file with the content \n",
    "\n",
    "1,2,3\n",
    "4,5,6\n",
    " \n",
    "Name the csv file anything you would like. Use the syntax of the example in the lecture. "
   ]
  },
  {
   "cell_type": "markdown",
   "metadata": {},
   "source": [
    "## Exercise 4 "
   ]
  },
  {
   "cell_type": "raw",
   "metadata": {},
   "source": [
    "Find the sum of each row of the csv file. A sample output is:\n",
    "\n",
    "The sum of row 1 is 6!\n",
    "The sum of row 2 is 15!\n",
    "\n",
    "Use the syntax of the example in the lecture and make sure that you understand each line. \n",
    "You will have to process the output to only give you what you need (the raw numbers), and convert them into type integer. "
   ]
  },
  {
   "cell_type": "markdown",
   "metadata": {},
   "source": [
    "## Exercise 5"
   ]
  },
  {
   "cell_type": "raw",
   "metadata": {},
   "source": [
    "Write a Excel (xls) file with the content:\n",
    "    \n",
    "Sheet 1: \n",
    "    \n",
    "+=======+=======+=======+\n",
    "| 1     | 1     | 1     |\n",
    "+-------+-------+-------+\n",
    "| 3     | 3     | 3     |\n",
    "+-------+-------+-------+\n",
    "| 7     | 7     | 7     |\n",
    "+-------+-------+-------+\n",
    "\n",
    "Sheet 2:\n",
    "    \n",
    "+=======+=======+=======+\n",
    "| 2     | 2     | 2     |\n",
    "+-------+-------+-------+\n",
    "| 4     | 4     | 4     |\n",
    "+-------+-------+-------+\n",
    "| 6     | 6     | 6     |\n",
    "+-------+-------+-------+\n",
    "\n",
    "This exercise is very straightforward if you follow the syntax used in the lecture. Name the file as anything.      "
   ]
  },
  {
   "cell_type": "markdown",
   "metadata": {},
   "source": [
    "## Exercise 6\n"
   ]
  },
  {
   "cell_type": "raw",
   "metadata": {},
   "source": [
    "Write a function to find the sum of the numbers in each sheet of a xls file. Which one is larger? You should be able to pass any two-sheet xls file into this function. A sample output would be:\n",
    "\n",
    "sum of sheet 1 > sum of sheet 2 \n",
    "\n",
    "This exercise should be simple if you have mastery over string processing. Remove the unneccesary characters and sum up the numbers in each sheet. Remember to convert the necessary strings to int!  "
   ]
  }
 ],
 "metadata": {
  "kernelspec": {
   "display_name": "Python 2",
   "language": "python",
   "name": "python2"
  },
  "language_info": {
   "codemirror_mode": {
    "name": "ipython",
    "version": 2
   },
   "file_extension": ".py",
   "mimetype": "text/x-python",
   "name": "python",
   "nbconvert_exporter": "python",
   "pygments_lexer": "ipython2",
   "version": "2.7.9"
  }
 },
 "nbformat": 4,
 "nbformat_minor": 2
}
