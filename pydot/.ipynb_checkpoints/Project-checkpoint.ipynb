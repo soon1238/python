{
 "cells": [
  {
   "cell_type": "code",
   "execution_count": 6,
   "metadata": {},
   "outputs": [
    {
     "name": "stdout",
     "output_type": "stream",
     "text": [
      "-KycRXIa0pG-GjrKT4a8 1510359573181 103.751173 1.401302\n",
      "-KycRkt3XMdvvcagPinO 1510359632937 103.7506833 1.3996433\n",
      "-KycRzXfL49EvS6zZenC 1510359692944 103.7491037 1.4004191\n",
      "-KycSD8yqVM1ZPA5AFl3 1510359752804 103.7477538 1.3970815\n",
      "-KycSRmgOADAtjcU8xzd 1510359812753 103.7479596 1.397608\n",
      "-KycSfPV3nUUKF0C8VuP 1510359872645 103.7473602 1.3973497\n",
      "-KycT4JhCPe2s99gtb4b 1510359978771 103.747081 1.3978616\n",
      "-KycTJ1HV2pkm_wsONmh 1510360039031 103.7470608 1.3979397\n",
      "-KycTXJVeV9ZfJcXdgmF 1510360097542 103.7470963 1.3979714\n",
      "-KycTky-OYj6lnWXwuEW 1510360157541 103.7470963 1.3979714\n",
      "-KycTzyFJfrg_81Yzj32 1510360218998 103.7470817 1.3978335\n",
      "-KycUDiHkVPwquo-tfBA 1510360279415 103.7473421 1.3974112\n",
      "-KycUSH2pvmP2ROVwpKY 1510360339048 103.7478637 1.3965297\n",
      "-KycUguOyzX-Y6PP6Gyc 1510360403071 103.7477863 1.3966622\n",
      "-KycUvnodWG3fV3V3cFF 1510360464090 103.747973 1.3964104\n",
      "-KycVFNBgIyiYAagsylx 1510360548337 103.7470467 1.3959157\n",
      "-KycVSsX8mhB9aTmjN3C 1510360603656 103.7444652 1.3865838\n",
      "-KycVgW73yMX5iTRZVr6 1510360663598 103.7450384 1.3849655\n",
      "-KycVvDllpFaRTO-Ej76 1510360723862 103.7438825 1.3807361\n",
      "-KycW8nqiHSOYheI8PzD 1510360783580 103.7463842 1.3722854\n",
      "-KycWNTXji5fKTGmxSKv 1510360843656 103.7514135 1.3638833\n",
      "-KycWb7c7Ci3SpRboCON 1510360903694 103.7518103 1.3586209\n",
      "-KycWpgczxmnFMV6jyNu 1510360963342 103.7522756 1.3571858\n",
      "-KycX3QKpaLLyzfLn-OC 1510361023675 103.7504034 1.3493559\n",
      "-KycXI1v3d4k8iGImBQH 1510361083552 103.7496348 1.3483724\n",
      "-KycXWeOTlqspRn1-Zlh 1510361143423 103.7495588 1.3485641\n",
      "-KycXjwuONmwQMczMr8c 1510361201952 103.7495687 1.3485404\n",
      "-KycXyabLdZUrmiLp0RS 1510361261965 103.7495687 1.3485404\n",
      "-KycYCFXRcVz56yA9kwL 1510361321991 103.7495687 1.3485404\n",
      "-KycYQvB65l1137hWKPs 1510361382066 103.7495687 1.3485404\n",
      "-KycYeYyCaF1nTbJsbLn 1510361442020 103.7495687 1.3485404\n",
      "-KycYte_Eu4r9oJvS2Ni 1510361503882 103.741769 1.3325424\n",
      "-KycZ7CRSdBBn7E2h0Eg 1510361563458 103.741769 1.3325424\n",
      "-KycZLu8sLRGpvU92IPC 1510361623662 103.7444629 1.3312225\n",
      "-KycZ_ZcWjwtQh5NuCiJ 1510361683726 103.7493219 1.3280098\n",
      "-KycZqed8mdThxV0WabK 1510361753743 103.7493219 1.3280098\n",
      "-Kyc_1rVtGHj20I-koHH 1510361803717 103.7619897 1.320762\n",
      "-Kyc_GWdt-zt4jdpiWsJ 1510361863758 103.7654796 1.3146623\n",
      "-Kyc_UxHDIpYl4MrC5gl 1510361922872 103.7655567 1.314682\n",
      "-Kyc_iPrRPqyqRu7Egdl 1510361982108 103.7672624 1.3121674\n",
      "-Kyc_x2geHrXGfuHniYA 1510362042065 103.7672624 1.3121674\n",
      "-KycaAhc_L-dhNjonzKl 1510362102093 103.7672624 1.3121674\n",
      "-KycaPnAA63yGaRd1nzS 1510362163888 103.7905135 1.3071594\n",
      "-KycadUC3IoAGE-C95w- 1510362224050 103.7896736 1.3067798\n",
      "-Kycas0FnuWLlvtWRDOW 1510362283574 103.7906329 1.3066188\n",
      "-Kycb5es63RU6a3gvQRr 1510362343582 103.7906329 1.3066188\n",
      "-KycbKJtnliB8ZHRGd82 1510362403614 103.7906329 1.3066188\n",
      "-KycbZ03nSfgxDp3Ypit 1510362463785 103.7906329 1.3066188\n",
      "-KycbvX-VyC0uaQQR-xb 1510362560102 103.7906329 1.3066188\n",
      "-Kycc9ZWTsyfZ-LLG1Xw 1510362621703 103.7877086 1.2998646\n",
      "-KyccPd_VU0tJBIAzVQJ 1510362687562 103.7872393 1.2993615\n",
      "-KyccdO8e27uSc8GhjGw 1510362747950 103.787171 1.297987\n",
      "-Kycd3_hMPw6k2O4EJvK 1510362860254 103.7870183 1.2978885\n",
      "-KycdSgpCqPNZ0y5HsY8 1510362963116 103.787478 1.2981407\n",
      "-Kye8vRLSE91lNMM1mmy 1510388251321 103.7874505 1.2980643\n",
      "-Kye91MUffWvu3QKChp3 1510388279720 103.7874505 1.2980643\n",
      "expected!!!\n"
     ]
    },
    {
     "ename": "IOError",
     "evalue": "no such file or directory: 'c:/pentest/pycourse/pydot2017-11-11.geojson'",
     "output_type": "error",
     "traceback": [
      "\u001b[1;31m---------------------------------------------------------------------------\u001b[0m",
      "\u001b[1;31mIOError\u001b[0m                                   Traceback (most recent call last)",
      "\u001b[1;32m<ipython-input-6-ba0f053f1184>\u001b[0m in \u001b[0;36m<module>\u001b[1;34m()\u001b[0m\n\u001b[0;32m     57\u001b[0m \u001b[1;33m\u001b[0m\u001b[0m\n\u001b[0;32m     58\u001b[0m \u001b[1;31m# admin=gpd.GeoDataFrame.from_file('/Users/tecksoon/ISS/pyCourse/pydot/SingMaps/singapore_admin.geojson')\u001b[0m\u001b[1;33m\u001b[0m\u001b[1;33m\u001b[0m\u001b[0m\n\u001b[1;32m---> 59\u001b[1;33m \u001b[0mtrack\u001b[0m\u001b[1;33m=\u001b[0m\u001b[0mgpd\u001b[0m\u001b[1;33m.\u001b[0m\u001b[0mGeoDataFrame\u001b[0m\u001b[1;33m.\u001b[0m\u001b[0mfrom_file\u001b[0m\u001b[1;33m(\u001b[0m\u001b[1;34m'c:/pentest/pycourse/pydot'\u001b[0m\u001b[1;33m+\u001b[0m \u001b[0mstr\u001b[0m\u001b[1;33m(\u001b[0m\u001b[0mcurrent_date\u001b[0m\u001b[1;33m)\u001b[0m\u001b[1;33m+\u001b[0m\u001b[1;34m'.geojson'\u001b[0m\u001b[1;33m)\u001b[0m\u001b[1;33m\u001b[0m\u001b[0m\n\u001b[0m\u001b[0;32m     60\u001b[0m \u001b[1;31m# singapore=admin.ix[0]\u001b[0m\u001b[1;33m\u001b[0m\u001b[1;33m\u001b[0m\u001b[0m\n\u001b[0;32m     61\u001b[0m \u001b[1;31m# track=track[track.geometry.within(singapore.geometry)]\u001b[0m\u001b[1;33m\u001b[0m\u001b[1;33m\u001b[0m\u001b[0m\n",
      "\u001b[1;32mC:\\Anaconda2\\lib\\site-packages\\geopandas\\geodataframe.pyc\u001b[0m in \u001b[0;36mfrom_file\u001b[1;34m(cls, filename, **kwargs)\u001b[0m\n\u001b[0;32m    179\u001b[0m         \u001b[1;33m>>\u001b[0m\u001b[1;33m>\u001b[0m \u001b[0mdf\u001b[0m \u001b[1;33m=\u001b[0m \u001b[0mgeopandas\u001b[0m\u001b[1;33m.\u001b[0m\u001b[0mGeoDataFrame\u001b[0m\u001b[1;33m.\u001b[0m\u001b[0mfrom_file\u001b[0m\u001b[1;33m(\u001b[0m\u001b[1;34m'nybb.shp'\u001b[0m\u001b[1;33m)\u001b[0m\u001b[1;33m\u001b[0m\u001b[0m\n\u001b[0;32m    180\u001b[0m         \"\"\"\n\u001b[1;32m--> 181\u001b[1;33m         \u001b[1;32mreturn\u001b[0m \u001b[0mgeopandas\u001b[0m\u001b[1;33m.\u001b[0m\u001b[0mio\u001b[0m\u001b[1;33m.\u001b[0m\u001b[0mfile\u001b[0m\u001b[1;33m.\u001b[0m\u001b[0mread_file\u001b[0m\u001b[1;33m(\u001b[0m\u001b[0mfilename\u001b[0m\u001b[1;33m,\u001b[0m \u001b[1;33m**\u001b[0m\u001b[0mkwargs\u001b[0m\u001b[1;33m)\u001b[0m\u001b[1;33m\u001b[0m\u001b[0m\n\u001b[0m\u001b[0;32m    182\u001b[0m \u001b[1;33m\u001b[0m\u001b[0m\n\u001b[0;32m    183\u001b[0m     \u001b[1;33m@\u001b[0m\u001b[0mclassmethod\u001b[0m\u001b[1;33m\u001b[0m\u001b[0m\n",
      "\u001b[1;32mC:\\Anaconda2\\lib\\site-packages\\geopandas\\io\\file.pyc\u001b[0m in \u001b[0;36mread_file\u001b[1;34m(filename, bbox, **kwargs)\u001b[0m\n\u001b[0;32m     63\u001b[0m         \u001b[0mreader\u001b[0m \u001b[1;33m=\u001b[0m \u001b[0mfiona\u001b[0m\u001b[1;33m.\u001b[0m\u001b[0mopen\u001b[0m\u001b[1;33m\u001b[0m\u001b[0m\n\u001b[0;32m     64\u001b[0m \u001b[1;33m\u001b[0m\u001b[0m\n\u001b[1;32m---> 65\u001b[1;33m     \u001b[1;32mwith\u001b[0m \u001b[0mreader\u001b[0m\u001b[1;33m(\u001b[0m\u001b[0mpath_or_bytes\u001b[0m\u001b[1;33m,\u001b[0m \u001b[1;33m**\u001b[0m\u001b[0mkwargs\u001b[0m\u001b[1;33m)\u001b[0m \u001b[1;32mas\u001b[0m \u001b[0mfeatures\u001b[0m\u001b[1;33m:\u001b[0m\u001b[1;33m\u001b[0m\u001b[0m\n\u001b[0m\u001b[0;32m     66\u001b[0m         \u001b[0mcrs\u001b[0m \u001b[1;33m=\u001b[0m \u001b[0mfeatures\u001b[0m\u001b[1;33m.\u001b[0m\u001b[0mcrs\u001b[0m\u001b[1;33m\u001b[0m\u001b[0m\n\u001b[0;32m     67\u001b[0m         \u001b[1;32mif\u001b[0m \u001b[0mbbox\u001b[0m \u001b[1;32mis\u001b[0m \u001b[1;32mnot\u001b[0m \u001b[0mNone\u001b[0m\u001b[1;33m:\u001b[0m\u001b[1;33m\u001b[0m\u001b[0m\n",
      "\u001b[1;32mC:\\Anaconda2\\lib\\site-packages\\fiona\\__init__.pyc\u001b[0m in \u001b[0;36mopen\u001b[1;34m(path, mode, driver, schema, crs, encoding, layer, vfs, enabled_drivers, crs_wkt)\u001b[0m\n\u001b[0;32m    160\u001b[0m                 \u001b[1;32mraise\u001b[0m \u001b[0mIOError\u001b[0m\u001b[1;33m(\u001b[0m\u001b[1;34m\"no such archive file: %r\"\u001b[0m \u001b[1;33m%\u001b[0m \u001b[0marchive\u001b[0m\u001b[1;33m)\u001b[0m\u001b[1;33m\u001b[0m\u001b[0m\n\u001b[0;32m    161\u001b[0m         \u001b[1;32melif\u001b[0m \u001b[0mpath\u001b[0m \u001b[1;33m!=\u001b[0m \u001b[1;34m'-'\u001b[0m \u001b[1;32mand\u001b[0m \u001b[1;32mnot\u001b[0m \u001b[0mos\u001b[0m\u001b[1;33m.\u001b[0m\u001b[0mpath\u001b[0m\u001b[1;33m.\u001b[0m\u001b[0mexists\u001b[0m\u001b[1;33m(\u001b[0m\u001b[0mpath\u001b[0m\u001b[1;33m)\u001b[0m\u001b[1;33m:\u001b[0m\u001b[1;33m\u001b[0m\u001b[0m\n\u001b[1;32m--> 162\u001b[1;33m             \u001b[1;32mraise\u001b[0m \u001b[0mIOError\u001b[0m\u001b[1;33m(\u001b[0m\u001b[1;34m\"no such file or directory: %r\"\u001b[0m \u001b[1;33m%\u001b[0m \u001b[0mpath\u001b[0m\u001b[1;33m)\u001b[0m\u001b[1;33m\u001b[0m\u001b[0m\n\u001b[0m\u001b[0;32m    163\u001b[0m         c = Collection(path, mode, driver=driver, encoding=encoding,\n\u001b[0;32m    164\u001b[0m                        \u001b[0mlayer\u001b[0m\u001b[1;33m=\u001b[0m\u001b[0mlayer\u001b[0m\u001b[1;33m,\u001b[0m \u001b[0mvsi\u001b[0m\u001b[1;33m=\u001b[0m\u001b[0mvsi\u001b[0m\u001b[1;33m,\u001b[0m \u001b[0marchive\u001b[0m\u001b[1;33m=\u001b[0m\u001b[0marchive\u001b[0m\u001b[1;33m,\u001b[0m\u001b[1;33m\u001b[0m\u001b[0m\n",
      "\u001b[1;31mIOError\u001b[0m: no such file or directory: 'c:/pentest/pycourse/pydot2017-11-11.geojson'"
     ]
    }
   ],
   "source": [
    "#get lng, lat from firebase and display\n",
    "import time\n",
    "from datetime import date\n",
    "from firebase import firebase\n",
    "\n",
    "# current_date=date.today()\n",
    "#current_date='2018-09-08'\n",
    "current_date='2017-11-11'\n",
    "firebase=firebase.FirebaseApplication ('https://ionic2do-ee1d2.firebaseio.com',None)\n",
    "results=firebase.get(\"/location_\"+str(current_date),None)\n",
    "\n",
    "z=results.items()\n",
    "# sort base on time field\n",
    "z.sort(key=lambda x: (x[1]['time']))\n",
    "\n",
    "template_line = \\\n",
    "    ''' \\\n",
    "    { \"type\" : \"Feature\",\n",
    "        \"geometry\" : {\n",
    "            \"type\" : \"LineString\",\n",
    "            \"coordinates\" : [[%s, %s],[%s,%s]]},\n",
    "        \"properties\" : {}\n",
    "        },\n",
    "    '''        \n",
    "        \n",
    "template_marker = \\\n",
    "    ''' \\\n",
    "    { \"type\" : \"Feature\",\n",
    "        \"geometry\" : {\n",
    "            \"type\" : \"Point\",\n",
    "            \"coordinates\" : [%s, %s]},\n",
    "        \"properties\" : {}\n",
    "        },\n",
    "    '''\n",
    "    \n",
    "# the head of the geojson file\n",
    "output = \\\n",
    "    ''' \\\n",
    "{ \"type\" : \"FeatureCollection\",\n",
    "    \"features\" : [\n",
    "    '''\n",
    "i=0\n",
    "for uid,items in z: \n",
    "    i+=1\n",
    "    print uid, items.get('time'),items.get('lng'),items.get('lat')\n",
    "    output += template_marker % (items.get('lng'), items.get('lat'))\n",
    "    try:\n",
    "        output += template_line % (items.get('lng'), items.get('lat'),z[i][1].get('lng'), z[i][1].get('lat'))\n",
    "    except:\n",
    "        print (\"expected!!!\")\n",
    "    \n",
    "# the tail of the geojson file\n",
    "output += \\\n",
    "    ''' \\\n",
    "    ]\n",
    "}\n",
    "    '''\n",
    "    \n",
    "outFileHandle = open(str(current_date)+\".geojson\", \"w\")\n",
    "outFileHandle.write(output)\n",
    "outFileHandle.close()\n",
    "\n",
    "import mplleaflet\n",
    "import geopandas as gpd\n",
    "\n",
    "# admin=gpd.GeoDataFrame.from_file('/Users/tecksoon/ISS/pyCourse/pydot/SingMaps/singapore_admin.geojson')\n",
    "track=gpd.GeoDataFrame.from_file('c:/pentest/pycourse/pydot/'+ str(current_date)+'.geojson')\n",
    "# singapore=admin.ix[0]\n",
    "# track=track[track.geometry.within(singapore.geometry)]\n",
    "# tr=track.geometry.plot(marker='*', color='red', markersize=200)\n",
    "tr=track.geometry.plot(color='red')\n",
    "mplleaflet.show(fig=tr.figure)\n"
   ]
  },
  {
   "cell_type": "code",
   "execution_count": 6,
   "metadata": {},
   "outputs": [
    {
     "name": "stderr",
     "output_type": "stream",
     "text": [
      "/anaconda2/lib/python2.7/site-packages/ipykernel_launcher.py:12: DeprecationWarning: \n",
      ".ix is deprecated. Please use\n",
      ".loc for label based indexing or\n",
      ".iloc for positional indexing\n",
      "\n",
      "See the documentation here:\n",
      "http://pandas.pydata.org/pandas-docs/stable/indexing.html#ix-indexer-is-deprecated\n",
      "  if sys.path[0] == '':\n"
     ]
    }
   ],
   "source": [
    "import mplleaflet\n",
    "import geopandas as gpd\n",
    "# df=gpd.read_file('/Users/tecksoon/ISS/pyCourse/pydot/singapore_roads_gen1.geojson')\n",
    "admin=gpd.GeoDataFrame.from_file('/Users/tecksoon/ISS/pyCourse/pydot/SingMaps/singapore_admin.geojson')\n",
    "amenities=gpd.GeoDataFrame.from_file('/Users/tecksoon/ISS/pyCourse/pydot/SingMaps/singapore_aeroways.geojson')\n",
    "\n",
    "\n",
    "\n",
    "\n",
    "\n",
    "\n",
    "singapore=admin.ix[0]\n",
    "# roads=roads[roads.geometry.within(singapore.geometry)]\n",
    "# buildings=buildings[buildings.geometry.within(singapore.geometry)]\n",
    "amenities=amenities[amenities.geometry.within(singapore.geometry)]\n",
    "\n",
    "\n",
    "# rx=roads.geometry.plot()\n",
    "# bx=buildings.geometry.plot()\n",
    "#am=amenities.geometry.plot(marker='*', color='red', markersize=200)\n",
    "am=amenities.geometry.plot(color='red')\n",
    "\n",
    "# mplleaflet.display(fig=bx.figure) #to display it right at the notebook\n",
    "# mplleaflet.show(fig=bx.figure) #output as _map.html\n",
    "# mplleaflet.show(fig=rx.figure)\n",
    "mplleaflet.show(fig=am.figure)\n"
   ]
  },
  {
   "cell_type": "code",
   "execution_count": 2,
   "metadata": {},
   "outputs": [
    {
     "ename": "SyntaxError",
     "evalue": "invalid syntax (<ipython-input-2-3b11a8ec007d>, line 1)",
     "output_type": "error",
     "traceback": [
      "\u001b[1;36m  File \u001b[1;32m\"<ipython-input-2-3b11a8ec007d>\"\u001b[1;36m, line \u001b[1;32m1\u001b[0m\n\u001b[1;33m    pip install python-firebase\u001b[0m\n\u001b[1;37m              ^\u001b[0m\n\u001b[1;31mSyntaxError\u001b[0m\u001b[1;31m:\u001b[0m invalid syntax\n"
     ]
    }
   ],
   "source": [
    "pip install python-firebase\n"
   ]
  },
  {
   "cell_type": "code",
   "execution_count": null,
   "metadata": {
    "collapsed": true
   },
   "outputs": [],
   "source": []
  }
 ],
 "metadata": {
  "kernelspec": {
   "display_name": "Python 2",
   "language": "python",
   "name": "python2"
  },
  "language_info": {
   "codemirror_mode": {
    "name": "ipython",
    "version": 2
   },
   "file_extension": ".py",
   "mimetype": "text/x-python",
   "name": "python",
   "nbconvert_exporter": "python",
   "pygments_lexer": "ipython2",
   "version": "2.7.15"
  }
 },
 "nbformat": 4,
 "nbformat_minor": 2
}
