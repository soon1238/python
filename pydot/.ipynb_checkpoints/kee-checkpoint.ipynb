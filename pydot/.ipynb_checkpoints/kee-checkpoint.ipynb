{
 "cells": [
  {
   "cell_type": "code",
   "execution_count": null,
   "metadata": {
    "collapsed": true
   },
   "outputs": [],
   "source": []
  },
  {
   "cell_type": "code",
   "execution_count": null,
   "metadata": {
    "collapsed": true
   },
   "outputs": [],
   "source": []
  },
  {
   "cell_type": "code",
   "execution_count": 7,
   "metadata": {},
   "outputs": [
    {
     "name": "stdout",
     "output_type": "stream",
     "text": [
      "<type 'datetime.date'>\n",
      "39\n"
     ]
    }
   ],
   "source": [
    "from datetime import date\n",
    "\n",
    "d0 = date(2008, 8, 18)\n",
    "d1 = date(2008, 9, 26)\n",
    "print type(d0)\n",
    "delta = d1 - d0\n",
    "print delta.days"
   ]
  },
  {
   "cell_type": "code",
   "execution_count": 12,
   "metadata": {},
   "outputs": [
    {
     "data": {
      "text/plain": [
       "-3172"
      ]
     },
     "execution_count": 12,
     "metadata": {},
     "output_type": "execute_result"
    }
   ],
   "source": [
    "import datetime\n",
    "today = datetime.date.today()\n",
    "someday = datetime.date(2008, 12, 25)\n",
    "diff = someday - today\n",
    "diff.days"
   ]
  },
  {
   "cell_type": "code",
   "execution_count": null,
   "metadata": {
    "collapsed": true
   },
   "outputs": [],
   "source": []
  },
  {
   "cell_type": "code",
   "execution_count": 1,
   "metadata": {
    "scrolled": true
   },
   "outputs": [
    {
     "ename": "KeyboardInterrupt",
     "evalue": "",
     "output_type": "error",
     "traceback": [
      "\u001b[0;31m---------------------------------------------------------------------------\u001b[0m",
      "\u001b[0;31mKeyboardInterrupt\u001b[0m                         Traceback (most recent call last)",
      "\u001b[0;32m<ipython-input-1-39544dd6b53b>\u001b[0m in \u001b[0;36m<module>\u001b[0;34m()\u001b[0m\n\u001b[1;32m    154\u001b[0m     \u001b[0mplt\u001b[0m\u001b[0;34m.\u001b[0m\u001b[0mshow\u001b[0m\u001b[0;34m(\u001b[0m\u001b[0;34m)\u001b[0m\u001b[0;34m\u001b[0m\u001b[0m\n\u001b[1;32m    155\u001b[0m \u001b[0;34m\u001b[0m\u001b[0m\n\u001b[0;32m--> 156\u001b[0;31m \u001b[0minput_days\u001b[0m\u001b[0;34m=\u001b[0m\u001b[0minput\u001b[0m\u001b[0;34m(\u001b[0m\u001b[0;34m\"Please enter number of days you want to analyse: \"\u001b[0m\u001b[0;34m)\u001b[0m\u001b[0;34m\u001b[0m\u001b[0m\n\u001b[0m\u001b[1;32m    157\u001b[0m \u001b[0;34m\u001b[0m\u001b[0m\n\u001b[1;32m    158\u001b[0m \u001b[0;32mwhile\u001b[0m \u001b[0mTrue\u001b[0m\u001b[0;34m:\u001b[0m\u001b[0;34m\u001b[0m\u001b[0m\n",
      "\u001b[0;32m/anaconda2/lib/python2.7/site-packages/ipykernel/ipkernel.pyc\u001b[0m in \u001b[0;36m<lambda>\u001b[0;34m(prompt)\u001b[0m\n\u001b[1;32m    162\u001b[0m             \u001b[0mself\u001b[0m\u001b[0;34m.\u001b[0m\u001b[0m_sys_eval_input\u001b[0m \u001b[0;34m=\u001b[0m \u001b[0mbuiltin_mod\u001b[0m\u001b[0;34m.\u001b[0m\u001b[0minput\u001b[0m\u001b[0;34m\u001b[0m\u001b[0m\n\u001b[1;32m    163\u001b[0m             \u001b[0mbuiltin_mod\u001b[0m\u001b[0;34m.\u001b[0m\u001b[0mraw_input\u001b[0m \u001b[0;34m=\u001b[0m \u001b[0mself\u001b[0m\u001b[0;34m.\u001b[0m\u001b[0mraw_input\u001b[0m\u001b[0;34m\u001b[0m\u001b[0m\n\u001b[0;32m--> 164\u001b[0;31m             \u001b[0mbuiltin_mod\u001b[0m\u001b[0;34m.\u001b[0m\u001b[0minput\u001b[0m \u001b[0;34m=\u001b[0m \u001b[0;32mlambda\u001b[0m \u001b[0mprompt\u001b[0m\u001b[0;34m=\u001b[0m\u001b[0;34m''\u001b[0m\u001b[0;34m:\u001b[0m \u001b[0meval\u001b[0m\u001b[0;34m(\u001b[0m\u001b[0mself\u001b[0m\u001b[0;34m.\u001b[0m\u001b[0mraw_input\u001b[0m\u001b[0;34m(\u001b[0m\u001b[0mprompt\u001b[0m\u001b[0;34m)\u001b[0m\u001b[0;34m)\u001b[0m\u001b[0;34m\u001b[0m\u001b[0m\n\u001b[0m\u001b[1;32m    165\u001b[0m         \u001b[0mself\u001b[0m\u001b[0;34m.\u001b[0m\u001b[0m_save_getpass\u001b[0m \u001b[0;34m=\u001b[0m \u001b[0mgetpass\u001b[0m\u001b[0;34m.\u001b[0m\u001b[0mgetpass\u001b[0m\u001b[0;34m\u001b[0m\u001b[0m\n\u001b[1;32m    166\u001b[0m         \u001b[0mgetpass\u001b[0m\u001b[0;34m.\u001b[0m\u001b[0mgetpass\u001b[0m \u001b[0;34m=\u001b[0m \u001b[0mself\u001b[0m\u001b[0;34m.\u001b[0m\u001b[0mgetpass\u001b[0m\u001b[0;34m\u001b[0m\u001b[0m\n",
      "\u001b[0;32m/anaconda2/lib/python2.7/site-packages/ipykernel/kernelbase.pyc\u001b[0m in \u001b[0;36mraw_input\u001b[0;34m(self, prompt)\u001b[0m\n\u001b[1;32m    703\u001b[0m             \u001b[0mself\u001b[0m\u001b[0;34m.\u001b[0m\u001b[0m_parent_ident\u001b[0m\u001b[0;34m,\u001b[0m\u001b[0;34m\u001b[0m\u001b[0m\n\u001b[1;32m    704\u001b[0m             \u001b[0mself\u001b[0m\u001b[0;34m.\u001b[0m\u001b[0m_parent_header\u001b[0m\u001b[0;34m,\u001b[0m\u001b[0;34m\u001b[0m\u001b[0m\n\u001b[0;32m--> 705\u001b[0;31m             \u001b[0mpassword\u001b[0m\u001b[0;34m=\u001b[0m\u001b[0mFalse\u001b[0m\u001b[0;34m,\u001b[0m\u001b[0;34m\u001b[0m\u001b[0m\n\u001b[0m\u001b[1;32m    706\u001b[0m         )\n\u001b[1;32m    707\u001b[0m \u001b[0;34m\u001b[0m\u001b[0m\n",
      "\u001b[0;32m/anaconda2/lib/python2.7/site-packages/ipykernel/kernelbase.pyc\u001b[0m in \u001b[0;36m_input_request\u001b[0;34m(self, prompt, ident, parent, password)\u001b[0m\n\u001b[1;32m    733\u001b[0m             \u001b[0;32mexcept\u001b[0m \u001b[0mKeyboardInterrupt\u001b[0m\u001b[0;34m:\u001b[0m\u001b[0;34m\u001b[0m\u001b[0m\n\u001b[1;32m    734\u001b[0m                 \u001b[0;31m# re-raise KeyboardInterrupt, to truncate traceback\u001b[0m\u001b[0;34m\u001b[0m\u001b[0;34m\u001b[0m\u001b[0m\n\u001b[0;32m--> 735\u001b[0;31m                 \u001b[0;32mraise\u001b[0m \u001b[0mKeyboardInterrupt\u001b[0m\u001b[0;34m\u001b[0m\u001b[0m\n\u001b[0m\u001b[1;32m    736\u001b[0m             \u001b[0;32melse\u001b[0m\u001b[0;34m:\u001b[0m\u001b[0;34m\u001b[0m\u001b[0m\n\u001b[1;32m    737\u001b[0m                 \u001b[0;32mbreak\u001b[0m\u001b[0;34m\u001b[0m\u001b[0m\n",
      "\u001b[0;31mKeyboardInterrupt\u001b[0m: "
     ]
    }
   ],
   "source": [
    "'''\n",
    "This program is to collect data for various IT positions with web scrapng from jobsdb website to analyse how many \n",
    "job openings for IT positions and what jobs are on high demand\n",
    "'''\n",
    "import math\n",
    "import requests\n",
    "import csv\n",
    "from bs4 import BeautifulSoup\n",
    "from pprint import pprint\n",
    "import pandas as pd\n",
    "import matplotlib.pyplot as plt\n",
    "from matplotlib import rcParams\n",
    "import datetime as dt\n",
    "import re\n",
    "from time import strptime\n",
    "\n",
    "rcParams['figure.figsize']=(14,8)\n",
    "\n",
    "url_base = \"https://sg.jobsdb.com/sg/jobs/information-technology?KeyOpt=COMPLEX&JSRV=1&RLRSF=1&JobCat=131&JSSRC=JSRSB\"\n",
    "location='job_data.csv'\n",
    "    \n",
    "my_job_count_dict={\n",
    "                    'Desktop Support':0,\n",
    "                    'Business IT Analyst':0,\n",
    "                    'Project Engineer':0,\n",
    "                    'Application Support':0,\n",
    "                    'IT Support':0,\n",
    "                    'IT Administrator':0,\n",
    "                    'Software Engineer':0,\n",
    "                    'Network Engineer':0,\n",
    "                    'Data Analyst':0,\n",
    "                    'IT Consultant':0,\n",
    "                    'SAP Engineer':0,\n",
    "                    'Other IT Positions':0\n",
    "                    }\n",
    "\n",
    "page_num=0\n",
    "\n",
    "#this function returns the total of IT jobs\n",
    "def retrieve_total_number_of_job():\n",
    "    url_to_scrape=url_base+\"&page=\"+str(page_num)\n",
    "    content =  requests.get(url_to_scrape).text\n",
    "    soup = BeautifulSoup(content, 'html.parser')\n",
    "    #retrieve_total_number_of_IT_jobs\n",
    "    return int(soup.find(\"span\",{\"class\":\"criteria-primary\"}).find(\"em\").get_text())\n",
    "\n",
    "number_of_job_tag=retrieve_total_number_of_job()\n",
    "# print (\"number_of_job_tag: {}\".format(number_of_job_tag))\n",
    "\n",
    "# get the total max number of pages of IT jobs\n",
    "total_job_pages=int(math.ceil(number_of_job_tag/50.0))\n",
    "# print (\"total_job_pages: {}\".format(total_job_pages))\n",
    "\n",
    "# this function calculate the difference in days between today and last job posted\n",
    "def calculate_diff_in_days(date_posted_tag): \n",
    "    #use regular expression class to split to day,month,year in list\n",
    "    tlist=re.split(\"-\",date_posted_tag[\"content\"])\n",
    "    \n",
    "    # str(strptime(tlist[1],'%b').tm_mon) is to convert Month text to numeric\n",
    "    # convert '30-Aug-17' to string 8/30/2017 format\n",
    "\n",
    "    # convert to date object using datetime.date(year,month,day)\n",
    "    someday = dt.date(int(\"20\"+tlist[2]),strptime(tlist[1],'%b').tm_mon,int(tlist[0]))\n",
    "    \n",
    "    today = dt.date.today()\n",
    "    #print today date object in mm/dd/yy format\n",
    "#     print (\"today is %s/%s/%s\" % (today.month, today.day, today.year))\n",
    "    \n",
    "    return (today - someday).days\n",
    "\n",
    "#sum up each IT post in each page\n",
    "def sum_each_IT_post_count_in_page(job_title_tag):\n",
    "    \n",
    "    for each_job in job_title_tag:\n",
    "        job_title=each_job.text.strip().lower()\n",
    "        if \"software engineer\" in job_title:\n",
    "            my_job_count_dict['Software Engineer']+=1\n",
    "        elif \"programmer\" in job_title:\n",
    "            my_job_count_dict['Software Engineer']+=1\n",
    "        elif \"developer\" in job_title:\n",
    "            my_job_count_dict['Software Engineer']+=1\n",
    "        elif \"development\" in job_title:\n",
    "            my_job_count_dict['Software Engineer']+=1\n",
    "        elif \"development\" in job_title:\n",
    "            my_job_count_dict['Software Engineer']+=1\n",
    "        elif \"sap\" in job_title:\n",
    "            my_job_count_dict['SAP Engineer']+=1\n",
    "        elif \"application support\" in job_title:\n",
    "            my_job_count_dict['Application Support']+=1\n",
    "        elif \"network\" in job_title:\n",
    "            my_job_count_dict['Network Engineer']+=1\n",
    "        elif \"security\" in job_title:\n",
    "            my_job_count_dict['Network Engineer']+=1\n",
    "        elif \"infrastructure\" in job_title:\n",
    "            my_job_count_dict['Network Engineer']+=1\n",
    "        elif \"project\" in job_title:\n",
    "            my_job_count_dict['Project Engineer']+=1\n",
    "        elif \"consultant\" in job_title:\n",
    "            my_job_count_dict['IT Consultant']+=1\n",
    "        elif \"business analyst\" in job_title:\n",
    "            my_job_count_dict['Business IT Analyst']+=1\n",
    "        elif \"business\" in job_title:\n",
    "            my_job_count_dict['Business IT Analyst']+=1\n",
    "        elif \"data\" in job_title:\n",
    "            my_job_count_dict['Data Analyst']+=1\n",
    "        elif \"dba\" in job_title:\n",
    "            my_job_count_dict['Data Analyst']+=1\n",
    "        elif \"administrator\" in job_title:\n",
    "            my_job_count_dict['IT Administrator']+=1\n",
    "        elif \"system\" in job_title:\n",
    "            my_job_count_dict['IT Administrator']+=1\n",
    "        elif \"desktop\" in job_title:\n",
    "            my_job_count_dict['Desktop Support']+=1\n",
    "        elif \"helpdesk\" in job_title:\n",
    "            my_job_count_dict['Desktop Support']+=1\n",
    "        elif \"desktop\" in job_title:\n",
    "            my_job_count_dict['Desktop Support']+=1\n",
    "        elif \"it support\" in job_title:\n",
    "            my_job_count_dict['IT Support']+=1\n",
    "        elif \"it executive\" in job_title:\n",
    "            my_job_count_dict['IT Support']+=1\n",
    "        elif \"it officer\" in job_title:\n",
    "            my_job_count_dict['IT Support']+=1\n",
    "        elif \"it executive\" in job_title:\n",
    "            my_job_count_dict['IT Support']+=1\n",
    "        elif \"it operation\" in job_title:\n",
    "            my_job_count_dict['IT Support']+=1\n",
    "        elif \"it engineer\" in job_title:\n",
    "            my_job_count_dict['IT Support']+=1\n",
    "        elif \"server engineer\" in job_title:\n",
    "            my_job_count_dict['IT Support']+=1\n",
    "        else:\n",
    "            my_job_count_dict['Other IT Positions']+=1\n",
    "#             print (job_title)\n",
    "\n",
    "def save_job_count_to_csv(my_job_count_dict):\n",
    "    with open(location, 'wb') as csvfile:\n",
    "        fieldnames=my_job_count_dict.keys()\n",
    "        writer=csv.DictWriter(csvfile,fieldnames=fieldnames)\n",
    "        writer.writeheader()\n",
    "        writer.writerow(my_job_count_dict)\n",
    "\n",
    "def plot_the_bar_chart():\n",
    "    df=pd.read_csv(location)\n",
    "#     df.head()\n",
    "    df1 = df.transpose()\n",
    "    df1.columns = ['number of positions']\n",
    "    print df1   \n",
    "    df.T\n",
    "    df.T.plot.bar()\n",
    "    plt.title(\"ANALYSIS of IT JOBS in JOBSDB PORTAL for last %d days\"%(input_days))\n",
    "    plt.xlabel(\"IT JOB CATEGORIES\")\n",
    "    plt.ylabel(\"NUMBER OF POSITIONS\")\n",
    "    plt.show()\n",
    "    \n",
    "input_days=input(\"Please enter number of days you want to analyse: \")\n",
    "\n",
    "while True:\n",
    "    next_URL_page_to_scrape=url_base+\"&page=\"+str(page_num)\n",
    "    content =  requests.get(next_URL_page_to_scrape).text\n",
    "    soup = BeautifulSoup(content, 'html.parser')\n",
    "    job_title_tag = soup.find_all(\"a\", {\"class\": \"posLink\"})\n",
    "    date_posted_tag = soup.find(\"meta\",  itemprop=\"datePosted\")\n",
    "    #     pprint (date_posted_tag[\"content\"])\n",
    "            \n",
    "    diff=calculate_diff_in_days(date_posted_tag)\n",
    "#     print (\"days difference is %d\"%(diff))\n",
    "\n",
    "    if diff > (input_days-1):\n",
    "#         print (\"more than {}. exit loop\".format(input_days))\n",
    "        break\n",
    "    \n",
    "    print (\"Iterating IT positions posted on %s in page %d......\"%(date_posted_tag[\"content\"],page_num))\n",
    "            \n",
    "    sum_each_IT_post_count_in_page(job_title_tag)\n",
    "                  \n",
    "    if page_num==total_job_pages:\n",
    "        break\n",
    "  \n",
    "    page_num+=1\n",
    "\n",
    "# print my_job_count_dict\n",
    "\n",
    "#save job count to csv file\n",
    "save_job_count_to_csv(my_job_count_dict)\n",
    "\n",
    "plot_the_bar_chart()\n"
   ]
  },
  {
   "cell_type": "code",
   "execution_count": null,
   "metadata": {
    "collapsed": true
   },
   "outputs": [],
   "source": []
  },
  {
   "cell_type": "code",
   "execution_count": null,
   "metadata": {
    "collapsed": true
   },
   "outputs": [],
   "source": []
  }
 ],
 "metadata": {
  "kernelspec": {
   "display_name": "Python 2",
   "language": "python",
   "name": "python2"
  },
  "language_info": {
   "codemirror_mode": {
    "name": "ipython",
    "version": 2
   },
   "file_extension": ".py",
   "mimetype": "text/x-python",
   "name": "python",
   "nbconvert_exporter": "python",
   "pygments_lexer": "ipython2",
   "version": "2.7.13"
  }
 },
 "nbformat": 4,
 "nbformat_minor": 2
}
