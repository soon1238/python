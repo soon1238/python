{
 "cells": [
  {
   "cell_type": "markdown",
   "metadata": {
    "deletable": true,
    "editable": true
   },
   "source": [
    "# Real world (kickass) data scraping\n",
    "---\n",
    "### Goal\n",
    "To save the products from the given website\n",
    "### Evaluation\n",
    "We should be able to retrieve lazada products and their details\n",
    "### Methods\n",
    "Use request library to fetch website contents and beautiful soup to parse it and retrieve the specific tag contents to display\n",
    "### Tools\n",
    "* Python 2.7\n",
    "* Beautiful soup\n",
    "* Request\n"
   ]
  },
  {
   "cell_type": "code",
   "execution_count": 1,
   "metadata": {
    "collapsed": true,
    "deletable": true,
    "editable": true
   },
   "outputs": [],
   "source": [
    "import requests\n",
    "from bs4 import BeautifulSoup\n",
    "from IPython.display import Image\n",
    "import csv"
   ]
  },
  {
   "cell_type": "markdown",
   "metadata": {
    "deletable": true,
    "editable": true
   },
   "source": [
    "#### Creating the category page URL"
   ]
  },
  {
   "cell_type": "code",
   "execution_count": 2,
   "metadata": {
    "collapsed": false,
    "deletable": true,
    "editable": true
   },
   "outputs": [
    {
     "name": "stdout",
     "output_type": "stream",
     "text": [
      "Got the category page!  http://www.lazada.sg/shop-computers-laptops/?page=1\n"
     ]
    }
   ],
   "source": [
    "main_url = 'http://www.lazada.sg'\n",
    "category = 'computers-laptops'\n",
    "page_number = 1\n",
    "\n",
    "category_scrape_url = main_url + '/shop-' + category + '/?page='+str(page_number)\n",
    "category_webpage = requests.get(category_scrape_url).text\n",
    "print \"Got the category page! \",category_scrape_url"
   ]
  },
  {
   "cell_type": "markdown",
   "metadata": {
    "deletable": true,
    "editable": true
   },
   "source": [
    "#### Fetching the products on that category page (according to the specified page number)"
   ]
  },
  {
   "cell_type": "code",
   "execution_count": 4,
   "metadata": {
    "collapsed": false,
    "deletable": true,
    "editable": true
   },
   "outputs": [
    {
     "name": "stdout",
     "output_type": "stream",
     "text": [
      "1 )  Seagate Backup Plus Slim 2TB Portable External Hard Drive with\n",
      "Mobile Device Backup USB 3.0 (Black)\n",
      "2 )  Logitech G102 Optical Gaming Mouse (Online Exclusive)\n",
      "3 )  Xiaomi Mi Notebook Air 13.3″ Silver (EXPORT)\n",
      "4 )  SanDisk iXpand Mini Flash Drive 32GB USB3.0 for iPhone and iPad\n",
      "5 )  USB Flash Drive Memory USB Stick U Disk Pen Drive 2TB Pendrive -\n",
      "intl\n",
      "6 )  New Asus Zenbook ROSE GOLD UX330CA-FC045T (Intel m3, 4GB RAM, 128\n",
      "SSD)\n",
      "7 )  WD RED 4TB NAS Hard Disk\n",
      "8 )  WD MY Book 4TB Desktop External Hard Drive (WDBBGB0040HBK)\n",
      "9 )  GIGABYTE GeForce® GTX 1080 Ti Gaming OC 11GB DDR5\n",
      "10 )  Dell SE2417HG 24\" Gaming Monitor\n",
      "11 )  Dell U2417H 24\" InfinityEdge IPS Monitor\n",
      "12 )  Green alliance usb splitter dragged four more than 7 port computer\n",
      "usb extension hub usb otg interface hub converter\n",
      "13 )  Lenovo ideapad 310 (Silver)\n",
      "14 )  Lenovo ideapad 100S (Silver)\n",
      "15 )  HP Printer 2130 Color All in One Print Scan Copy Photo Deskjet\n",
      "16 )  AMD RYZEN 7 1700X 8-Core 3.4 GHz (3.8 GHz Turbo) Socket AM4 95W\n",
      "YD170XBCAEWOF Desktop Processor\n",
      "17 )  Acer Aspire V13 Hello Kitty Limited Edition Laptop (V3-372-56PT) -\n",
      "13.3” FHD IPS LED-backlit TFT LCD/ intel core i5-7200U/ 4GB RAM/\n",
      "1TB Storage/W10\n",
      "18 )  Microsoft Office 2016 Professional Plus 1 PC for Windows\n",
      "19 )  Lenovo ideapad 100S (Red)\n",
      "20 )  LZX EVOLVE S3 Gaming Desktop (i5-8G-1T-N1060-W10H)\n",
      "21 )  LENOVO UHD F309 USB 3.0 Grey External 2TB HDD\n",
      "22 )  Seagate Expansion 4TB Portable External Hard Drive USB 3.0\n",
      "23 )  Logitech MK710 Wireless Desktop\n",
      "24 )  Microsoft Office 2016 Home and Business (1 PC) Guarranteed Local\n",
      "Singapore Distributor's Stocks\n",
      "25 )  Lenovo ideapad 310 (Silver)\n",
      "26 )  Jo.In Universal USB 2.0 A Male to Mini 5 Pin B Data Charging Cable\n",
      "Cord Adapter Black - Intl\n",
      "27 )  Lenovo Yoga 510 Black\n",
      "28 )  Dell Inspiron 14''-5459 Business Class Notebook\n",
      "(i7-6500U/4G/1TB)(Red)\n",
      "29 )  Acer Predator X34 QHD IPS G-Sync Gaming Monitor\n",
      "30 )  SanDisk Ultra Flair 128GB USB 3.0 Flash Drive (Up To 150MB/s)\n",
      "31 )  Logitech MK240 Wireless Compact Keyboard and Mouse Combo – Vivid Red (Online Exclusive)\n",
      "32 )  Logitech MX Master Wireless Mouse, Large Mouse, Computer Wireless\n",
      "Mouse\n",
      "33 )  HP 7th Gen15.6\" Intel Core i5 8GB RAM Graphic Card 2GB Full HD\n",
      "windows 10\n",
      "34 )  Xiaomi Mi Notebook/Xiaomi Mi Laptop Air 13.3″ (EXPORT)\n",
      "35 )  SanDisk iXpand Mini Flash Drive 128GB USB3.0 for iPhone and iPad\n",
      "36 )  SanDisk Ultra Red 64GB USB 3.0 Flash Drive (Up To 100MB/s)\n"
     ]
    }
   ],
   "source": [
    "soup = BeautifulSoup(category_webpage, \"html.parser\")\n",
    "links = soup.findAll('a', {'class': 'c-product-card__name'})\n",
    "link_number = 1\n",
    "for link in links:\n",
    "    print link_number,\") \",link.text.strip()\n",
    "    link_number = link_number + 1"
   ]
  },
  {
   "cell_type": "markdown",
   "metadata": {
    "deletable": true,
    "editable": true
   },
   "source": [
    "#### Let's get a product from the page!"
   ]
  },
  {
   "cell_type": "code",
   "execution_count": 5,
   "metadata": {
    "collapsed": false,
    "deletable": true,
    "editable": true
   },
   "outputs": [
    {
     "name": "stdout",
     "output_type": "stream",
     "text": [
      "Got product!  http://www.lazada.sg/seagate-backup-plus-slim-2tb-portable-external-hard-drive-withmobile-device-backup-usb-30-black-10034952.html?ff=1&sc=ETY=\n"
     ]
    }
   ],
   "source": [
    "product_number = 1\n",
    "product_url = main_url + links[product_number-1].get('href')\n",
    "product_webpage = requests.get(product_url).text\n",
    "soup = BeautifulSoup(product_webpage, \"html.parser\")\n",
    "print \"Got product! \",product_url"
   ]
  },
  {
   "cell_type": "markdown",
   "metadata": {
    "deletable": true,
    "editable": true
   },
   "source": [
    "#### Display the product details!"
   ]
  },
  {
   "cell_type": "code",
   "execution_count": 7,
   "metadata": {
    "collapsed": false,
    "deletable": true,
    "editable": true
   },
   "outputs": [
    {
     "name": "stdout",
     "output_type": "stream",
     "text": [
      "\n",
      "\n",
      "Name:  Seagate Backup Plus Slim 2TB Portable External Hard Drive with\n",
      "Mobile Device Backup USB 3.0 (Black)\n",
      "Price:  129.0 SGD\n"
     ]
    },
    {
     "data": {
      "text/html": [
       "<img src=\"http://sg-live-01.slatic.net/p/2/seagate-backup-plus-slim-2tb-portable-external-hard-drive-withmobile-device-backup-usb-30-black-5482-70572001-98b1af287fdd35ba3a963ba62d0f3000-product.jpg\"/>"
      ],
      "text/plain": [
       "<IPython.core.display.Image object>"
      ]
     },
     "execution_count": 7,
     "metadata": {},
     "output_type": "execute_result"
    }
   ],
   "source": [
    "product_name = soup.find('h1', {'id': 'prod_title'}).string.strip()\n",
    "product_cost = float(soup.find('span', {'id':'product_price'}).string)\n",
    "product_img_url = soup.findAll('img', {'class' : 'itm-img'})[-1].get('src')\n",
    "\n",
    "Image(url=product_img_url)\n",
    "print \"\\n\\nName: \",product_name\n",
    "print \"Price: \",product_cost,\"SGD\"\n",
    "Image(url=product_img_url)\n"
   ]
  },
  {
   "cell_type": "code",
   "execution_count": 8,
   "metadata": {
    "collapsed": false,
    "deletable": true,
    "editable": true
   },
   "outputs": [
    {
     "name": "stdout",
     "output_type": "stream",
     "text": [
      "4.6\n"
     ]
    }
   ],
   "source": [
    "rating = soup.find('span', {'class': 'ratingNumber'}).find('em').string\n",
    "print rating"
   ]
  },
  {
   "cell_type": "code",
   "execution_count": 11,
   "metadata": {
    "collapsed": false
   },
   "outputs": [
    {
     "name": "stdout",
     "output_type": "stream",
     "text": [
      "<ul class=\"prd-attributesList ui-listBulleted js-short-description\"><li class=\"\"><span>200GB of free OneDrive cloud storage for 2 years is included\n",
      "when you register a new Backup Plus drive ($95US value)</span></li><li class=\"\"><span>After registering your drive on Seagate.com, a link will be\n",
      "provided to add 200GB to any new or existing OneDrive account</span></li><li class=\"\"><span>Only one offer can be redeemed per OneDrive account, offers\n",
      "must be activated by June 30, 2017 and may not be available in all\n",
      "countries</span></li><li class=\"\"><span>Create easy customized backup plans with included Seagate\n",
      "Dashboard software</span></li><li class=\"\"><span>Quick file transfer with USB 3.0 connectivity</span></li><li class=\"\"><span>USB powered -no power supply necessary</span></li></ul>\n"
     ]
    }
   ],
   "source": [
    "product_details = soup.find('ul',{'class' : 'js-short-description'})\n",
    "print product_details\n"
   ]
  },
  {
   "cell_type": "code",
   "execution_count": 20,
   "metadata": {
    "collapsed": false
   },
   "outputs": [
    {
     "name": "stdout",
     "output_type": "stream",
     "text": [
      "[\n",
      "  \"200GB of free OneDrive cloud storage for 2 years is included\\nwhen you register a new Backup Plus drive ($95US value)\", \n",
      "  \"After registering your drive on Seagate.com, a link will be\\nprovided to add 200GB to any new or existing OneDrive account\", \n",
      "  \"Only one offer can be redeemed per OneDrive account, offers\\nmust be activated by June 30, 2017 and may not be available in all\\ncountries\", \n",
      "  \"Create easy customized backup plans with included Seagate\\nDashboard software\", \n",
      "  \"Quick file transfer with USB 3.0 connectivity\", \n",
      "  \"USB powered -no power supply necessary\"\n",
      "]\n",
      "============\n",
      "200GB of free OneDrive cloud storage for 2 years is included\n",
      "when you register a new Backup Plus drive ($95US value)\n",
      " - After registering your drive on Seagate.com, a link will be\n",
      "provided to add 200GB to any new or existing OneDrive account\n",
      " - Only one offer can be redeemed per OneDrive account, offers\n",
      "must be activated by June 30, 2017 and may not be available in all\n",
      "countries\n",
      " - Create easy customized backup plans with included Seagate\n",
      "Dashboard software\n",
      " - Quick file transfer with USB 3.0 connectivity\n",
      " - USB powered -no power supply necessary\n"
     ]
    }
   ],
   "source": [
    "import json\n",
    "product_details_array = []\n",
    "for product in product_details:\n",
    "    product_details_array.append(product.string.strip()) # for csv!\n",
    "print json.dumps(product_details_array, indent=2)\n",
    "print '============'\n",
    "print '\\n - '.join(product_details_array)"
   ]
  },
  {
   "cell_type": "code",
   "execution_count": 22,
   "metadata": {
    "collapsed": false
   },
   "outputs": [
    {
     "name": "stdout",
     "output_type": "stream",
     "text": [
      " 28%\n"
     ]
    }
   ],
   "source": [
    "product_discount = soup.find('span', {'id' : 'product_saving_percentage'}).string\n",
    "print product_discount"
   ]
  },
  {
   "cell_type": "code",
   "execution_count": 23,
   "metadata": {
    "collapsed": false
   },
   "outputs": [
    {
     "name": "stdout",
     "output_type": "stream",
     "text": [
      "<ul class=\"ratRev_reviewList\" id=\"js_reviews_list\">\n",
      "<li class=\"ratRev_reviewListRow\">\n",
      "<div class=\"ratRev_revDetails\">\n",
      "<span class=\"ratRev_rating-option\">\n",
      "<ul class=\"ratRev_ratOptions\">\n",
      "<li>\n",
      "<div class=\"product-card__rating__stars \">\n",
      "<div>\n",
      "<span class=\"icon-svg product-card__icon-star product-card__rating__icon-star-grey\"></span><!--\n",
      "--><span class=\"icon-svg product-card__icon-star product-card__rating__icon-star-grey\"></span><!--\n",
      "--><span class=\"icon-svg product-card__icon-star product-card__rating__icon-star-grey\"></span><!--\n",
      "--><span class=\"icon-svg product-card__icon-star product-card__rating__icon-star-grey\"></span><!--\n",
      "--><span class=\"icon-svg product-card__icon-star product-card__rating__icon-star-grey\"></span>\n",
      "</div>\n",
      "<div style=\"width: 100%\">\n",
      "<span class=\"icon-svg product-card__icon-star product-card__rating__icon-star-orange\"></span><!--\n",
      "--><span class=\"icon-svg product-card__icon-star product-card__rating__icon-star-orange\"></span><!--\n",
      "--><span class=\"icon-svg product-card__icon-star product-card__rating__icon-star-orange\"></span><!--\n",
      "--><span class=\"icon-svg product-card__icon-star product-card__rating__icon-star-orange\"></span><!--\n",
      "--><span class=\"icon-svg product-card__icon-star product-card__rating__icon-star-orange\"></span>\n",
      "</div>\n",
      "</div>\n",
      "</li>\n",
      "</ul>\n",
      "</span>\n",
      "<span class=\"ratRev_revTitle\">\n",
      "                            It Works                        </span>\n",
      "<span class=\"ratRev_revDate align-right\">\n",
      "                            3 months ago                        </span>\n",
      "</div>\n",
      "<div class=\"ratRev-revAuthor\">\n",
      "                        By\n",
      "                        <span class=\"ratRev-revNickname\">\n",
      "                            Ze                        </span>\n",
      "<span class=\"ratRev-revBadge ratRev_revDetailsItm_badge\">\n",
      "<span>\n",
      "<i class=\"ratRev-verified-icon icon-svg svg-review-verified\"></i>\n",
      "                                        Verified Purchase                                    </span>\n",
      "</span>\n",
      "</div>\n",
      "<div class=\"ratRev_revDetail\">\n",
      "                        It works as it should with no issues; compatible with my Macbook Pro.                    </div>\n",
      "<div class=\"review-helpfulness js-review-helpfullness\" data-config-sku=\"SE368ELAA5YX9VSGAMZ\" data-down-voted=\"\" data-id-rating-review=\"508093\" data-up-voted=\"\" data-vote-count=\"4\">\n",
      "<div class=\"js-review-helpfulness__vote-up-wrapper\">\n",
      "<div class=\" review-helpfulness__vote-up js-review-helpfulness__vote-up \">\n",
      "<span class=\"review-helpfulness__vote-up-icon\"></span>\n",
      "<span class=\"review-helpfulness__description\">\n",
      "                Was this review helpful?            </span>\n",
      "</div>\n",
      "</div>\n",
      "<div class=\"review-helpfulness__menu-wrapper\">\n",
      "<div class=\"review-helpfulness__menu rocket_hint\" data-disable-stop-propagation=\"true\" data-no-fade-out=\"true\">\n",
      "<span class=\"review-helpfulness__icon-more\"></span>\n",
      "<div class=\"review-helpfulness__menu-content rocket_hint_popup\">\n",
      "<ul class=\"review-helpfulness__action-list\">\n",
      "<li class=\"js-review-helpfulness__vote-down-wrapper\">\n",
      "<div class=\" review-helpfulness__action-item js-review-helpfulness__vote-down \">\n",
      "                            Not Helpful                        </div>\n",
      "</li>\n",
      "<li>\n",
      "<div class=\" review-helpfulness__action-item js-review-report-abuse \">\n",
      "\n",
      "                            Report abuse\n",
      "                                                            <div class=\" report-abuse-login-tooltip js-review-report-abuse__login-tooltip\">\n",
      "<a href=\"/customer/account/login/?referer=%2Fseagate-backup-plus-slim-2tb-portable-external-hard-drive-withmobile-device-backup-usb-30-black-10034952.html%3Fff%3D1%26sc%3DETY%3D\">Login</a> to continue                                </div>\n",
      "</div>\n",
      "</li>\n",
      "</ul>\n",
      "</div>\n",
      "</div>\n",
      "</div>\n",
      "</div>\n",
      "</li>\n",
      "<li class=\"ratRev_reviewListRow\">\n",
      "<div class=\"ratRev_revDetails\">\n",
      "<span class=\"ratRev_rating-option\">\n",
      "<ul class=\"ratRev_ratOptions\">\n",
      "<li>\n",
      "<div class=\"product-card__rating__stars \">\n",
      "<div>\n",
      "<span class=\"icon-svg product-card__icon-star product-card__rating__icon-star-grey\"></span><!--\n",
      "--><span class=\"icon-svg product-card__icon-star product-card__rating__icon-star-grey\"></span><!--\n",
      "--><span class=\"icon-svg product-card__icon-star product-card__rating__icon-star-grey\"></span><!--\n",
      "--><span class=\"icon-svg product-card__icon-star product-card__rating__icon-star-grey\"></span><!--\n",
      "--><span class=\"icon-svg product-card__icon-star product-card__rating__icon-star-grey\"></span>\n",
      "</div>\n",
      "<div style=\"width: 100%\">\n",
      "<span class=\"icon-svg product-card__icon-star product-card__rating__icon-star-orange\"></span><!--\n",
      "--><span class=\"icon-svg product-card__icon-star product-card__rating__icon-star-orange\"></span><!--\n",
      "--><span class=\"icon-svg product-card__icon-star product-card__rating__icon-star-orange\"></span><!--\n",
      "--><span class=\"icon-svg product-card__icon-star product-card__rating__icon-star-orange\"></span><!--\n",
      "--><span class=\"icon-svg product-card__icon-star product-card__rating__icon-star-orange\"></span>\n",
      "</div>\n",
      "</div>\n",
      "</li>\n",
      "</ul>\n",
      "</span>\n",
      "<span class=\"ratRev_revTitle\">\n",
      "                            Seagate backup plus Slim 2TB HDD                        </span>\n",
      "<span class=\"ratRev_revDate align-right\">\n",
      "                            1 month ago                        </span>\n",
      "</div>\n",
      "<div class=\"ratRev-revAuthor\">\n",
      "                        By\n",
      "                        <span class=\"ratRev-revNickname\">\n",
      "                            Lazada Guest                        </span>\n",
      "</div>\n",
      "<div class=\"ratRev_revDetail\">\n",
      "                        Very sleek and effective product. Due its unique connection cable and USB3 compatability it is quite quick. <br>\r\n",
      "The back up software is also very easy to use and useful.<br/>\r\n",
      "A good buy                    </br></div>\n",
      "<div class=\"review-helpfulness js-review-helpfullness\" data-config-sku=\"SE368ELAA5YX9VSGAMZ\" data-down-voted=\"\" data-id-rating-review=\"549680\" data-up-voted=\"\" data-vote-count=\"1\">\n",
      "<div class=\"js-review-helpfulness__vote-up-wrapper\">\n",
      "<div class=\" review-helpfulness__vote-up js-review-helpfulness__vote-up \">\n",
      "<span class=\"review-helpfulness__vote-up-icon\"></span>\n",
      "<span class=\"review-helpfulness__description\">\n",
      "                Was this review helpful?            </span>\n",
      "</div>\n",
      "</div>\n",
      "<div class=\"review-helpfulness__menu-wrapper\">\n",
      "<div class=\"review-helpfulness__menu rocket_hint\" data-disable-stop-propagation=\"true\" data-no-fade-out=\"true\">\n",
      "<span class=\"review-helpfulness__icon-more\"></span>\n",
      "<div class=\"review-helpfulness__menu-content rocket_hint_popup\">\n",
      "<ul class=\"review-helpfulness__action-list\">\n",
      "<li class=\"js-review-helpfulness__vote-down-wrapper\">\n",
      "<div class=\" review-helpfulness__action-item js-review-helpfulness__vote-down \">\n",
      "                            Not Helpful                        </div>\n",
      "</li>\n",
      "<li>\n",
      "<div class=\" review-helpfulness__action-item js-review-report-abuse \">\n",
      "\n",
      "                            Report abuse\n",
      "                                                            <div class=\" report-abuse-login-tooltip js-review-report-abuse__login-tooltip\">\n",
      "<a href=\"/customer/account/login/?referer=%2Fseagate-backup-plus-slim-2tb-portable-external-hard-drive-withmobile-device-backup-usb-30-black-10034952.html%3Fff%3D1%26sc%3DETY%3D\">Login</a> to continue                                </div>\n",
      "</div>\n",
      "</li>\n",
      "</ul>\n",
      "</div>\n",
      "</div>\n",
      "</div>\n",
      "</div>\n",
      "</li>\n",
      "<li class=\"ratRev_reviewListRow\">\n",
      "<div class=\"ratRev_revDetails\">\n",
      "<span class=\"ratRev_rating-option\">\n",
      "<ul class=\"ratRev_ratOptions\">\n",
      "<li>\n",
      "<div class=\"product-card__rating__stars \">\n",
      "<div>\n",
      "<span class=\"icon-svg product-card__icon-star product-card__rating__icon-star-grey\"></span><!--\n",
      "--><span class=\"icon-svg product-card__icon-star product-card__rating__icon-star-grey\"></span><!--\n",
      "--><span class=\"icon-svg product-card__icon-star product-card__rating__icon-star-grey\"></span><!--\n",
      "--><span class=\"icon-svg product-card__icon-star product-card__rating__icon-star-grey\"></span><!--\n",
      "--><span class=\"icon-svg product-card__icon-star product-card__rating__icon-star-grey\"></span>\n",
      "</div>\n",
      "<div style=\"width: 100%\">\n",
      "<span class=\"icon-svg product-card__icon-star product-card__rating__icon-star-orange\"></span><!--\n",
      "--><span class=\"icon-svg product-card__icon-star product-card__rating__icon-star-orange\"></span><!--\n",
      "--><span class=\"icon-svg product-card__icon-star product-card__rating__icon-star-orange\"></span><!--\n",
      "--><span class=\"icon-svg product-card__icon-star product-card__rating__icon-star-orange\"></span><!--\n",
      "--><span class=\"icon-svg product-card__icon-star product-card__rating__icon-star-orange\"></span>\n",
      "</div>\n",
      "</div>\n",
      "</li>\n",
      "</ul>\n",
      "</span>\n",
      "<span class=\"ratRev_revTitle\">\n",
      "                            Five Stars                        </span>\n",
      "<span class=\"ratRev_revDate align-right\">\n",
      "                            1 week ago                        </span>\n",
      "</div>\n",
      "<div class=\"ratRev-revAuthor\">\n",
      "                        By\n",
      "                        <span class=\"ratRev-revNickname\">\n",
      "                            Lazada Guest                        </span>\n",
      "</div>\n",
      "<div class=\"ratRev_revDetail\">\n",
      "                        Small compact size and yet 2TB.  Can't ask for more.                    </div>\n",
      "<div class=\"review-helpfulness js-review-helpfullness\" data-config-sku=\"SE368ELAA5YX9VSGAMZ\" data-down-voted=\"\" data-id-rating-review=\"568100\" data-up-voted=\"\" data-vote-count=\"0\">\n",
      "<div class=\"js-review-helpfulness__vote-up-wrapper\">\n",
      "<div class=\" review-helpfulness__vote-up js-review-helpfulness__vote-up \">\n",
      "<span class=\"review-helpfulness__vote-up-icon\"></span>\n",
      "<span class=\"review-helpfulness__description\">\n",
      "                Was this review helpful?            </span>\n",
      "</div>\n",
      "</div>\n",
      "<div class=\"review-helpfulness__menu-wrapper\">\n",
      "<div class=\"review-helpfulness__menu rocket_hint\" data-disable-stop-propagation=\"true\" data-no-fade-out=\"true\">\n",
      "<span class=\"review-helpfulness__icon-more\"></span>\n",
      "<div class=\"review-helpfulness__menu-content rocket_hint_popup\">\n",
      "<ul class=\"review-helpfulness__action-list\">\n",
      "<li class=\"js-review-helpfulness__vote-down-wrapper\">\n",
      "<div class=\" review-helpfulness__action-item js-review-helpfulness__vote-down \">\n",
      "                            Not Helpful                        </div>\n",
      "</li>\n",
      "<li>\n",
      "<div class=\" review-helpfulness__action-item js-review-report-abuse \">\n",
      "\n",
      "                            Report abuse\n",
      "                                                            <div class=\" report-abuse-login-tooltip js-review-report-abuse__login-tooltip\">\n",
      "<a href=\"/customer/account/login/?referer=%2Fseagate-backup-plus-slim-2tb-portable-external-hard-drive-withmobile-device-backup-usb-30-black-10034952.html%3Fff%3D1%26sc%3DETY%3D\">Login</a> to continue                                </div>\n",
      "</div>\n",
      "</li>\n",
      "</ul>\n",
      "</div>\n",
      "</div>\n",
      "</div>\n",
      "</div>\n",
      "</li>\n",
      "<li class=\"ratRev_reviewListRow\">\n",
      "<div class=\"ratRev_revDetails\">\n",
      "<span class=\"ratRev_rating-option\">\n",
      "<ul class=\"ratRev_ratOptions\">\n",
      "<li>\n",
      "<div class=\"product-card__rating__stars \">\n",
      "<div>\n",
      "<span class=\"icon-svg product-card__icon-star product-card__rating__icon-star-grey\"></span><!--\n",
      "--><span class=\"icon-svg product-card__icon-star product-card__rating__icon-star-grey\"></span><!--\n",
      "--><span class=\"icon-svg product-card__icon-star product-card__rating__icon-star-grey\"></span><!--\n",
      "--><span class=\"icon-svg product-card__icon-star product-card__rating__icon-star-grey\"></span><!--\n",
      "--><span class=\"icon-svg product-card__icon-star product-card__rating__icon-star-grey\"></span>\n",
      "</div>\n",
      "<div style=\"width: 60%\">\n",
      "<span class=\"icon-svg product-card__icon-star product-card__rating__icon-star-orange\"></span><!--\n",
      "--><span class=\"icon-svg product-card__icon-star product-card__rating__icon-star-orange\"></span><!--\n",
      "--><span class=\"icon-svg product-card__icon-star product-card__rating__icon-star-orange\"></span><!--\n",
      "--><span class=\"icon-svg product-card__icon-star product-card__rating__icon-star-orange\"></span><!--\n",
      "--><span class=\"icon-svg product-card__icon-star product-card__rating__icon-star-orange\"></span>\n",
      "</div>\n",
      "</div>\n",
      "</li>\n",
      "</ul>\n",
      "</span>\n",
      "<span class=\"ratRev_revTitle\">\n",
      "                            Good buy                        </span>\n",
      "<span class=\"ratRev_revDate align-right\">\n",
      "                            1 week ago                        </span>\n",
      "</div>\n",
      "<div class=\"ratRev-revAuthor\">\n",
      "                        By\n",
      "                        <span class=\"ratRev-revNickname\">\n",
      "                            Lazada Guest                        </span>\n",
      "</div>\n",
      "<div class=\"ratRev_revDetail\">\n",
      "                        Item received in good condition. So far so gd.                    </div>\n",
      "<div class=\"review-helpfulness js-review-helpfullness\" data-config-sku=\"SE368ELAA5YX9VSGAMZ\" data-down-voted=\"\" data-id-rating-review=\"570121\" data-up-voted=\"\" data-vote-count=\"0\">\n",
      "<div class=\"js-review-helpfulness__vote-up-wrapper\">\n",
      "<div class=\" review-helpfulness__vote-up js-review-helpfulness__vote-up \">\n",
      "<span class=\"review-helpfulness__vote-up-icon\"></span>\n",
      "<span class=\"review-helpfulness__description\">\n",
      "                Was this review helpful?            </span>\n",
      "</div>\n",
      "</div>\n",
      "<div class=\"review-helpfulness__menu-wrapper\">\n",
      "<div class=\"review-helpfulness__menu rocket_hint\" data-disable-stop-propagation=\"true\" data-no-fade-out=\"true\">\n",
      "<span class=\"review-helpfulness__icon-more\"></span>\n",
      "<div class=\"review-helpfulness__menu-content rocket_hint_popup\">\n",
      "<ul class=\"review-helpfulness__action-list\">\n",
      "<li class=\"js-review-helpfulness__vote-down-wrapper\">\n",
      "<div class=\" review-helpfulness__action-item js-review-helpfulness__vote-down \">\n",
      "                            Not Helpful                        </div>\n",
      "</li>\n",
      "<li>\n",
      "<div class=\" review-helpfulness__action-item js-review-report-abuse \">\n",
      "\n",
      "                            Report abuse\n",
      "                                                            <div class=\" report-abuse-login-tooltip js-review-report-abuse__login-tooltip\">\n",
      "<a href=\"/customer/account/login/?referer=%2Fseagate-backup-plus-slim-2tb-portable-external-hard-drive-withmobile-device-backup-usb-30-black-10034952.html%3Fff%3D1%26sc%3DETY%3D\">Login</a> to continue                                </div>\n",
      "</div>\n",
      "</li>\n",
      "</ul>\n",
      "</div>\n",
      "</div>\n",
      "</div>\n",
      "</div>\n",
      "</li>\n",
      "<li class=\"ratRev_reviewListRow\">\n",
      "<div class=\"ratRev_revDetails\">\n",
      "<span class=\"ratRev_rating-option\">\n",
      "<ul class=\"ratRev_ratOptions\">\n",
      "<li>\n",
      "<div class=\"product-card__rating__stars \">\n",
      "<div>\n",
      "<span class=\"icon-svg product-card__icon-star product-card__rating__icon-star-grey\"></span><!--\n",
      "--><span class=\"icon-svg product-card__icon-star product-card__rating__icon-star-grey\"></span><!--\n",
      "--><span class=\"icon-svg product-card__icon-star product-card__rating__icon-star-grey\"></span><!--\n",
      "--><span class=\"icon-svg product-card__icon-star product-card__rating__icon-star-grey\"></span><!--\n",
      "--><span class=\"icon-svg product-card__icon-star product-card__rating__icon-star-grey\"></span>\n",
      "</div>\n",
      "<div style=\"width: 100%\">\n",
      "<span class=\"icon-svg product-card__icon-star product-card__rating__icon-star-orange\"></span><!--\n",
      "--><span class=\"icon-svg product-card__icon-star product-card__rating__icon-star-orange\"></span><!--\n",
      "--><span class=\"icon-svg product-card__icon-star product-card__rating__icon-star-orange\"></span><!--\n",
      "--><span class=\"icon-svg product-card__icon-star product-card__rating__icon-star-orange\"></span><!--\n",
      "--><span class=\"icon-svg product-card__icon-star product-card__rating__icon-star-orange\"></span>\n",
      "</div>\n",
      "</div>\n",
      "</li>\n",
      "</ul>\n",
      "</span>\n",
      "<span class=\"ratRev_revTitle\">\n",
      "                            Five stars                        </span>\n",
      "<span class=\"ratRev_revDate align-right\">\n",
      "                            4 days ago                        </span>\n",
      "</div>\n",
      "<div class=\"ratRev-revAuthor\">\n",
      "                        By\n",
      "                        <span class=\"ratRev-revNickname\">\n",
      "                            Kriftian Liew                        </span>\n",
      "<span class=\"ratRev-revBadge ratRev_revDetailsItm_badge\">\n",
      "</span>\n",
      "</div>\n",
      "<div class=\"ratRev_revDetail\">\n",
      "</div>\n",
      "<div class=\"review-helpfulness js-review-helpfullness\" data-config-sku=\"SE368ELAA5YX9VSGAMZ\" data-down-voted=\"\" data-id-rating-review=\"571271\" data-up-voted=\"\" data-vote-count=\"0\">\n",
      "<div class=\"js-review-helpfulness__vote-up-wrapper\">\n",
      "<div class=\" review-helpfulness__vote-up js-review-helpfulness__vote-up \">\n",
      "<span class=\"review-helpfulness__vote-up-icon\"></span>\n",
      "<span class=\"review-helpfulness__description\">\n",
      "                Was this review helpful?            </span>\n",
      "</div>\n",
      "</div>\n",
      "<div class=\"review-helpfulness__menu-wrapper\">\n",
      "<div class=\"review-helpfulness__menu rocket_hint\" data-disable-stop-propagation=\"true\" data-no-fade-out=\"true\">\n",
      "<span class=\"review-helpfulness__icon-more\"></span>\n",
      "<div class=\"review-helpfulness__menu-content rocket_hint_popup\">\n",
      "<ul class=\"review-helpfulness__action-list\">\n",
      "<li class=\"js-review-helpfulness__vote-down-wrapper\">\n",
      "<div class=\" review-helpfulness__action-item js-review-helpfulness__vote-down \">\n",
      "                            Not Helpful                        </div>\n",
      "</li>\n",
      "<li>\n",
      "<div class=\" review-helpfulness__action-item js-review-report-abuse \">\n",
      "\n",
      "                            Report abuse\n",
      "                                                            <div class=\" report-abuse-login-tooltip js-review-report-abuse__login-tooltip\">\n",
      "<a href=\"/customer/account/login/?referer=%2Fseagate-backup-plus-slim-2tb-portable-external-hard-drive-withmobile-device-backup-usb-30-black-10034952.html%3Fff%3D1%26sc%3DETY%3D\">Login</a> to continue                                </div>\n",
      "</div>\n",
      "</li>\n",
      "</ul>\n",
      "</div>\n",
      "</div>\n",
      "</div>\n",
      "</div>\n",
      "</li>\n",
      "<li class=\"ratRev_reviewListRow\">\n",
      "<div class=\"ratRev_revDetails\">\n",
      "<span class=\"ratRev_rating-option\">\n",
      "<ul class=\"ratRev_ratOptions\">\n",
      "<li>\n",
      "<div class=\"product-card__rating__stars \">\n",
      "<div>\n",
      "<span class=\"icon-svg product-card__icon-star product-card__rating__icon-star-grey\"></span><!--\n",
      "--><span class=\"icon-svg product-card__icon-star product-card__rating__icon-star-grey\"></span><!--\n",
      "--><span class=\"icon-svg product-card__icon-star product-card__rating__icon-star-grey\"></span><!--\n",
      "--><span class=\"icon-svg product-card__icon-star product-card__rating__icon-star-grey\"></span><!--\n",
      "--><span class=\"icon-svg product-card__icon-star product-card__rating__icon-star-grey\"></span>\n",
      "</div>\n",
      "<div style=\"width: 80%\">\n",
      "<span class=\"icon-svg product-card__icon-star product-card__rating__icon-star-orange\"></span><!--\n",
      "--><span class=\"icon-svg product-card__icon-star product-card__rating__icon-star-orange\"></span><!--\n",
      "--><span class=\"icon-svg product-card__icon-star product-card__rating__icon-star-orange\"></span><!--\n",
      "--><span class=\"icon-svg product-card__icon-star product-card__rating__icon-star-orange\"></span><!--\n",
      "--><span class=\"icon-svg product-card__icon-star product-card__rating__icon-star-orange\"></span>\n",
      "</div>\n",
      "</div>\n",
      "</li>\n",
      "</ul>\n",
      "</span>\n",
      "<span class=\"ratRev_revTitle\">\n",
      "                            Four Stars                        </span>\n",
      "<span class=\"ratRev_revDate align-right\">\n",
      "                            1 week ago                        </span>\n",
      "</div>\n",
      "<div class=\"ratRev-revAuthor\">\n",
      "                        By\n",
      "                        <span class=\"ratRev-revNickname\">\n",
      "                            Lazada Guest                        </span>\n",
      "</div>\n",
      "<div class=\"ratRev_revDetail\">\n",
      "                        Item received as described                    </div>\n",
      "<div class=\"review-helpfulness js-review-helpfullness\" data-config-sku=\"SE368ELAA5YX9VSGAMZ\" data-down-voted=\"\" data-id-rating-review=\"567968\" data-up-voted=\"\" data-vote-count=\"0\">\n",
      "<div class=\"js-review-helpfulness__vote-up-wrapper\">\n",
      "<div class=\" review-helpfulness__vote-up js-review-helpfulness__vote-up \">\n",
      "<span class=\"review-helpfulness__vote-up-icon\"></span>\n",
      "<span class=\"review-helpfulness__description\">\n",
      "                Was this review helpful?            </span>\n",
      "</div>\n",
      "</div>\n",
      "<div class=\"review-helpfulness__menu-wrapper\">\n",
      "<div class=\"review-helpfulness__menu rocket_hint\" data-disable-stop-propagation=\"true\" data-no-fade-out=\"true\">\n",
      "<span class=\"review-helpfulness__icon-more\"></span>\n",
      "<div class=\"review-helpfulness__menu-content rocket_hint_popup\">\n",
      "<ul class=\"review-helpfulness__action-list\">\n",
      "<li class=\"js-review-helpfulness__vote-down-wrapper\">\n",
      "<div class=\" review-helpfulness__action-item js-review-helpfulness__vote-down \">\n",
      "                            Not Helpful                        </div>\n",
      "</li>\n",
      "<li>\n",
      "<div class=\" review-helpfulness__action-item js-review-report-abuse \">\n",
      "\n",
      "                            Report abuse\n",
      "                                                            <div class=\" report-abuse-login-tooltip js-review-report-abuse__login-tooltip\">\n",
      "<a href=\"/customer/account/login/?referer=%2Fseagate-backup-plus-slim-2tb-portable-external-hard-drive-withmobile-device-backup-usb-30-black-10034952.html%3Fff%3D1%26sc%3DETY%3D\">Login</a> to continue                                </div>\n",
      "</div>\n",
      "</li>\n",
      "</ul>\n",
      "</div>\n",
      "</div>\n",
      "</div>\n",
      "</div>\n",
      "</li>\n",
      "</ul>\n"
     ]
    }
   ],
   "source": [
    "product_reviews = soup.find('ul', {'class' : 'ratRev_reviewList' , 'id' : 'js_reviews_list'})\n",
    "print product_reviews"
   ]
  },
  {
   "cell_type": "code",
   "execution_count": 30,
   "metadata": {
    "collapsed": false
   },
   "outputs": [
    {
     "name": "stdout",
     "output_type": "stream",
     "text": [
      "[\n",
      "  {\n",
      "    \"detail\": \"\\n                        It works as it should with no issues; compatible with my Macbook Pro.                    \", \n",
      "    \"title\": \"\\n                            It Works                        \"\n",
      "  }, \n",
      "  {\n",
      "    \"detail\": null, \n",
      "    \"title\": \"\\n                            Seagate backup plus Slim 2TB HDD                        \"\n",
      "  }, \n",
      "  {\n",
      "    \"detail\": \"\\n                        Small compact size and yet 2TB.  Can't ask for more.                    \", \n",
      "    \"title\": \"\\n                            Five Stars                        \"\n",
      "  }, \n",
      "  {\n",
      "    \"detail\": \"\\n                        Item received in good condition. So far so gd.                    \", \n",
      "    \"title\": \"\\n                            Good buy                        \"\n",
      "  }, \n",
      "  {\n",
      "    \"detail\": \"\\n\", \n",
      "    \"title\": \"\\n                            Five stars                        \"\n",
      "  }, \n",
      "  {\n",
      "    \"detail\": \"\\n                        Item received as described                    \", \n",
      "    \"title\": \"\\n                            Four Stars                        \"\n",
      "  }\n",
      "]\n"
     ]
    }
   ],
   "source": [
    "import json\n",
    "reviews_array = []\n",
    "\n",
    "for review in product_reviews:\n",
    "    if review.string is None:\n",
    "        title = review.find('span', {'class': 'ratRev_revTitle'})\n",
    "        detail = review.find('div', {'class': 'ratRev_revDetail'})\n",
    "        reviews_array.append({\n",
    "            'title': title.string,\n",
    "            'detail': detail.string\n",
    "        })\n",
    "\n",
    "print json.dumps(reviews_array, indent=2)"
   ]
  },
  {
   "cell_type": "code",
   "execution_count": null,
   "metadata": {
    "collapsed": true
   },
   "outputs": [],
   "source": []
  }
 ],
 "metadata": {
  "kernelspec": {
   "display_name": "Python 2",
   "language": "python",
   "name": "python2"
  },
  "language_info": {
   "codemirror_mode": {
    "name": "ipython",
    "version": 2
   },
   "file_extension": ".py",
   "mimetype": "text/x-python",
   "name": "python",
   "nbconvert_exporter": "python",
   "pygments_lexer": "ipython2",
   "version": "2.7.10"
  }
 },
 "nbformat": 4,
 "nbformat_minor": 2
}
