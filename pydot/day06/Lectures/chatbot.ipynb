{
 "cells": [
  {
   "cell_type": "code",
   "execution_count": 14,
   "metadata": {},
   "outputs": [],
   "source": [
    "import requests\n",
    "import bs4\n",
    "# url = 'http://www.moneycontrol.com/mutualfundindia/evaluate/'\n",
    "url1 = 'http://linux-training.be/index.php?nav=fundamentals'\n",
    "resp = requests.get(url1).text\n",
    "soup = bs4.BeautifulSoup(resp, 'html.parser')\n",
    "base_urls =  soup.find_all('a', {'class': 'button'})\n",
    "base_urls_links = []\n",
    "\n",
    "for index, url in enumerate(base_urls):\n",
    "    if index > 4:\n",
    "        base_urls_links.append(url.get('href'))\n"
   ]
  },
  {
   "cell_type": "code",
   "execution_count": 18,
   "metadata": {},
   "outputs": [
    {
     "name": "stdout",
     "output_type": "stream",
     "text": [
      "About to start scraping the url: http://linux-training.be/index.php?nav=fundamentals \n",
      "About to start scraping the url: http://linux-training.be/index.php?nav=sysadmin \n",
      "About to start scraping the url: http://linux-training.be/index.php?nav=servers \n",
      "About to start scraping the url: http://linux-training.be/index.php?nav=storage \n",
      "About to start scraping the url: http://linux-training.be/index.php?nav=security \n",
      "About to start scraping the url: http://linux-training.be/index.php?nav=networking \n"
     ]
    }
   ],
   "source": [
    "for each_url in base_urls_links:\n",
    "    print \"About to start scraping the url: %s \" % each_url\n",
    "    url = each_url\n",
    "    resp = requests.get(url).text\n",
    "    soup = bs4.BeautifulSoup(resp, 'html.parser')\n",
    "#     print soup.find_all('a')"
   ]
  },
  {
   "cell_type": "code",
   "execution_count": 1,
   "metadata": {},
   "outputs": [],
   "source": [
    "import requests\n",
    "import bs4\n",
    "# url = 'http://www.moneycontrol.com/mutualfundindia/evaluate/'\n",
    "url1 = 'http://linux-training.be/index.php?nav=fundamentals'\n",
    "resp = requests.get(url1).text\n",
    "soup = bs4.BeautifulSoup(resp, 'html.parser')\n",
    "base_urls =  soup.find_all('a', {'class': 'button'})\n",
    "base_urls_links = []\n",
    "\n",
    "for index, url in enumerate(base_urls):\n",
    "    if index > 4:\n",
    "        base_urls_links.append(url.get('href'))\n",
    "\n",
    "for each_book_url in base_urls_links:\n",
    "    print \"Finding all links and keywords %s\" % each_book_url\n",
    "    content = requests.get(each_book_url).text\n",
    "    content_soup = bs4.BeautifulSoup(content, 'html.parser')\n",
    "    ifram_url = content_soup.find('iframe').get('src')\n",
    "    base = ifram_url.split('index.html')[0]\n",
    "    print ifram_url\n",
    "    print base\n",
    "    response = requests.get(ifram_url).text\n",
    "    iframe_soup = bs4.BeautifulSoup(response, 'html.parser')\n",
    "\n",
    "    for a in iframe_soup.find_all('a'):\n",
    "        print a.text\n",
    "        print base + str(a.get(\"href\")) \n"
   ]
  },
  {
   "cell_type": "code",
   "execution_count": null,
   "metadata": {
    "collapsed": true
   },
   "outputs": [],
   "source": []
  }
 ],
 "metadata": {
  "kernelspec": {
   "display_name": "Python 2",
   "language": "python",
   "name": "python2"
  },
  "language_info": {
   "codemirror_mode": {
    "name": "ipython",
    "version": 2
   },
   "file_extension": ".py",
   "mimetype": "text/x-python",
   "name": "python",
   "nbconvert_exporter": "python",
   "pygments_lexer": "ipython2",
   "version": "2.7.13"
  }
 },
 "nbformat": 4,
 "nbformat_minor": 2
}
