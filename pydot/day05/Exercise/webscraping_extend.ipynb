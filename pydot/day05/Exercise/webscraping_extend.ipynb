{
 "cells": [
  {
   "cell_type": "markdown",
   "metadata": {},
   "source": [
    "# Task: get product details, discounts, ratings etc.\n",
    "# Try scrapaing over multiple categories / pages"
   ]
  },
  {
   "cell_type": "code",
   "execution_count": 10,
   "metadata": {
    "collapsed": true
   },
   "outputs": [],
   "source": [
    "import requests\n",
    "from bs4 import BeautifulSoup\n",
    "from IPython.display import Image\n",
    "import csv\n",
    "import time"
   ]
  },
  {
   "cell_type": "code",
   "execution_count": 36,
   "metadata": {},
   "outputs": [
    {
     "name": "stdout",
     "output_type": "stream",
     "text": [
      "Got the category page!  http://www.lazada.sg/shop-computers-laptops/?page=1\n",
      "Got the category page!  http://www.lazada.sg/shop-men-bags-backpacks/?page=1\n",
      "Got the category page!  http://www.lazada.sg/shop-hair-care/?page=1\n"
     ]
    }
   ],
   "source": [
    "main_url = 'http://www.lazada.sg'\n",
    "categories = ['computers-laptops', 'men-bags-backpacks','hair-care']\n",
    "page_number = 1\n",
    "category_webpage_storage = []\n",
    "category_url_storage = []\n",
    "\n",
    "for category in categories:   \n",
    "    \n",
    "    category_scrape_url = main_url + '/shop-' + category + '/?page='+str(page_number)\n",
    "    category_url_storage.append(category_scrape_url)\n",
    "    \n",
    "    category_webpage = requests.get(category_scrape_url).text\n",
    "    category_webpage_storage.append(category_webpage)\n",
    "    \n",
    "    print \"Got the category page! \",category_scrape_url\n",
    "    time.sleep(1)"
   ]
  },
  {
   "cell_type": "code",
   "execution_count": 78,
   "metadata": {},
   "outputs": [
    {
     "name": "stdout",
     "output_type": "stream",
     "text": [
      "3\n"
     ]
    }
   ],
   "source": [
    "link_number = 1\n",
    "link_storage = []\n",
    "\n",
    "for category_webpage in category_webpage_storage:\n",
    "    soup = BeautifulSoup(category_webpage, \"html.parser\")\n",
    "    \n",
    "    links = soup.find('a', {'class': 'c-product-card__name'})\n",
    "    link_storage.append(links)\n",
    "\n",
    "print len(link_storage\n",
    "# for links in link_storage:\n",
    "#     print link_number,\") \", links[0].text\n",
    "#     link_number = link_number + 1"
   ]
  },
  {
   "cell_type": "code",
   "execution_count": null,
   "metadata": {},
   "outputs": [],
   "source": [
    "product_number = 1\n",
    "product_url = main_url + links[product_number-1].get('href')\n",
    "product_webpage = requests.get(product_url).text\n",
    "soup = BeautifulSoup(product_webpage, \"html.parser\")\n",
    "print \"Got product! \",product_url"
   ]
  },
  {
   "cell_type": "code",
   "execution_count": null,
   "metadata": {},
   "outputs": [],
   "source": [
    "product_name = soup.find('h1').string.strip()\n",
    "product_cost = float(soup.find('span', {'id':'product_price'}).string)\n",
    "product_img_url = soup.findAll('img', {'class' : 'itm-img'})[-1].get('src')\n",
    "\n",
    "Image(url=product_img_url)\n",
    "print \"\\n\\nName: \",product_name\n",
    "print \"Price: \",product_cost,\"SGD\"\n",
    "Image(url=product_img_url)"
   ]
  },
  {
   "cell_type": "code",
   "execution_count": null,
   "metadata": {
    "collapsed": true
   },
   "outputs": [],
   "source": [
    "-------------------------------------------------------------"
   ]
  }
 ],
 "metadata": {
  "kernelspec": {
   "display_name": "Python 2",
   "language": "python",
   "name": "python2"
  },
  "language_info": {
   "codemirror_mode": {
    "name": "ipython",
    "version": 2
   },
   "file_extension": ".py",
   "mimetype": "text/x-python",
   "name": "python",
   "nbconvert_exporter": "python",
   "pygments_lexer": "ipython2",
   "version": "2.7.9"
  }
 },
 "nbformat": 4,
 "nbformat_minor": 2
}
