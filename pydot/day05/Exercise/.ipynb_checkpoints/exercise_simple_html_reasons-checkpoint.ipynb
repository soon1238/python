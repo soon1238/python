{
 "cells": [
  {
   "cell_type": "markdown",
   "metadata": {},
   "source": [
    "# WEB SCRAPING EXERCISE\n",
    "---\n",
    "\n",
    "### Goal\n",
    "To save the \"reasons\" from the given website\n",
    "### Evaluation\n",
    "We should visually inspect the list of reasons retrieved and compare them with the ones on the website\n",
    "### Methods\n",
    "Use beautiful soup to parse it and retrieve the specific tag contents to display\n",
    "### Tools\n",
    "* Python 2.7\n",
    "* Beautiful soup"
   ]
  },
  {
   "cell_type": "code",
   "execution_count": 1,
   "metadata": {
    "collapsed": true
   },
   "outputs": [],
   "source": [
    "'''\n",
    "Let's get the party started!\n",
    "Loading the guns...\n",
    "'''\n",
    "from bs4 import BeautifulSoup"
   ]
  },
  {
   "cell_type": "code",
   "execution_count": 33,
   "metadata": {},
   "outputs": [
    {
     "name": "stdout",
     "output_type": "stream",
     "text": [
      "html loaded ...\n"
     ]
    }
   ],
   "source": [
    "html = \"\"\"\n",
    "<html>\n",
    "    <head>\n",
    "        <title>Python for data science</title>\n",
    "    </head>\n",
    "    <body>\n",
    "        <div id=\"main_container\">\n",
    "            <h1>Why Python for data science?</h1>\n",
    "            <img src=\"https://goo.gl/uSCjso\"  height=\"200px\"/>\n",
    "            <h2>Reasons</h2>\n",
    "            <ul id=\"reasons\">\n",
    "                <li>Easy to read</li>\n",
    "                <li>Lots of modules and support</li>\n",
    "                <li>I like snakes, reptiles and things that wiggle!</li>\n",
    "            </ul>\n",
    "            <h2>Fruits I like</h2>\n",
    "            <ul id=\"fruits\">\n",
    "                <li>Apples</li>\n",
    "                <li>Green apples            </li>\n",
    "                <li>Slightly dark red apples</li>\n",
    "            </ul>\n",
    "        </div>\n",
    "    </body>\n",
    "</html>\n",
    "\"\"\"\n",
    "print \"html loaded ...\""
   ]
  },
  {
   "cell_type": "code",
   "execution_count": 34,
   "metadata": {},
   "outputs": [
    {
     "name": "stdout",
     "output_type": "stream",
     "text": [
      "Has soup!\n"
     ]
    }
   ],
   "source": [
    "soup = BeautifulSoup(html, \"html.parser\")\n",
    "print \"Has soup!\"\n",
    "# print soup"
   ]
  },
  {
   "cell_type": "code",
   "execution_count": 35,
   "metadata": {},
   "outputs": [
    {
     "name": "stdout",
     "output_type": "stream",
     "text": [
      "[<ul id=\"reasons\">\n",
      "<li>Easy to read</li>\n",
      "<li>Lots of modules and support</li>\n",
      "<li>I like snakes, reptiles and things that wiggle!</li>\n",
      "</ul>, <ul id=\"fruits\">\n",
      "<li>Apples</li>\n",
      "<li>Green apples            </li>\n",
      "<li>Slightly dark red apples</li>\n",
      "</ul>]\n"
     ]
    }
   ],
   "source": [
    "lists = soup.findAll('ul')\n",
    "print lists"
   ]
  },
  {
   "cell_type": "code",
   "execution_count": 36,
   "metadata": {},
   "outputs": [
    {
     "name": "stdout",
     "output_type": "stream",
     "text": [
      "[<li>Easy to read</li>, <li>Lots of modules and support</li>, <li>I like snakes, reptiles and things that wiggle!</li>, <li>Apples</li>, <li>Green apples            </li>, <li>Slightly dark red apples</li>]\n"
     ]
    }
   ],
   "source": [
    "items = soup.findAll('li')\n",
    "print items"
   ]
  },
  {
   "cell_type": "code",
   "execution_count": 37,
   "metadata": {},
   "outputs": [
    {
     "name": "stdout",
     "output_type": "stream",
     "text": [
      "Easy to read\n",
      "Lots of modules and support\n",
      "I like snakes, reptiles and things that wiggle!\n",
      "Apples\n",
      "Green apples\n",
      "Slightly dark red apples\n"
     ]
    }
   ],
   "source": [
    "for item in items:\n",
    "    print item.string.strip()"
   ]
  },
  {
   "cell_type": "markdown",
   "metadata": {},
   "source": [
    "### But I want only reasons!"
   ]
  },
  {
   "cell_type": "code",
   "execution_count": 48,
   "metadata": {},
   "outputs": [
    {
     "name": "stdout",
     "output_type": "stream",
     "text": [
      "[<li>Easy to read</li>, <li>Lots of modules and support</li>, <li>I like snakes, reptiles and things that wiggle!</li>]\n",
      "<li>Easy to read</li>\n"
     ]
    }
   ],
   "source": [
    "reasons_list = soup.find('ul',{'id': 'reasons'}).findAll('li')\n",
    "print reasons_list\n",
    "# one_reason = soup.find('ul',{'id': 'reasons'}).find('li')\n",
    "# print one_reason"
   ]
  },
  {
   "cell_type": "code",
   "execution_count": 65,
   "metadata": {},
   "outputs": [
    {
     "name": "stdout",
     "output_type": "stream",
     "text": [
      "Easy to read\n",
      "Lots of modules and support\n",
      "I like snakes, reptiles and things that wiggle!\n"
     ]
    }
   ],
   "source": [
    "reasons_array = []\n",
    "for reason in reasons_list:\n",
    "    print reason.string.strip()\n",
    "    reasons_array.append([reason.string.strip()]) # for csv!"
   ]
  },
  {
   "cell_type": "markdown",
   "metadata": {},
   "source": [
    "#### Wanna csv?\n",
    "---\n",
    "`Csv writer wants a 2D list:\n",
    "[\n",
    "    [cell, cell cell, ...], <--- row 1\n",
    "    [cell, cell cell, ...], <--- row 2\n",
    "    ...\n",
    "]`"
   ]
  },
  {
   "cell_type": "code",
   "execution_count": 66,
   "metadata": {},
   "outputs": [
    {
     "name": "stdout",
     "output_type": "stream",
     "text": [
      "csv written!\n"
     ]
    }
   ],
   "source": [
    "import csv\n",
    "with open('reasons.csv', 'wb') as csv_file:\n",
    "    writer = csv.writer(csv_file)\n",
    "    writer.writerows(reasons_array)\n",
    "print \"csv written!\""
   ]
  },
  {
   "cell_type": "code",
   "execution_count": null,
   "metadata": {
    "collapsed": true
   },
   "outputs": [],
   "source": []
  }
 ],
 "metadata": {
  "kernelspec": {
   "display_name": "Python 2",
   "language": "python",
   "name": "python2"
  },
  "language_info": {
   "codemirror_mode": {
    "name": "ipython",
    "version": 2
   },
   "file_extension": ".py",
   "mimetype": "text/x-python",
   "name": "python",
   "nbconvert_exporter": "python",
   "pygments_lexer": "ipython2",
   "version": "2.7.9"
  }
 },
 "nbformat": 4,
 "nbformat_minor": 2
}
