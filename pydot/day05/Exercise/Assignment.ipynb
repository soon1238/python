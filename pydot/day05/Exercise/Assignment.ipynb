{
 "cells": [
  {
   "cell_type": "code",
   "execution_count": null,
   "metadata": {
    "collapsed": true
   },
   "outputs": [],
   "source": [
    "import time\n",
    "import requests\n",
    "from pprint import pprint\n",
    "\n",
    "off = 100\n",
    "lim = 100\n",
    "url = \"https://data.gov.sg/api/action/datastore_search?offset=%s&limit=%s&resource_id=f9dbfc75-a2dc-42af-9f50-425e4107ae84\"\n",
    "\n",
    "def collectdata(url):\n",
    "    custom_header = {\n",
    "        \"user-agent\" : \"Mozilla/5.0 (Macintosh; Intel Mac OS X 10_12_6) AppleWebKit/537.36 (KHTML, like Gecko) Chrome/61.0.3163.100 Safari/537.36\"\n",
    "    }\n",
    "    content = requests.get(url, headers=custom_header).json()\n",
    "    return content\n",
    "\n",
    "\n",
    "for i in range(0,861,off):\n",
    "    current_url = url % (i,lim)\n",
    "    content = collectdata(current_url)\n",
    "    pprint(content)\n",
    "    time.sleep(2)"
   ]
  },
  {
   "cell_type": "code",
   "execution_count": null,
   "metadata": {
    "collapsed": true
   },
   "outputs": [],
   "source": []
  }
 ],
 "metadata": {
  "kernelspec": {
   "display_name": "Python 2",
   "language": "python",
   "name": "python2"
  },
  "language_info": {
   "codemirror_mode": {
    "name": "ipython",
    "version": 2
   },
   "file_extension": ".py",
   "mimetype": "text/x-python",
   "name": "python",
   "nbconvert_exporter": "python",
   "pygments_lexer": "ipython2",
   "version": "2.7.13"
  }
 },
 "nbformat": 4,
 "nbformat_minor": 2
}
