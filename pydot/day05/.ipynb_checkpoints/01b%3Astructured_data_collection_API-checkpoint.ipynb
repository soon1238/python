{
 "cells": [
  {
   "cell_type": "markdown",
   "metadata": {},
   "source": [
    "#  Structured Data Collection with APIs "
   ]
  },
  {
   "cell_type": "markdown",
   "metadata": {},
   "source": [
    "## URA Example"
   ]
  },
  {
   "cell_type": "raw",
   "metadata": {},
   "source": [
    "The Urban Redevelopment Authority (URA) releases its data in an API such as current construction jobs and how long past construction projects took. Below is a sample program using the URA API. \n",
    "\n",
    "API manual: \n",
    "https://www.ura.gov.sg/maps/ura/ura_dataservice/samples/URA%20Data%20Service%20API%20User%20Manual.pdf"
   ]
  },
  {
   "cell_type": "code",
   "execution_count": 5,
   "metadata": {
    "collapsed": true
   },
   "outputs": [],
   "source": [
    "import requests\n",
    "import json\n",
    "import pandas as pd\n",
    "import csv\n",
    "from pprint import pprint"
   ]
  },
  {
   "cell_type": "code",
   "execution_count": 9,
   "metadata": {
    "collapsed": true
   },
   "outputs": [],
   "source": [
    "Tokend = '<TOKEN>'\n",
    "dict_aut = {\"AccessKey\":\"<ACCESS-KEY>\", \"Token\": Tokend}\n",
    "response1 = requests.get(\"https://www.ura.gov.sg/uraDataService/invokeUraDS?service=PMI_Resi_Transaction&batch=1\",headers = dict_aut)\n",
    "j1 = response1.json()\n",
    "l1 = j1.get(\"Result\")\n"
   ]
  },
  {
   "cell_type": "code",
   "execution_count": null,
   "metadata": {
    "collapsed": true
   },
   "outputs": [],
   "source": [
    "pd_table = pd.DataFrame(l1)\n",
    "print(pd_table)"
   ]
  },
  {
   "cell_type": "code",
   "execution_count": null,
   "metadata": {
    "collapsed": true
   },
   "outputs": [],
   "source": [
    "#this line provides the names of the columns of the dataframe pd_table\n",
    "print(pd_table.columns)\n",
    "print(type(pd_table.columns))"
   ]
  },
  {
   "cell_type": "markdown",
   "metadata": {},
   "source": [
    "#'project', 'contractDate', 'area', 'price', 'propertyType','typeOfArea', 'tenure', 'floorRange','typeOfSale', 'district', 'noOfUnits'\n",
    "#the items are from the transaction  column of the data_frame"
   ]
  },
  {
   "cell_type": "code",
   "execution_count": null,
   "metadata": {
    "collapsed": true
   },
   "outputs": [],
   "source": [
    "pd_table.head()"
   ]
  },
  {
   "cell_type": "markdown",
   "metadata": {
    "collapsed": true
   },
   "source": [
    "## Data.gov.sg"
   ]
  },
  {
   "cell_type": "raw",
   "metadata": {},
   "source": [
    "The original data.gov.sg was launched in 2011 as a repository of public data for analysis, research and application development. Its massive sets of data can be extremely useful in your future applications. \n",
    "Link to website:\n",
    "https://data.gov.sg/\n",
    "Link to some documentation:\n",
    "https://data.gov.sg/api/1/util/snippet/api_info.html?resource_id=83b2fc37-ce8c-4df4-968b-370fd818138b&datastore_root_url=https%3A%2F%2Fdata.gov.sg%2Fapi%2Faction"
   ]
  },
  {
   "cell_type": "code",
   "execution_count": 1,
   "metadata": {},
   "outputs": [
    {
     "name": "stdout",
     "output_type": "stream",
     "text": [
      "{u'help': u'https://data.gov.sg/api/3/action/help_show?name=datastore_search', u'success': True, u'result': {u'resource_id': u'83b2fc37-ce8c-4df4-968b-370fd818138b', u'fields': [{u'type': u'int4', u'id': u'_id'}, {u'type': u'text', u'id': u'month'}, {u'type': u'text', u'id': u'town'}, {u'type': u'text', u'id': u'flat_type'}, {u'type': u'text', u'id': u'block'}, {u'type': u'text', u'id': u'street_name'}, {u'type': u'text', u'id': u'storey_range'}, {u'type': u'numeric', u'id': u'floor_area_sqm'}, {u'type': u'text', u'id': u'flat_model'}, {u'type': u'numeric', u'id': u'lease_commence_date'}, {u'type': u'numeric', u'id': u'resale_price'}, {u'type': u'int8', u'id': u'_full_count'}, {u'type': u'float4', u'id': u'rank'}], u'q': u'title:jones', u'records': [], u'_links': {u'start': u'/api/action/datastore_search?q=title%3Ajones&limit=5&resource_id=83b2fc37-ce8c-4df4-968b-370fd818138b', u'next': u'/api/action/datastore_search?q=title%3Ajones&offset=5&limit=5&resource_id=83b2fc37-ce8c-4df4-968b-370fd818138b'}, u'limit': 5}}\n"
     ]
    }
   ],
   "source": [
    "import requests\n",
    "url = 'https://data.gov.sg/api/action/datastore_search?resource_id=83b2fc37-ce8c-4df4-968b-370fd818138b&limit=5&q=title:jones'\n",
    "fileobj = requests.get(url)\n",
    "print(fileobj.json())"
   ]
  },
  {
   "cell_type": "code",
   "execution_count": 25,
   "metadata": {},
   "outputs": [
    {
     "name": "stdout",
     "output_type": "stream",
     "text": [
      "{u'help': u'https://data.gov.sg/api/3/action/help_show?name=datastore_search',\n",
      " u'result': {u'_links': {u'next': u'/api/action/datastore_search?offset=840&limit=10&resource_id=f9dbfc75-a2dc-42af-9f50-425e4107ae84',\n",
      "                         u'prev': u'/api/action/datastore_search?offset=820&limit=10&resource_id=f9dbfc75-a2dc-42af-9f50-425e4107ae84',\n",
      "                         u'start': u'/api/action/datastore_search?limit=10&resource_id=f9dbfc75-a2dc-42af-9f50-425e4107ae84'},\n",
      "             u'fields': [{u'id': u'_id', u'type': u'int4'},\n",
      "                         {u'id': u'year', u'type': u'numeric'},\n",
      "                         {u'id': u'level_1', u'type': u'text'},\n",
      "                         {u'id': u'value', u'type': u'numeric'}],\n",
      "             u'limit': 10,\n",
      "             u'offset': 830,\n",
      "             u'records': [{u'_id': 831,\n",
      "                           u'level_1': u'Total Female Malays',\n",
      "                           u'value': u'261815',\n",
      "                           u'year': u'2015'},\n",
      "                          {u'_id': 832,\n",
      "                           u'level_1': u'Total Chinese',\n",
      "                           u'value': u'2900007',\n",
      "                           u'year': u'2015'},\n",
      "                          {u'_id': 833,\n",
      "                           u'level_1': u'Total Male Chinese',\n",
      "                           u'value': u'1415303',\n",
      "                           u'year': u'2015'},\n",
      "                          {u'_id': 834,\n",
      "                           u'level_1': u'Total Female Chinese',\n",
      "                           u'value': u'1484704',\n",
      "                           u'year': u'2015'},\n",
      "                          {u'_id': 835,\n",
      "                           u'level_1': u'Total Indians',\n",
      "                           u'value': u'354952',\n",
      "                           u'year': u'2015'},\n",
      "                          {u'_id': 836,\n",
      "                           u'level_1': u'Total Male Indians',\n",
      "                           u'value': u'182304',\n",
      "                           u'year': u'2015'},\n",
      "                          {u'_id': 837,\n",
      "                           u'level_1': u'Total Female Indians',\n",
      "                           u'value': u'172648',\n",
      "                           u'year': u'2015'},\n",
      "                          {u'_id': 838,\n",
      "                           u'level_1': u'Other Ethnic Groups (Total)',\n",
      "                           u'value': u'126808',\n",
      "                           u'year': u'2015'},\n",
      "                          {u'_id': 839,\n",
      "                           u'level_1': u'Other Ethnic Groups (Males)',\n",
      "                           u'value': u'59913',\n",
      "                           u'year': u'2015'},\n",
      "                          {u'_id': 840,\n",
      "                           u'level_1': u'Other Ethnic Groups (Females)',\n",
      "                           u'value': u'66895',\n",
      "                           u'year': u'2015'}],\n",
      "             u'resource_id': u'f9dbfc75-a2dc-42af-9f50-425e4107ae84',\n",
      "             u'total': 855},\n",
      " u'success': True}\n",
      "(10, 830, 855)\n"
     ]
    }
   ],
   "source": [
    "import requests\n",
    "from pprint import pprint\n",
    "url = 'https://data.gov.sg/api/action/datastore_search?offset=830&limit=10&resource_id=f9dbfc75-a2dc-42af-9f50-425e4107ae84'\n",
    "\n",
    "myheader = {\n",
    "    \"user-agent\" : \"Mozilla/5.0 (Macintosh; Intel Mac OS X 10_12_6) AppleWebKit/537.36 (KHTML, like Gecko) Chrome/61.0.3163.100 Safari/537.36\"\n",
    "}\n",
    "\n",
    "resp_obj = requests.get(url, headers=myheader)\n",
    "content = resp_obj.json()\n",
    "\n",
    "# import json\n",
    "# content_dict = json.loads(content)\n",
    "\n",
    "pprint (content)\n",
    "\n",
    "\n",
    "lim = content.get(\"result\").get(\"limit\")\n",
    "off = content.get(\"result\").get(\"offset\")\n",
    "total = content.get(\"result\").get(\"total\")\n",
    "\n",
    "\n",
    "print(lim, off,total)\n",
    "\n",
    "\n",
    "\n"
   ]
  },
  {
   "cell_type": "code",
   "execution_count": 28,
   "metadata": {
    "collapsed": true
   },
   "outputs": [],
   "source": [
    "import time\n",
    "import requests\n",
    "from pprint import pprint\n",
    "\n",
    "off = 100\n",
    "lim = 100\n",
    "url = \"https://data.gov.sg/api/action/datastore_search?offset=%s&limit=%s&resource_id=f9dbfc75-a2dc-42af-9f50-425e4107ae84\"\n",
    "\n",
    "def collectdata(url):\n",
    "    custom_header = {\n",
    "        \"API_KEY\" :\"Ddd\"\n",
    "        \"user-agent\" : \"Mozilla/5.0 (Macintosh; Intel Mac OS X 10_12_6) AppleWebKit/537.36 (KHTML, like Gecko) Chrome/61.0.3163.100 Safari/537.36\"\n",
    "    }\n",
    "    content = requests.get(url, headers=custom_header).json()\n",
    "    return content\n",
    "\n",
    "\n",
    "for i in range(0,861,off):\n",
    "    current_url = url % (i,lim)\n",
    "    content = collectdata(current_url)\n",
    "    print(content)\n",
    "    time.sleep(2)"
   ]
  },
  {
   "cell_type": "code",
   "execution_count": 33,
   "metadata": {},
   "outputs": [
    {
     "name": "stdout",
     "output_type": "stream",
     "text": [
      "{u'clouds': {u'all': 75}, u'name': u'London', u'visibility': 10000, u'sys': {u'country': u'GB', u'sunset': 1508863633, u'message': 0.0083, u'type': 1, u'id': 5091, u'sunrise': 1508827270}, u'weather': [{u'main': u'Clouds', u'id': 803, u'icon': u'04d', u'description': u'broken clouds'}], u'coord': {u'lat': 51.51, u'lon': -0.13}, u'base': u'stations', u'dt': 1508851200, u'main': {u'pressure': 1017, u'temp_min': 289.15, u'temp_max': 293.15, u'temp': 290.97, u'humidity': 72}, u'id': 2643743, u'wind': {u'gust': 13.9, u'speed': 8.7, u'deg': 240}, u'cod': 200}\n"
     ]
    }
   ],
   "source": [
    "import requests\n",
    "API_KEY = \"8a81d247d650cb16469c4ba3ceb7d265\"\n",
    "url = \"http://api.openweathermap.org/data/2.5/weather?q=London&APPID=%s\" %(API_KEY)\n",
    "content = requests.get(url).json()\n",
    "print(content)\n"
   ]
  },
  {
   "cell_type": "code",
   "execution_count": null,
   "metadata": {
    "collapsed": true
   },
   "outputs": [],
   "source": []
  }
 ],
 "metadata": {
  "kernelspec": {
   "display_name": "Python 2",
   "language": "python",
   "name": "python2"
  },
  "language_info": {
   "codemirror_mode": {
    "name": "ipython",
    "version": 2
   },
   "file_extension": ".py",
   "mimetype": "text/x-python",
   "name": "python",
   "nbconvert_exporter": "python",
   "pygments_lexer": "ipython2",
   "version": "2.7.13"
  }
 },
 "nbformat": 4,
 "nbformat_minor": 2
}
