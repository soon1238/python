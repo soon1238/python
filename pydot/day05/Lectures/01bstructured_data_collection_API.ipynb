{
 "cells": [
  {
   "cell_type": "markdown",
   "metadata": {},
   "source": [
    "#  Structured Data Collection with APIs "
   ]
  },
  {
   "cell_type": "code",
   "execution_count": null,
   "metadata": {
    "collapsed": true
   },
   "outputs": [],
   "source": []
  },
  {
   "cell_type": "markdown",
   "metadata": {},
   "source": [
    "## URA Example"
   ]
  },
  {
   "cell_type": "raw",
   "metadata": {},
   "source": [
    "The Urban Redevelopment Authority (URA) releases its data in an API such as current construction jobs and how long past construction projects took. Below is a sample program using the URA API. \n",
    "\n",
    "API manual: \n",
    "https://www.ura.gov.sg/maps/ura/ura_dataservice/samples/URA%20Data%20Service%20API%20User%20Manual.pdf"
   ]
  },
  {
   "cell_type": "code",
   "execution_count": 5,
   "metadata": {
    "collapsed": true
   },
   "outputs": [],
   "source": [
    "import requests\n",
    "import json\n",
    "import pandas as pd\n",
    "import csv\n",
    "from pprint import pprint"
   ]
  },
  {
   "cell_type": "code",
   "execution_count": 9,
   "metadata": {
    "collapsed": true
   },
   "outputs": [],
   "source": [
    "Tokend = '<TOKEN>'\n",
    "dict_aut = {\"AccessKey\":\"<ACCESS-KEY>\", \"Token\": Tokend}\n",
    "response1 = requests.get(\"https://www.ura.gov.sg/uraDataService/invokeUraDS?service=PMI_Resi_Transaction&batch=1\",headers = dict_aut)\n",
    "j1 = response1.json()\n",
    "l1 = j1.get(\"Result\")\n"
   ]
  },
  {
   "cell_type": "code",
   "execution_count": null,
   "metadata": {
    "collapsed": true
   },
   "outputs": [],
   "source": [
    "pd_table = pd.DataFrame(l1)\n",
    "print(pd_table)"
   ]
  },
  {
   "cell_type": "code",
   "execution_count": null,
   "metadata": {
    "collapsed": true
   },
   "outputs": [],
   "source": [
    "#this line provides the names of the columns of the dataframe pd_table\n",
    "print(pd_table.columns)\n",
    "print(type(pd_table.columns))"
   ]
  },
  {
   "cell_type": "markdown",
   "metadata": {},
   "source": [
    "#'project', 'contractDate', 'area', 'price', 'propertyType','typeOfArea', 'tenure', 'floorRange','typeOfSale', 'district', 'noOfUnits'\n",
    "#the items are from the transaction  column of the data_frame"
   ]
  },
  {
   "cell_type": "code",
   "execution_count": null,
   "metadata": {
    "collapsed": true
   },
   "outputs": [],
   "source": [
    "pd_table.head()"
   ]
  },
  {
   "cell_type": "markdown",
   "metadata": {
    "collapsed": true
   },
   "source": [
    "## Data.gov.sg"
   ]
  },
  {
   "cell_type": "raw",
   "metadata": {},
   "source": [
    "The original data.gov.sg was launched in 2011 as a repository of public data for analysis, research and application development. Its massive sets of data can be extremely useful in your future applications. \n",
    "Link to website:\n",
    "https://data.gov.sg/\n",
    "Link to some documentation:\n",
    "https://data.gov.sg/api/1/util/snippet/api_info.html?resource_id=83b2fc37-ce8c-4df4-968b-370fd818138b&datastore_root_url=https%3A%2F%2Fdata.gov.sg%2Fapi%2Faction"
   ]
  },
  {
   "cell_type": "code",
   "execution_count": 1,
   "metadata": {},
   "outputs": [
    {
     "name": "stdout",
     "output_type": "stream",
     "text": [
      "{u'help': u'https://data.gov.sg/api/3/action/help_show?name=datastore_search', u'success': True, u'result': {u'resource_id': u'83b2fc37-ce8c-4df4-968b-370fd818138b', u'fields': [{u'type': u'int4', u'id': u'_id'}, {u'type': u'text', u'id': u'month'}, {u'type': u'text', u'id': u'town'}, {u'type': u'text', u'id': u'flat_type'}, {u'type': u'text', u'id': u'block'}, {u'type': u'text', u'id': u'street_name'}, {u'type': u'text', u'id': u'storey_range'}, {u'type': u'numeric', u'id': u'floor_area_sqm'}, {u'type': u'text', u'id': u'flat_model'}, {u'type': u'numeric', u'id': u'lease_commence_date'}, {u'type': u'numeric', u'id': u'resale_price'}, {u'type': u'int8', u'id': u'_full_count'}, {u'type': u'float4', u'id': u'rank'}], u'q': u'title:jones', u'records': [], u'_links': {u'start': u'/api/action/datastore_search?q=title%3Ajones&limit=5&resource_id=83b2fc37-ce8c-4df4-968b-370fd818138b', u'next': u'/api/action/datastore_search?q=title%3Ajones&offset=5&limit=5&resource_id=83b2fc37-ce8c-4df4-968b-370fd818138b'}, u'limit': 5}}\n"
     ]
    }
   ],
   "source": [
    "import requests\n",
    "url = 'https://data.gov.sg/api/action/datastore_search?resource_id=83b2fc37-ce8c-4df4-968b-370fd818138b&limit=5&q=title:jones'\n",
    "fileobj = requests.get(url)\n",
    "print(fileobj.json())"
   ]
  },
  {
   "cell_type": "code",
   "execution_count": 4,
   "metadata": {},
   "outputs": [
    {
     "name": "stdout",
     "output_type": "stream",
     "text": [
      "{u'help': u'https://data.gov.sg/api/3/action/help_show?name=datastore_search',\n",
      " u'result': {u'_links': {u'next': u'/api/action/datastore_search?offset=10&limit=10&resource_id=f9dbfc75-a2dc-42af-9f50-425e4107ae84',\n",
      "                         u'start': u'/api/action/datastore_search?limit=10&resource_id=f9dbfc75-a2dc-42af-9f50-425e4107ae84'},\n",
      "             u'fields': [{u'id': u'_id', u'type': u'int4'},\n",
      "                         {u'id': u'year', u'type': u'numeric'},\n",
      "                         {u'id': u'level_1', u'type': u'text'},\n",
      "                         {u'id': u'value', u'type': u'numeric'}],\n",
      "             u'limit': 10,\n",
      "             u'records': [{u'_id': 1,\n",
      "                           u'level_1': u'Total Residents',\n",
      "                           u'value': u'1646400',\n",
      "                           u'year': u'1960'},\n",
      "                          {u'_id': 2,\n",
      "                           u'level_1': u'Total Male Residents',\n",
      "                           u'value': u'859600',\n",
      "                           u'year': u'1960'},\n",
      "                          {u'_id': 3,\n",
      "                           u'level_1': u'Total Female Residents',\n",
      "                           u'value': u'786800',\n",
      "                           u'year': u'1960'},\n",
      "                          {u'_id': 4,\n",
      "                           u'level_1': u'Total Malays',\n",
      "                           u'value': u'232200',\n",
      "                           u'year': u'1960'},\n",
      "                          {u'_id': 5,\n",
      "                           u'level_1': u'Total Male Malays',\n",
      "                           u'value': u'121000',\n",
      "                           u'year': u'1960'},\n",
      "                          {u'_id': 6,\n",
      "                           u'level_1': u'Total Female Malays',\n",
      "                           u'value': u'111200',\n",
      "                           u'year': u'1960'},\n",
      "                          {u'_id': 7,\n",
      "                           u'level_1': u'Total Chinese',\n",
      "                           u'value': u'1251600',\n",
      "                           u'year': u'1960'},\n",
      "                          {u'_id': 8,\n",
      "                           u'level_1': u'Total Male Chinese',\n",
      "                           u'value': u'636000',\n",
      "                           u'year': u'1960'},\n",
      "                          {u'_id': 9,\n",
      "                           u'level_1': u'Total Female Chinese',\n",
      "                           u'value': u'615600',\n",
      "                           u'year': u'1960'},\n",
      "                          {u'_id': 10,\n",
      "                           u'level_1': u'Total Indians',\n",
      "                           u'value': u'133200',\n",
      "                           u'year': u'1960'}],\n",
      "             u'resource_id': u'f9dbfc75-a2dc-42af-9f50-425e4107ae84',\n",
      "             u'total': 855},\n",
      " u'success': True}\n"
     ]
    }
   ],
   "source": [
    "import requests\n",
    "from pprint import pprint\n",
    "url = 'https://data.gov.sg/api/action/datastore_search?resource_id=f9dbfc75-a2dc-42af-9f50-425e4107ae84&limit=10'\n",
    "resp_obj = requests.get(url)\n",
    "content=resp_obj.json()\n",
    "#content=resp_obj.text()\n",
    "#import json\n",
    "#content-dic=json.loads(content)\n",
    "pprint (content)"
   ]
  },
  {
   "cell_type": "code",
   "execution_count": 7,
   "metadata": {},
   "outputs": [
    {
     "name": "stdout",
     "output_type": "stream",
     "text": [
      "{u'error': {u'__type': u'Validation Error',\n",
      "            u'limit': [u'Invalid integer'],\n",
      "            u'offset': [u'Invalid integer']},\n",
      " u'help': u'https://data.gov.sg/api/3/action/help_show?name=datastore_search',\n",
      " u'success': False}\n",
      "https://data.gov.sg/api/action/datastore_search?resource_id=f9dbfc75-a2dc-42af-9f50-425e4107ae84&limit=10&offset=0\n",
      "https://data.gov.sg/api/action/datastore_search?resource_id=f9dbfc75-a2dc-42af-9f50-425e4107ae84&limit=10&offset=10\n",
      "https://data.gov.sg/api/action/datastore_search?resource_id=f9dbfc75-a2dc-42af-9f50-425e4107ae84&limit=10&offset=20\n",
      "https://data.gov.sg/api/action/datastore_search?resource_id=f9dbfc75-a2dc-42af-9f50-425e4107ae84&limit=10&offset=30\n",
      "https://data.gov.sg/api/action/datastore_search?resource_id=f9dbfc75-a2dc-42af-9f50-425e4107ae84&limit=10&offset=40\n",
      "https://data.gov.sg/api/action/datastore_search?resource_id=f9dbfc75-a2dc-42af-9f50-425e4107ae84&limit=10&offset=50\n",
      "https://data.gov.sg/api/action/datastore_search?resource_id=f9dbfc75-a2dc-42af-9f50-425e4107ae84&limit=10&offset=60\n",
      "https://data.gov.sg/api/action/datastore_search?resource_id=f9dbfc75-a2dc-42af-9f50-425e4107ae84&limit=10&offset=70\n",
      "https://data.gov.sg/api/action/datastore_search?resource_id=f9dbfc75-a2dc-42af-9f50-425e4107ae84&limit=10&offset=80\n",
      "https://data.gov.sg/api/action/datastore_search?resource_id=f9dbfc75-a2dc-42af-9f50-425e4107ae84&limit=10&offset=90\n",
      "https://data.gov.sg/api/action/datastore_search?resource_id=f9dbfc75-a2dc-42af-9f50-425e4107ae84&limit=10&offset=100\n",
      "https://data.gov.sg/api/action/datastore_search?resource_id=f9dbfc75-a2dc-42af-9f50-425e4107ae84&limit=10&offset=110\n",
      "https://data.gov.sg/api/action/datastore_search?resource_id=f9dbfc75-a2dc-42af-9f50-425e4107ae84&limit=10&offset=120\n",
      "https://data.gov.sg/api/action/datastore_search?resource_id=f9dbfc75-a2dc-42af-9f50-425e4107ae84&limit=10&offset=130\n",
      "https://data.gov.sg/api/action/datastore_search?resource_id=f9dbfc75-a2dc-42af-9f50-425e4107ae84&limit=10&offset=140\n",
      "https://data.gov.sg/api/action/datastore_search?resource_id=f9dbfc75-a2dc-42af-9f50-425e4107ae84&limit=10&offset=150\n",
      "https://data.gov.sg/api/action/datastore_search?resource_id=f9dbfc75-a2dc-42af-9f50-425e4107ae84&limit=10&offset=160\n",
      "https://data.gov.sg/api/action/datastore_search?resource_id=f9dbfc75-a2dc-42af-9f50-425e4107ae84&limit=10&offset=170\n",
      "https://data.gov.sg/api/action/datastore_search?resource_id=f9dbfc75-a2dc-42af-9f50-425e4107ae84&limit=10&offset=180\n",
      "https://data.gov.sg/api/action/datastore_search?resource_id=f9dbfc75-a2dc-42af-9f50-425e4107ae84&limit=10&offset=190\n",
      "https://data.gov.sg/api/action/datastore_search?resource_id=f9dbfc75-a2dc-42af-9f50-425e4107ae84&limit=10&offset=200\n",
      "https://data.gov.sg/api/action/datastore_search?resource_id=f9dbfc75-a2dc-42af-9f50-425e4107ae84&limit=10&offset=210\n",
      "https://data.gov.sg/api/action/datastore_search?resource_id=f9dbfc75-a2dc-42af-9f50-425e4107ae84&limit=10&offset=220\n",
      "https://data.gov.sg/api/action/datastore_search?resource_id=f9dbfc75-a2dc-42af-9f50-425e4107ae84&limit=10&offset=230\n",
      "https://data.gov.sg/api/action/datastore_search?resource_id=f9dbfc75-a2dc-42af-9f50-425e4107ae84&limit=10&offset=240\n",
      "https://data.gov.sg/api/action/datastore_search?resource_id=f9dbfc75-a2dc-42af-9f50-425e4107ae84&limit=10&offset=250\n",
      "https://data.gov.sg/api/action/datastore_search?resource_id=f9dbfc75-a2dc-42af-9f50-425e4107ae84&limit=10&offset=260\n",
      "https://data.gov.sg/api/action/datastore_search?resource_id=f9dbfc75-a2dc-42af-9f50-425e4107ae84&limit=10&offset=270\n",
      "https://data.gov.sg/api/action/datastore_search?resource_id=f9dbfc75-a2dc-42af-9f50-425e4107ae84&limit=10&offset=280\n",
      "https://data.gov.sg/api/action/datastore_search?resource_id=f9dbfc75-a2dc-42af-9f50-425e4107ae84&limit=10&offset=290\n",
      "https://data.gov.sg/api/action/datastore_search?resource_id=f9dbfc75-a2dc-42af-9f50-425e4107ae84&limit=10&offset=300\n",
      "https://data.gov.sg/api/action/datastore_search?resource_id=f9dbfc75-a2dc-42af-9f50-425e4107ae84&limit=10&offset=310\n",
      "https://data.gov.sg/api/action/datastore_search?resource_id=f9dbfc75-a2dc-42af-9f50-425e4107ae84&limit=10&offset=320\n",
      "https://data.gov.sg/api/action/datastore_search?resource_id=f9dbfc75-a2dc-42af-9f50-425e4107ae84&limit=10&offset=330\n",
      "https://data.gov.sg/api/action/datastore_search?resource_id=f9dbfc75-a2dc-42af-9f50-425e4107ae84&limit=10&offset=340\n",
      "https://data.gov.sg/api/action/datastore_search?resource_id=f9dbfc75-a2dc-42af-9f50-425e4107ae84&limit=10&offset=350\n",
      "https://data.gov.sg/api/action/datastore_search?resource_id=f9dbfc75-a2dc-42af-9f50-425e4107ae84&limit=10&offset=360\n",
      "https://data.gov.sg/api/action/datastore_search?resource_id=f9dbfc75-a2dc-42af-9f50-425e4107ae84&limit=10&offset=370\n",
      "https://data.gov.sg/api/action/datastore_search?resource_id=f9dbfc75-a2dc-42af-9f50-425e4107ae84&limit=10&offset=380\n",
      "https://data.gov.sg/api/action/datastore_search?resource_id=f9dbfc75-a2dc-42af-9f50-425e4107ae84&limit=10&offset=390\n",
      "https://data.gov.sg/api/action/datastore_search?resource_id=f9dbfc75-a2dc-42af-9f50-425e4107ae84&limit=10&offset=400\n",
      "https://data.gov.sg/api/action/datastore_search?resource_id=f9dbfc75-a2dc-42af-9f50-425e4107ae84&limit=10&offset=410\n",
      "https://data.gov.sg/api/action/datastore_search?resource_id=f9dbfc75-a2dc-42af-9f50-425e4107ae84&limit=10&offset=420\n",
      "https://data.gov.sg/api/action/datastore_search?resource_id=f9dbfc75-a2dc-42af-9f50-425e4107ae84&limit=10&offset=430\n",
      "https://data.gov.sg/api/action/datastore_search?resource_id=f9dbfc75-a2dc-42af-9f50-425e4107ae84&limit=10&offset=440\n",
      "https://data.gov.sg/api/action/datastore_search?resource_id=f9dbfc75-a2dc-42af-9f50-425e4107ae84&limit=10&offset=450\n",
      "https://data.gov.sg/api/action/datastore_search?resource_id=f9dbfc75-a2dc-42af-9f50-425e4107ae84&limit=10&offset=460\n",
      "https://data.gov.sg/api/action/datastore_search?resource_id=f9dbfc75-a2dc-42af-9f50-425e4107ae84&limit=10&offset=470\n",
      "https://data.gov.sg/api/action/datastore_search?resource_id=f9dbfc75-a2dc-42af-9f50-425e4107ae84&limit=10&offset=480\n",
      "https://data.gov.sg/api/action/datastore_search?resource_id=f9dbfc75-a2dc-42af-9f50-425e4107ae84&limit=10&offset=490\n",
      "https://data.gov.sg/api/action/datastore_search?resource_id=f9dbfc75-a2dc-42af-9f50-425e4107ae84&limit=10&offset=500\n",
      "https://data.gov.sg/api/action/datastore_search?resource_id=f9dbfc75-a2dc-42af-9f50-425e4107ae84&limit=10&offset=510\n",
      "https://data.gov.sg/api/action/datastore_search?resource_id=f9dbfc75-a2dc-42af-9f50-425e4107ae84&limit=10&offset=520\n",
      "https://data.gov.sg/api/action/datastore_search?resource_id=f9dbfc75-a2dc-42af-9f50-425e4107ae84&limit=10&offset=530\n",
      "https://data.gov.sg/api/action/datastore_search?resource_id=f9dbfc75-a2dc-42af-9f50-425e4107ae84&limit=10&offset=540\n",
      "https://data.gov.sg/api/action/datastore_search?resource_id=f9dbfc75-a2dc-42af-9f50-425e4107ae84&limit=10&offset=550\n",
      "https://data.gov.sg/api/action/datastore_search?resource_id=f9dbfc75-a2dc-42af-9f50-425e4107ae84&limit=10&offset=560\n",
      "https://data.gov.sg/api/action/datastore_search?resource_id=f9dbfc75-a2dc-42af-9f50-425e4107ae84&limit=10&offset=570\n",
      "https://data.gov.sg/api/action/datastore_search?resource_id=f9dbfc75-a2dc-42af-9f50-425e4107ae84&limit=10&offset=580\n",
      "https://data.gov.sg/api/action/datastore_search?resource_id=f9dbfc75-a2dc-42af-9f50-425e4107ae84&limit=10&offset=590\n",
      "https://data.gov.sg/api/action/datastore_search?resource_id=f9dbfc75-a2dc-42af-9f50-425e4107ae84&limit=10&offset=600\n",
      "https://data.gov.sg/api/action/datastore_search?resource_id=f9dbfc75-a2dc-42af-9f50-425e4107ae84&limit=10&offset=610\n",
      "https://data.gov.sg/api/action/datastore_search?resource_id=f9dbfc75-a2dc-42af-9f50-425e4107ae84&limit=10&offset=620\n",
      "https://data.gov.sg/api/action/datastore_search?resource_id=f9dbfc75-a2dc-42af-9f50-425e4107ae84&limit=10&offset=630\n",
      "https://data.gov.sg/api/action/datastore_search?resource_id=f9dbfc75-a2dc-42af-9f50-425e4107ae84&limit=10&offset=640\n",
      "https://data.gov.sg/api/action/datastore_search?resource_id=f9dbfc75-a2dc-42af-9f50-425e4107ae84&limit=10&offset=650\n",
      "https://data.gov.sg/api/action/datastore_search?resource_id=f9dbfc75-a2dc-42af-9f50-425e4107ae84&limit=10&offset=660\n",
      "https://data.gov.sg/api/action/datastore_search?resource_id=f9dbfc75-a2dc-42af-9f50-425e4107ae84&limit=10&offset=670\n",
      "https://data.gov.sg/api/action/datastore_search?resource_id=f9dbfc75-a2dc-42af-9f50-425e4107ae84&limit=10&offset=680\n",
      "https://data.gov.sg/api/action/datastore_search?resource_id=f9dbfc75-a2dc-42af-9f50-425e4107ae84&limit=10&offset=690\n",
      "https://data.gov.sg/api/action/datastore_search?resource_id=f9dbfc75-a2dc-42af-9f50-425e4107ae84&limit=10&offset=700\n",
      "https://data.gov.sg/api/action/datastore_search?resource_id=f9dbfc75-a2dc-42af-9f50-425e4107ae84&limit=10&offset=710\n",
      "https://data.gov.sg/api/action/datastore_search?resource_id=f9dbfc75-a2dc-42af-9f50-425e4107ae84&limit=10&offset=720\n",
      "https://data.gov.sg/api/action/datastore_search?resource_id=f9dbfc75-a2dc-42af-9f50-425e4107ae84&limit=10&offset=730\n",
      "https://data.gov.sg/api/action/datastore_search?resource_id=f9dbfc75-a2dc-42af-9f50-425e4107ae84&limit=10&offset=740\n",
      "https://data.gov.sg/api/action/datastore_search?resource_id=f9dbfc75-a2dc-42af-9f50-425e4107ae84&limit=10&offset=750\n",
      "https://data.gov.sg/api/action/datastore_search?resource_id=f9dbfc75-a2dc-42af-9f50-425e4107ae84&limit=10&offset=760\n",
      "https://data.gov.sg/api/action/datastore_search?resource_id=f9dbfc75-a2dc-42af-9f50-425e4107ae84&limit=10&offset=770\n",
      "https://data.gov.sg/api/action/datastore_search?resource_id=f9dbfc75-a2dc-42af-9f50-425e4107ae84&limit=10&offset=780\n",
      "https://data.gov.sg/api/action/datastore_search?resource_id=f9dbfc75-a2dc-42af-9f50-425e4107ae84&limit=10&offset=790\n",
      "https://data.gov.sg/api/action/datastore_search?resource_id=f9dbfc75-a2dc-42af-9f50-425e4107ae84&limit=10&offset=800\n",
      "https://data.gov.sg/api/action/datastore_search?resource_id=f9dbfc75-a2dc-42af-9f50-425e4107ae84&limit=10&offset=810\n",
      "https://data.gov.sg/api/action/datastore_search?resource_id=f9dbfc75-a2dc-42af-9f50-425e4107ae84&limit=10&offset=820\n",
      "https://data.gov.sg/api/action/datastore_search?resource_id=f9dbfc75-a2dc-42af-9f50-425e4107ae84&limit=10&offset=830\n",
      "https://data.gov.sg/api/action/datastore_search?resource_id=f9dbfc75-a2dc-42af-9f50-425e4107ae84&limit=10&offset=840\n",
      "https://data.gov.sg/api/action/datastore_search?resource_id=f9dbfc75-a2dc-42af-9f50-425e4107ae84&limit=10&offset=850\n",
      "https://data.gov.sg/api/action/datastore_search?resource_id=f9dbfc75-a2dc-42af-9f50-425e4107ae84&limit=10&offset=860\n"
     ]
    }
   ],
   "source": [
    "import requests\n",
    "from pprint import pprint\n",
    "off =10\n",
    "lim=10\n",
    "url = 'https://data.gov.sg/api/action/datastore_search?resource_id=f9dbfc75-a2dc-42af-9f50-425e4107ae84&limit=%s&offset=%s'\n",
    "# resp_obj = requests.get(url)\n",
    "# content=resp_obj.json()\n",
    "\n",
    "# pprint (content)\n",
    "\n",
    "\n",
    "\n",
    "for i in range(0,861, off):\n",
    "    current_url=url % (lim,i)\n",
    "    print(current_url)"
   ]
  },
  {
   "cell_type": "code",
   "execution_count": null,
   "metadata": {
    "collapsed": true
   },
   "outputs": [],
   "source": []
  }
 ],
 "metadata": {
  "kernelspec": {
   "display_name": "Python 2",
   "language": "python",
   "name": "python2"
  },
  "language_info": {
   "codemirror_mode": {
    "name": "ipython",
    "version": 2
   },
   "file_extension": ".py",
   "mimetype": "text/x-python",
   "name": "python",
   "nbconvert_exporter": "python",
   "pygments_lexer": "ipython2",
   "version": "2.7.13"
  }
 },
 "nbformat": 4,
 "nbformat_minor": 2
}
