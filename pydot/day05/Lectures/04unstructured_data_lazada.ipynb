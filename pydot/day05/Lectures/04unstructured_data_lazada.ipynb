{
 "cells": [
  {
   "cell_type": "markdown",
   "metadata": {},
   "source": [
    "# Real world (kickass) data scraping\n",
    "---\n",
    "### Goal\n",
    "To save the products from the given website\n",
    "### Evaluation\n",
    "We should be able to retrieve lazada products and their details\n",
    "### Methods\n",
    "Use request library to fetch website contents and beautiful soup to parse it and retrieve the specific tag contents to display\n",
    "### Tools\n",
    "* Python 2.7\n",
    "* Beautiful soup\n",
    "* Request\n"
   ]
  },
  {
   "cell_type": "code",
   "execution_count": 8,
   "metadata": {
    "collapsed": true
   },
   "outputs": [],
   "source": [
    "import requests\n",
    "from bs4 import BeautifulSoup\n",
    "from IPython.display import Image\n",
    "import csv"
   ]
  },
  {
   "cell_type": "markdown",
   "metadata": {},
   "source": [
    "#### Creating the category page URL"
   ]
  },
  {
   "cell_type": "code",
   "execution_count": 9,
   "metadata": {},
   "outputs": [
    {
     "name": "stdout",
     "output_type": "stream",
     "text": [
      "Got the category page!  http://www.lazada.sg/shop-computers-laptops/?page=1\n"
     ]
    }
   ],
   "source": [
    "main_url = 'http://www.lazada.sg'\n",
    "category = 'computers-laptops'\n",
    "page_number = 1\n",
    "\n",
    "category_scrape_url = main_url + '/shop-' + category + '/?page='+str(page_number)\n",
    "\n",
    "category_webpage = requests.get(category_scrape_url).text\n",
    "print \"Got the category page! \",category_scrape_url"
   ]
  },
  {
   "cell_type": "markdown",
   "metadata": {},
   "source": [
    "#### Fetching the products on that category page (according to the specified page number)"
   ]
  },
  {
   "cell_type": "code",
   "execution_count": null,
   "metadata": {
    "collapsed": true
   },
   "outputs": [],
   "source": [
    "soup = BeautifulSoup(category_webpage, \"html.parser\")\n",
    "links = soup.findAll('a', {'class': 'c-product-card__name'})\n",
    "link_number = 1\n",
    "for link in links:\n",
    "    print link_number,\") \",link.text.strip()\n",
    "    link_number = link_number + 1 #Output too long, not shown. "
   ]
  },
  {
   "cell_type": "markdown",
   "metadata": {},
   "source": [
    "#### Let's get a product from the page!"
   ]
  },
  {
   "cell_type": "code",
   "execution_count": 11,
   "metadata": {},
   "outputs": [
    {
     "name": "stdout",
     "output_type": "stream",
     "text": [
      "Got product!  http://www.lazada.sg/sandisk-ssd-plus-120gb-25-sata-8006494.html?ff=1&sc=ETY=\n"
     ]
    }
   ],
   "source": [
    "product_number = 1\n",
    "product_url = main_url + links[product_number-1].get('href')\n",
    "product_webpage = requests.get(product_url).text\n",
    "soup = BeautifulSoup(product_webpage, \"html.parser\")\n",
    "print \"Got product! \",product_url"
   ]
  },
  {
   "cell_type": "markdown",
   "metadata": {},
   "source": [
    "#### Display the product details!"
   ]
  },
  {
   "cell_type": "code",
   "execution_count": 12,
   "metadata": {
    "scrolled": true
   },
   "outputs": [
    {
     "name": "stdout",
     "output_type": "stream",
     "text": [
      "\n",
      "\n",
      "Name:  SanDisk SSD PLUS 120GB 2.5\" SATA\n",
      "Price:  82.0 SGD\n"
     ]
    },
    {
     "data": {
      "text/html": [
       "<img src=\"http://sg-live-02.slatic.net/p/2/sandisk-ssd-plus-120gb-25-sata-0247-4946008-1632be595c9c7c8a5e5df21498f233c4-product.jpg\"/>"
      ],
      "text/plain": [
       "<IPython.core.display.Image object>"
      ]
     },
     "execution_count": 12,
     "metadata": {},
     "output_type": "execute_result"
    }
   ],
   "source": [
    "product_name = soup.find('h1', {'id': 'prod_title'}).string.strip()\n",
    "product_cost = float(soup.find('span', {'id':'product_price'}).string)\n",
    "product_img_url = soup.findAll('img', {'class' : 'itm-img'})[-1].get('src')\n",
    "\n",
    "Image(url=product_img_url)\n",
    "print \"\\n\\nName: \",product_name\n",
    "print \"Price: \",product_cost,\"SGD\"\n",
    "Image(url=product_img_url)\n"
   ]
  },
  {
   "cell_type": "code",
   "execution_count": 17,
   "metadata": {},
   "outputs": [
    {
     "name": "stdout",
     "output_type": "stream",
     "text": [
      "\n"
     ]
    }
   ],
   "source": [
    "rating = soup.find('span', {'class': 'ratingNumber'})\n",
    "ratings = ''\n",
    "if rating:\n",
    "    ratings = rating.find('em').string\n",
    "print ratings"
   ]
  },
  {
   "cell_type": "code",
   "execution_count": 14,
   "metadata": {},
   "outputs": [
    {
     "name": "stdout",
     "output_type": "stream",
     "text": [
      "<h1 id=\"prod_title\">\n",
      "                SanDisk SSD PLUS 120GB 2.5\" SATA                 \n",
      "            </h1>\n"
     ]
    }
   ],
   "source": [
    "print soup.find('h1', {'id': 'prod_title'})"
   ]
  },
  {
   "cell_type": "code",
   "execution_count": null,
   "metadata": {
    "collapsed": true
   },
   "outputs": [],
   "source": [
    "# making things loop ...\n",
    "soup = BeautifulSoup(category_webpage, \"html.parser\")\n",
    "links = soup.findAll('a', {'class': 'c-product-card__name'})\n",
    "for index,link in enumerate(links):\n",
    "    product_url = main_url + links[index].get('href')\n",
    "    product_webpage = requests.get(product_url).text\n",
    "    soup = BeautifulSoup(product_webpage, \"html.parser\")\n",
    "    product_name = soup.find('h1').string.strip()\n",
    "    product_cost = float(soup.find('span', {'id':'product_price'}).string)\n",
    "    print (product_name,product_cost) #output too long, not shown. \n",
    " "
   ]
  }
 ],
 "metadata": {
  "kernelspec": {
   "display_name": "Python 2",
   "language": "python",
   "name": "python2"
  },
  "language_info": {
   "codemirror_mode": {
    "name": "ipython",
    "version": 2
   },
   "file_extension": ".py",
   "mimetype": "text/x-python",
   "name": "python",
   "nbconvert_exporter": "python",
   "pygments_lexer": "ipython2",
   "version": "2.7.13"
  }
 },
 "nbformat": 4,
 "nbformat_minor": 2
}
