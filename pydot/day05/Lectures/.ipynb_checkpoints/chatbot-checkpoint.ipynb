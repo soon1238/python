{
 "cells": [
  {
   "cell_type": "code",
   "execution_count": 14,
   "metadata": {},
   "outputs": [],
   "source": [
    "import requests\n",
    "import bs4\n",
    "# url = 'http://www.moneycontrol.com/mutualfundindia/evaluate/'\n",
    "url1 = 'http://linux-training.be/index.php?nav=fundamentals'\n",
    "resp = requests.get(url1).text\n",
    "soup = bs4.BeautifulSoup(resp, 'html.parser')\n",
    "base_urls =  soup.find_all('a', {'class': 'button'})\n",
    "base_urls_links = []\n",
    "\n",
    "for index, url in enumerate(base_urls):\n",
    "    if index > 4:\n",
    "        base_urls_links.append(url.get('href'))\n"
   ]
  },
  {
   "cell_type": "code",
   "execution_count": 16,
   "metadata": {},
   "outputs": [
    {
     "name": "stdout",
     "output_type": "stream",
     "text": [
      "About to start scraping the url: http://linux-training.be/index.php?nav=fundamentals \n",
      "About to start scraping the url: http://linux-training.be/index.php?nav=sysadmin \n",
      "About to start scraping the url: http://linux-training.be/index.php?nav=servers \n",
      "About to start scraping the url: http://linux-training.be/index.php?nav=storage \n",
      "About to start scraping the url: http://linux-training.be/index.php?nav=security \n",
      "About to start scraping the url: http://linux-training.be/index.php?nav=networking \n"
     ]
    }
   ],
   "source": [
    "for each_url in base_urls_links:\n",
    "    print \"About to start scraping the url: %s \" % each_url\n",
    "    url = each_url\n",
    "    resp = requests.get(url).text\n",
    "    soup = bs4.BeautifulSoup(resp, 'html.parser')\n",
    "    print "
   ]
  },
  {
   "cell_type": "code",
   "execution_count": null,
   "metadata": {
    "collapsed": true
   },
   "outputs": [],
   "source": []
  }
 ],
 "metadata": {
  "kernelspec": {
   "display_name": "Python 2",
   "language": "python",
   "name": "python2"
  },
  "language_info": {
   "codemirror_mode": {
    "name": "ipython",
    "version": 2
   },
   "file_extension": ".py",
   "mimetype": "text/x-python",
   "name": "python",
   "nbconvert_exporter": "python",
   "pygments_lexer": "ipython2",
   "version": "2.7.12"
  }
 },
 "nbformat": 4,
 "nbformat_minor": 2
}
