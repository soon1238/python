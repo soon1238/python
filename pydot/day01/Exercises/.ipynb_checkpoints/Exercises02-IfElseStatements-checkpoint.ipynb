{
 "cells": [
  {
   "cell_type": "markdown",
   "metadata": {},
   "source": [
    "## Exercise 1"
   ]
  },
  {
   "cell_type": "markdown",
   "metadata": {},
   "source": [
    "Write a program to prompt the user for hours and rate per hour to compute gross pay.Take into account that the factory gives the employee 1.5 times the hourly rate for hours worked above 40 hours.\n",
    "\n",
    "Enter Hours: 45\n",
    "Rate: 10\n",
    "Pay: 475.0"
   ]
  },
  {
   "cell_type": "code",
   "execution_count": 12,
   "metadata": {},
   "outputs": [
    {
     "name": "stdout",
     "output_type": "stream",
     "text": [
      "enter hours work :30\n",
      "Pay :300\n"
     ]
    }
   ],
   "source": [
    "hours = int (raw_input(\"enter hours work :\"))\n",
    "rate=10\n",
    "if (hours >40):\n",
    "    pay= hours*10 + (hours-40)*0.5*10\n",
    "else:\n",
    "    pay = hours*10\n",
    "#print (\"temp in Fabrenheit: %d\" %(num_c*9/5 +32))\n",
    "print (\"Pay :%d\" % pay)"
   ]
  },
  {
   "cell_type": "markdown",
   "metadata": {},
   "source": [
    "## Exercise 2"
   ]
  },
  {
   "cell_type": "raw",
   "metadata": {
    "collapsed": true
   },
   "source": [
    "Write a program to prompt for a score between 0.0 and 1.0. If the core is out of range print an error. If the score is between 0.0 and 1.0, print a grade using the following table:\n",
    "\n",
    "Score Grade\n",
    ">= 0.9 A\n",
    ">= 0.8 B\n",
    ">= 0.7 C\n",
    ">= 0.6 D\n",
    "< 0.6 F"
   ]
  },
  {
   "cell_type": "code",
   "execution_count": 2,
   "metadata": {},
   "outputs": [
    {
     "name": "stdout",
     "output_type": "stream",
     "text": [
      "enter a score.9\n",
      "A\n"
     ]
    }
   ],
   "source": [
    "score=float(raw_input(\"enter a score\"))\n",
    "if (score <0.0 or score >1.0):\n",
    "    print (\"ERROR!\")\n",
    "elif (score <0.6):\n",
    "    print (\"F\")\n",
    "elif (score <0.7):\n",
    "    print (\"D\")\n",
    "elif (score <0.8):\n",
    "    print (\"C\")\n",
    "elif (score <0.9):\n",
    "    print (\"B\")\n",
    "else:\n",
    "    print (\"A\")\n",
    "\n",
    "    "
   ]
  },
  {
   "cell_type": "markdown",
   "metadata": {},
   "source": [
    "## Exercise 3"
   ]
  },
  {
   "cell_type": "raw",
   "metadata": {
    "collapsed": true
   },
   "source": [
    "Write a program that ask for a number to the user and clasifies it:\n",
    "\n",
    "number <2 SMALL\n",
    "number <10 MEDIUM\n",
    "number rest LARGE"
   ]
  },
  {
   "cell_type": "code",
   "execution_count": 4,
   "metadata": {},
   "outputs": [
    {
     "name": "stdout",
     "output_type": "stream",
     "text": [
      "enter a number10\n",
      "LARGE\n"
     ]
    }
   ],
   "source": [
    "num=int(raw_input(\"enter a number\"))\n",
    "if num <2:\n",
    "    print(\"SMALL\")\n",
    "elif num<10:\n",
    "    print (\"MEDIUM\")\n",
    "else:\n",
    "    print (\"LARGE\")\n"
   ]
  },
  {
   "cell_type": "code",
   "execution_count": null,
   "metadata": {
    "collapsed": true
   },
   "outputs": [],
   "source": []
  }
 ],
 "metadata": {
  "kernelspec": {
   "display_name": "Python 2",
   "language": "python",
   "name": "python2"
  },
  "language_info": {
   "codemirror_mode": {
    "name": "ipython",
    "version": 2
   },
   "file_extension": ".py",
   "mimetype": "text/x-python",
   "name": "python",
   "nbconvert_exporter": "python",
   "pygments_lexer": "ipython2",
   "version": "2.7.13"
  }
 },
 "nbformat": 4,
 "nbformat_minor": 2
}
