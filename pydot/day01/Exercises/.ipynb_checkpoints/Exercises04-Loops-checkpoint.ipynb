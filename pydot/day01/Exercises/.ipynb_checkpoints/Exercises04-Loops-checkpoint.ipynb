{
 "cells": [
  {
   "cell_type": "markdown",
   "metadata": {},
   "source": [
    "## Exercise 1 "
   ]
  },
  {
   "cell_type": "markdown",
   "metadata": {},
   "source": [
    "Feel free to look at the answer first. This exercise contains some new concepts. \n",
    "\n",
    "Write a program that generates a random number (0-10) and ask you to guess it. You have three asserts.\n",
    "\n",
    "Define a random_number with randit between 0-10.\n",
    "Initialize guesses_left to 3.\n",
    "Use a while loop to let the user keep guessing so long as guesses_left is greater than zero.\n",
    "Ask the user for their guess, just like the second example above.\n",
    "If they guess correctly, print 'You win!' and break. Decrement guesses_left by one.\n",
    "Use an else: case after your while loop to print:You lose."
   ]
  },
  {
   "cell_type": "code",
   "execution_count": 11,
   "metadata": {},
   "outputs": [
    {
     "name": "stdout",
     "output_type": "stream",
     "text": [
      "value to be guess: 8\n",
      "enter a number7\n",
      "7\n",
      "enter a number6\n",
      "6\n",
      "enter a number5\n",
      "5\n"
     ]
    }
   ],
   "source": [
    "import random\n",
    "value = random.randint(1, 10)\n",
    "#print ('value to be guess: %d' %value)\n",
    "guesses_left=3\n",
    "while(guesses_left>0):\n",
    "    guess=int(raw_input(\"enter a number\"))\n",
    "    print(guess)\n",
    "    if (guess==value):\n",
    "        print(\"You win\")\n",
    "        break\n",
    "    else:\n",
    "        guesses_left-=1\n"
   ]
  },
  {
   "cell_type": "markdown",
   "metadata": {},
   "source": [
    "## Exercise 2"
   ]
  },
  {
   "cell_type": "markdown",
   "metadata": {},
   "source": [
    "Create a for loop that prompts the user for a hobby 3 times, then appends each one to hobbies. (A list)"
   ]
  },
  {
   "cell_type": "code",
   "execution_count": 19,
   "metadata": {},
   "outputs": [
    {
     "name": "stdout",
     "output_type": "stream",
     "text": [
      "enter your hobby :read\n",
      "enter your hobby :sleep\n",
      "enter your hobby :snore\n",
      "read\n",
      "sleep\n",
      "snore\n"
     ]
    }
   ],
   "source": [
    "hobbies=[]\n",
    "#for (i=0, i<3,i++)\n",
    "for i in range(3):\n",
    "    hobby=raw_input(\"enter your hobby :\")\n",
    "    hobbies.append(hobby)\n",
    "    \n",
    "for x in hobbies:\n",
    "    print x\n"
   ]
  },
  {
   "cell_type": "markdown",
   "metadata": {},
   "source": [
    "## Exercise 3"
   ]
  },
  {
   "cell_type": "raw",
   "metadata": {},
   "source": [
    "Remember: The , character after our print statement means that our next print statement keeps printing on the same line. Let's filter out the letter 'A' from our string.\n",
    "\n",
    "phrase = \"A bird in the hand...\"\n",
    "Do the following for each character in the phrase.\n",
    "- If char is an 'A' or char is an 'a', print 'X', instead of the char. Make sure to include the trailing comma.\n",
    "- Otherwise (else:), please print char, with the trailing comma."
   ]
  },
  {
   "cell_type": "code",
   "execution_count": 24,
   "metadata": {},
   "outputs": [
    {
     "name": "stdout",
     "output_type": "stream",
     "text": [
      "X   b i r d   i n   t h e   h X n d . . .\n"
     ]
    }
   ],
   "source": [
    "phrase = \"A bird in the hand...\"\n",
    "for char in phrase:\n",
    "    if (char.lower()=='a'):\n",
    "        print ('X'),\n",
    "    else:\n",
    "        print (char),\n",
    "        \n",
    "    "
   ]
  },
  {
   "cell_type": "markdown",
   "metadata": {},
   "source": [
    "## Exercise 4"
   ]
  },
  {
   "cell_type": "raw",
   "metadata": {},
   "source": [
    "Let's try a factorial problem. To calculate the factorial of a non-negative integer x, just multiply all the integers from 1 through x. For example: 3! is equal to 123"
   ]
  },
  {
   "cell_type": "code",
   "execution_count": 3,
   "metadata": {},
   "outputs": [
    {
     "name": "stdout",
     "output_type": "stream",
     "text": [
      "720\n",
      "720\n"
     ]
    }
   ],
   "source": [
    "\n",
    "\n",
    "def factorial(x):\n",
    "    result=1\n",
    "    for i in range(x):\n",
    "        result=(i+1)*result\n",
    "    return result\n",
    "\n",
    "\n",
    "print (factorial(6))\n",
    "import math\n",
    "print (math.factorial(6))"
   ]
  },
  {
   "cell_type": "code",
   "execution_count": null,
   "metadata": {
    "collapsed": true
   },
   "outputs": [],
   "source": []
  }
 ],
 "metadata": {
  "kernelspec": {
   "display_name": "Python 2",
   "language": "python",
   "name": "python2"
  },
  "language_info": {
   "codemirror_mode": {
    "name": "ipython",
    "version": 2
   },
   "file_extension": ".py",
   "mimetype": "text/x-python",
   "name": "python",
   "nbconvert_exporter": "python",
   "pygments_lexer": "ipython2",
   "version": "2.7.13"
  }
 },
 "nbformat": 4,
 "nbformat_minor": 2
}
