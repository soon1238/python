{
 "cells": [
  {
   "cell_type": "code",
   "execution_count": 1,
   "metadata": {},
   "outputs": [
    {
     "name": "stdout",
     "output_type": "stream",
     "text": [
      "Day4.ipynb\n",
      "Exercise\n",
      "Lectures\n",
      "\n"
     ]
    }
   ],
   "source": [
    "import subprocess\n",
    "print(subprocess.check_output([\"ls\", \"-l\"],shell=True))"
   ]
  },
  {
   "cell_type": "code",
   "execution_count": 8,
   "metadata": {},
   "outputs": [
    {
     "name": "stdout",
     "output_type": "stream",
     "text": [
      "import json\n",
      "response = {'name': 'stackup', 'url': 'www.stackup.sg'}\n",
      "print json.dumps(response, indent=4, separators=(',', ': '))\n",
      "{\n",
      "    \"url\": \"www.stackup.sg\",\n",
      "    \"name\": \"stackup\"\n",
      "}\n",
      "\n",
      "stackup\n",
      "www.stackup.sg\n"
     ]
    }
   ],
   "source": [
    "import requests\n",
    "import subprocess\n",
    "import json\n",
    "\n",
    "url=\"https://goo.gl/OVrc1z\"\n",
    "content=requests.get(url).text\n",
    "print content\n",
    "\n",
    "with open(\"runme.py\",\"w\") as f:\n",
    "    f.write(content)\n",
    "out=subprocess.check_output([\"python runme.py\"],shell=True)\n",
    "print out\n",
    "\n",
    "d=json.loads(out)\n",
    "print (d[\"name\"])\n",
    "print (d[\"url\"])\n",
    "    \n",
    "    \n"
   ]
  },
  {
   "cell_type": "code",
   "execution_count": null,
   "metadata": {
    "collapsed": true
   },
   "outputs": [],
   "source": []
  }
 ],
 "metadata": {
  "kernelspec": {
   "display_name": "Python 2",
   "language": "python",
   "name": "python2"
  },
  "language_info": {
   "codemirror_mode": {
    "name": "ipython",
    "version": 2
   },
   "file_extension": ".py",
   "mimetype": "text/x-python",
   "name": "python",
   "nbconvert_exporter": "python",
   "pygments_lexer": "ipython2",
   "version": "2.7.13"
  }
 },
 "nbformat": 4,
 "nbformat_minor": 2
}
