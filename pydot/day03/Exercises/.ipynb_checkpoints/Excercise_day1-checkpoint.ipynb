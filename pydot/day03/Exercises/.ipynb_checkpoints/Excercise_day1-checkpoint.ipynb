{
 "cells": [
  {
   "cell_type": "markdown",
   "metadata": {},
   "source": [
    "## This is the excercise notebook for day 1.\n",
    "## Topics covered.\n",
    "- excercise"
   ]
  },
  {
   "cell_type": "code",
   "execution_count": null,
   "metadata": {
    "collapsed": true
   },
   "outputs": [],
   "source": [
    "## CONTEXT\n",
    "#WE HAVE SOME FILES IN A FOLDER CALLED DAY1.\n",
    "#WE WANT TO COPY ALL THESE CONTENTS OF DAY1 TO MULITPLE FOLDERS [DAY2,DAY3....DAY8]\n",
    "#WRITE A PYTHON PROGRAM TO DO\n",
    "\n",
    "## OBJECTIVE\n",
    "\n",
    "#WE WANT TO COPY FILES FROM SRC FOLDER TO MULTIPLE DES FOLDER\n",
    "\n",
    "## HOW TO DO\n",
    "\n",
    "#TODO1\n",
    "#IMPORT SHUTIL\n",
    "#TODO2\n",
    "#CREATE A LIST OF DESTINATOR FOLDER\n",
    "#TODO3\n",
    "#CREATE A VARIABLE FOR SRC FOLDER FULL PATH\n",
    "#TODO4\n",
    "#LOOP THROUGH EACH DEST FOLDER\n",
    "#    USE SHUTIL TO COPY SRC TO DST"
   ]
  }
 ],
 "metadata": {
  "kernelspec": {
   "display_name": "Python 2",
   "language": "python",
   "name": "python2"
  },
  "language_info": {
   "codemirror_mode": {
    "name": "ipython",
    "version": 2
   },
   "file_extension": ".py",
   "mimetype": "text/x-python",
   "name": "python",
   "nbconvert_exporter": "python",
   "pygments_lexer": "ipython2",
   "version": "2.7.13"
  }
 },
 "nbformat": 4,
 "nbformat_minor": 2
}
